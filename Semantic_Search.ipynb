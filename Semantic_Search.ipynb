{
 "cells": [
  {
   "cell_type": "code",
   "execution_count": 1,
   "id": "e1e45256-2530-470c-bad8-5855a00bda73",
   "metadata": {},
   "outputs": [],
   "source": [
    "import json\n",
    "from sklearn.feature_extraction.text import TfidfVectorizer\n",
    "from sklearn.metrics.pairwise import linear_kernel"
   ]
  },
  {
   "cell_type": "code",
   "execution_count": 2,
   "id": "467bfc84-a724-4974-a7f6-c588f277e391",
   "metadata": {},
   "outputs": [],
   "source": [
    "# 1. Load the data points\n",
    "with open('intents.json', 'r') as f:\n",
    "    intents_data = json.load(f)"
   ]
  },
  {
   "cell_type": "code",
   "execution_count": 4,
   "id": "be36f7fb-488b-4ce0-a288-1a7c42d3e8c2",
   "metadata": {},
   "outputs": [],
   "source": [
    "# 2. Build the corpus from example utterances and associate each utterance with an intent\n",
    "corpus = []\n",
    "intent_mapping = []\n",
    "\n",
    "for intent in intents_data:\n",
    "    for example in intent[\"examples\"]:\n",
    "        corpus.append(example)\n",
    "        intent_mapping.append(intent[\"name\"])\n"
   ]
  },
  {
   "cell_type": "code",
   "execution_count": 10,
   "id": "ff071906-11fa-49c8-b40d-acf43582ca41",
   "metadata": {},
   "outputs": [],
   "source": [
    "# 3. Vectorize the corpus using TF-IDF\n",
    "vectorizer = TfidfVectorizer(stop_words='english')\n",
    "tfidf_matrix = vectorizer.fit_transform(corpus)"
   ]
  },
  {
   "cell_type": "code",
   "execution_count": 14,
   "id": "e04162f9-b4e1-4f85-b6fb-6dbfd16248e7",
   "metadata": {},
   "outputs": [],
   "source": [
    "# 4. Semantic Search function\n",
    "def match_intent(utterance):\n",
    "    utterance_vec = vectorizer.transform([utterance])\n",
    "    cosine_similarities = linear_kernel(utterance_vec, tfidf_matrix).flatten()\n",
    "    # Find the most similar utterance in the corpus\n",
    "    matched_index = cosine_similarities.argmax()\n",
    "    return intent_mapping[matched_index]\n"
   ]
  },
  {
   "cell_type": "code",
   "execution_count": 19,
   "id": "8f320d97-a3f2-48be-9651-248a3ffc040c",
   "metadata": {},
   "outputs": [
    {
     "name": "stdout",
     "output_type": "stream",
     "text": [
      "book-a-ticket\n"
     ]
    }
   ],
   "source": [
    "# Test\n",
    "utterance = \"I want to book a ticket to Delhi.\"\n",
    "print(match_intent(utterance))"
   ]
  },
  {
   "cell_type": "code",
   "execution_count": 21,
   "id": "d1fdeb8b-edcc-4cd9-a1d3-8dc023d3d15c",
   "metadata": {},
   "outputs": [
    {
     "name": "stdout",
     "output_type": "stream",
     "text": [
      "Online-Tutoring\n"
     ]
    }
   ],
   "source": [
    "# Test\n",
    "utterance = \"I want to learn algebra\"\n",
    "print(match_intent(utterance))"
   ]
  },
  {
   "cell_type": "code",
   "execution_count": null,
   "id": "bc2dabb1-18af-4b96-8bfb-8a1604331871",
   "metadata": {},
   "outputs": [],
   "source": []
  }
 ],
 "metadata": {
  "kernelspec": {
   "display_name": "Python 3",
   "language": "python",
   "name": "python3"
  },
  "language_info": {
   "codemirror_mode": {
    "name": "ipython",
    "version": 3
   },
   "file_extension": ".py",
   "mimetype": "text/x-python",
   "name": "python",
   "nbconvert_exporter": "python",
   "pygments_lexer": "ipython3",
   "version": "3.8.10"
  }
 },
 "nbformat": 4,
 "nbformat_minor": 5
}

{
 "cells": [
  {
   "cell_type": "markdown",
   "id": "0b2e4a04-a090-4b57-a04e-dc573a891a0c",
   "metadata": {},
   "source": [
    "# Intent Curation"
   ]
  },
  {
   "cell_type": "code",
   "execution_count": 195,
   "id": "cb4c1467-5b0e-4d04-a098-144e39faa4c2",
   "metadata": {},
   "outputs": [],
   "source": [
    "import warnings\n",
    "warnings.filterwarnings(\"ignore\")"
   ]
  },
  {
   "cell_type": "code",
   "execution_count": null,
   "id": "f21c2bc6-68c8-4215-ab05-89a683dd2a18",
   "metadata": {
    "scrolled": true
   },
   "outputs": [],
   "source": [
    "!pip install git+https://github.com/huggingface/transformers.git@main accelerate"
   ]
  },
  {
   "cell_type": "code",
   "execution_count": 70,
   "id": "ee1c185d-59e8-491a-9c2f-8b3601d85ea3",
   "metadata": {},
   "outputs": [],
   "source": [
    "from transformers import AutoTokenizer, AutoModelForCausalLM\n",
    "import transformers\n",
    "import torch\n",
    "import random"
   ]
  },
  {
   "cell_type": "code",
   "execution_count": 22,
   "id": "df35e268-6328-45b2-9c74-c9c248283d4c",
   "metadata": {},
   "outputs": [],
   "source": [
    "### Select the language model\n",
    "model_name = \"codellama/CodeLlama-13b-Instruct-hf\""
   ]
  },
  {
   "cell_type": "code",
   "execution_count": 23,
   "id": "991a8edb-6c85-4b3d-b524-20673e45972a",
   "metadata": {},
   "outputs": [
    {
     "data": {
      "application/vnd.jupyter.widget-view+json": {
       "model_id": "2c240ec38da64800a0a614beb04cebac",
       "version_major": 2,
       "version_minor": 0
      },
      "text/plain": [
       "Loading checkpoint shards:   0%|          | 0/3 [00:00<?, ?it/s]"
      ]
     },
     "metadata": {},
     "output_type": "display_data"
    }
   ],
   "source": [
    "device = \"cuda\"\n",
    "tokenizer = AutoTokenizer.from_pretrained(model_name)\n",
    "model = AutoModelForCausalLM.from_pretrained(model_name,\n",
    "                                device_map='auto',\n",
    "                                torch_dtype=torch.float16,\n",
    "                                )"
   ]
  },
  {
   "cell_type": "code",
   "execution_count": 24,
   "id": "d531911b-4ee2-41c0-8b02-c432473d0447",
   "metadata": {},
   "outputs": [
    {
     "name": "stdout",
     "output_type": "stream",
     "text": [
      "16384\n"
     ]
    }
   ],
   "source": [
    "print(model.config.max_position_embeddings)"
   ]
  },
  {
   "cell_type": "code",
   "execution_count": 25,
   "id": "de8af680-16db-42be-8c0b-b0117c83f6df",
   "metadata": {},
   "outputs": [
    {
     "name": "stdout",
     "output_type": "stream",
     "text": [
      "LlamaConfig {\n",
      "  \"_name_or_path\": \"codellama/CodeLlama-13b-Instruct-hf\",\n",
      "  \"architectures\": [\n",
      "    \"LlamaForCausalLM\"\n",
      "  ],\n",
      "  \"attention_bias\": false,\n",
      "  \"bos_token_id\": 1,\n",
      "  \"eos_token_id\": 2,\n",
      "  \"hidden_act\": \"silu\",\n",
      "  \"hidden_size\": 5120,\n",
      "  \"initializer_range\": 0.02,\n",
      "  \"intermediate_size\": 13824,\n",
      "  \"max_position_embeddings\": 16384,\n",
      "  \"model_type\": \"llama\",\n",
      "  \"num_attention_heads\": 40,\n",
      "  \"num_hidden_layers\": 40,\n",
      "  \"num_key_value_heads\": 40,\n",
      "  \"pretraining_tp\": 1,\n",
      "  \"rms_norm_eps\": 1e-05,\n",
      "  \"rope_scaling\": null,\n",
      "  \"rope_theta\": 1000000,\n",
      "  \"tie_word_embeddings\": false,\n",
      "  \"torch_dtype\": \"float16\",\n",
      "  \"transformers_version\": \"4.35.0.dev0\",\n",
      "  \"use_cache\": true,\n",
      "  \"vocab_size\": 32016\n",
      "}\n",
      "\n"
     ]
    }
   ],
   "source": [
    "print(model.config)"
   ]
  },
  {
   "cell_type": "code",
   "execution_count": 190,
   "id": "77b74817-2616-4287-87a5-232eb8292be7",
   "metadata": {},
   "outputs": [],
   "source": [
    "def generate_response(full_prompt, temp):\n",
    "   \n",
    "    torch.cuda.empty_cache()\n",
    "\n",
    "    tokens = tokenizer.encode(full_prompt, add_special_tokens=False)\n",
    "\n",
    "    prompt_tokens = []\n",
    "\n",
    "    dialog_tokens = [tokenizer(\n",
    "        full_prompt,\n",
    "        return_tensors=\"pt\",\n",
    "        add_special_tokens=True\n",
    "    ).input_ids.to(\"cuda\")]\n",
    "        \n",
    "    prompt_tokens.append(torch.cat(dialog_tokens, dim=-1))\n",
    "\n",
    "    input_ids = prompt_tokens[0]\n",
    "\n",
    "    generation_output = model.generate(\n",
    "        input_ids=input_ids,\n",
    "        do_sample=True,\n",
    "        max_new_tokens= 1500,\n",
    "        temperature=temp,\n",
    "        eos_token_id=tokenizer.eos_token_id,\n",
    "        top_p=0.9\n",
    "    );\n",
    "\n",
    "    new_tokens = generation_output[0][input_ids.shape[-1]:]\n",
    "    new_assistant_response =  tokenizer.decode(new_tokens).strip();\n",
    "\n",
    "    return new_assistant_response"
   ]
  },
  {
   "cell_type": "code",
   "execution_count": 191,
   "id": "6575b11b-a097-4546-b60d-abe15679b897",
   "metadata": {},
   "outputs": [],
   "source": [
    "def main_prompter(input_prompt):\n",
    "\n",
    "    B_INST, E_INST = \"[INST]\", \"[/INST]\"\n",
    "    B_SYS, E_SYS = \"<<SYS>>\\n\", \"\\n<</SYS>>\\n\\n\"\n",
    "\n",
    "    DEFAULT_SYSTEM_PROMPT = 'You are a helpful assistant. Provide help in data points creation. Provide output in same format as provided in the input example'\n",
    "    SYSTEM_PROMPT = DEFAULT_SYSTEM_PROMPT\n",
    "\n",
    "    dialogs = [{\"role\": \"system\", \"content\": SYSTEM_PROMPT}]\n",
    "\n",
    "    dialogs.append({\"role\": \"user\", \"content\": input_prompt})\n",
    "    \n",
    "    if dialogs[0][\"role\"] != \"system\":\n",
    "        dialogs = [\n",
    "            {\n",
    "                \"role\": \"system\",\n",
    "                \"content\": SYSTEM_PROMPT,\n",
    "            }\n",
    "        ] + dialogs\n",
    "\n",
    "    full_prompt = f\"{B_INST} {B_SYS}{(dialogs[0]['content']).strip()}{E_SYS}{(dialogs[1]['content']).strip()} {E_INST}\"\n",
    "    \n",
    "    return full_prompt"
   ]
  },
  {
   "cell_type": "code",
   "execution_count": 121,
   "id": "7987800f-d114-49b2-a61a-cda3c8717310",
   "metadata": {},
   "outputs": [],
   "source": [
    "intents = ['flight-cancellation', 'check-reservation', 'book-a-ticket','Shipping-Inquiry','Insurance Info','Medical Appointment Scheduling', 'Restaurant Reservation', 'Job Application Status', 'Product Warranty Information', 'Bank Account Balance', 'Hotel Room Availability', 'Weather Forecast', 'Car Rental Reservation', 'Educational Course Enrollment', 'Technical Support']"
   ]
  },
  {
   "cell_type": "code",
   "execution_count": 122,
   "id": "5c212eb4-1077-4d24-bfad-8ff933a8c247",
   "metadata": {},
   "outputs": [
    {
     "name": "stdout",
     "output_type": "stream",
     "text": [
      "15\n"
     ]
    }
   ],
   "source": [
    "print(len(intents))"
   ]
  },
  {
   "cell_type": "code",
   "execution_count": 134,
   "id": "6abdc9c3-3dbd-482b-b490-b8b2a94945a2",
   "metadata": {},
   "outputs": [
    {
     "name": "stderr",
     "output_type": "stream",
     "text": [
      "The attention mask and the pad token id were not set. As a consequence, you may observe unexpected behavior. Please pass your input's `attention_mask` to obtain reliable results.\n",
      "Setting `pad_token_id` to `eos_token_id`:2 for open-end generation.\n"
     ]
    },
    {
     "name": "stdout",
     "output_type": "stream",
     "text": [
      "Generate 35 new, different and diverse intents. Examples of various intents are given in the below list\n",
      " ['flight-cancellation', 'check-reservation', 'book-a-ticket', 'Shipping-Inquiry', 'Insurance Info', 'Medical Appointment Scheduling', 'Restaurant Reservation', 'Job Application Status', 'Product Warranty Information', 'Bank Account Balance', 'Hotel Room Availability', 'Weather Forecast', 'Car Rental Reservation', 'Educational Course Enrollment', 'Technical Support']\n",
      " All intents must be unique.\n",
      " Each intent should consists of minimum 2 and maximum 3 words only.\n",
      "Dont generate same topics which are mentioned in the examples.\n",
      "Provide list of new intents in pyhton list format \n",
      "Entered main_prompter ...\n",
      "Entered the generator function\n"
     ]
    },
    {
     "data": {
      "text/plain": [
       "\"Sure, here are 35 new, different and diverse intents:\\n\\n['Travel Agent Services', 'Tourism Packages', 'Motorcycle Rental', 'Golf Course Reservations', 'Ski Resort Bookings', 'Luxury Car Rentals', 'Yacht Charter', 'Private Pilot Lessons', 'Airplane Charter', 'Budget Travel Packages', 'All-Inclusive Vacations', 'Mountain Biking Rentals', 'Skydiving Excursions', 'Helicopter Rides', 'Cruise Ship Reservations', 'Food and Wine Tours', 'Vineyard Tours', 'Private Beach Club Rentals', 'Fishing Charters', 'Private Island Resorts', 'Wine Tastings', 'Cultural Tours', 'Adventure Parks', 'Camping Trips', 'Nature Photography Trips', 'Ziplining Adventures', 'Motorcycle Excursions', 'Private Boat Charters', 'Private Jet Reservations', 'Airport Taxis', 'Sightseeing Tours', 'Personalized Travel Plans']</s>\""
      ]
     },
     "execution_count": 134,
     "metadata": {},
     "output_type": "execute_result"
    }
   ],
   "source": [
    "instruction = \"Generate 35 new, different and diverse intents. Examples of various intents are given in the below list\\n \" + str(intents) + \"\\n All intents must be unique.\\n Each intent should consists of minimum 2 and maximum 3 words only.\\nDont generate same topics which are mentioned in the examples.\\nProvide list of new intents in pyhton list format \"\n",
    "print(instruction)\n",
    "full_prompt = main_prompter(input_prompt = instruction)\n",
    "response = generate_response(full_prompt, temp = 1.2)\n",
    "response"
   ]
  },
  {
   "cell_type": "code",
   "execution_count": 139,
   "id": "c1a21237-7f5b-4ca8-81bb-cf33c09b0b2a",
   "metadata": {},
   "outputs": [
    {
     "data": {
      "text/plain": [
       "['Travel-Agent-Services',\n",
       " 'Tourism-Packages',\n",
       " 'Motorcycle-Rental',\n",
       " 'Golf-Course-Reservations',\n",
       " 'Ski-Resort-Bookings',\n",
       " 'Luxury-Car-Rentals',\n",
       " 'Yacht-Charter',\n",
       " 'Private-Pilot-Lessons',\n",
       " 'Airplane-Charter',\n",
       " 'Budget-Travel-Packages',\n",
       " 'All-Inclusive-Vacations',\n",
       " 'Mountain-Biking-Rentals',\n",
       " 'Skydiving-Excursions',\n",
       " 'Helicopter-Rides',\n",
       " 'Cruise-Ship-Reservations',\n",
       " 'Food-and-Wine-Tours',\n",
       " 'Vineyard-Tours',\n",
       " 'Private-Beach-Club-Rentals',\n",
       " 'Fishing-Charters',\n",
       " 'Private-Island-Resorts',\n",
       " 'Wine-Tastings',\n",
       " 'Cultural-Tours',\n",
       " 'Adventure-Parks',\n",
       " 'Camping-Trips',\n",
       " 'Nature-Photography-Trips',\n",
       " 'Ziplining-Adventures',\n",
       " 'Motorcycle-Excursions',\n",
       " 'Private-Boat-Charters',\n",
       " 'Private-Jet-Reservations',\n",
       " 'Airport-Taxis',\n",
       " 'Sightseeing-Tours',\n",
       " 'Personalized-Travel-Plans']"
      ]
     },
     "execution_count": 139,
     "metadata": {},
     "output_type": "execute_result"
    }
   ],
   "source": [
    "new_intents = response.replace(']</s>',\"\").split('[')[-1].split(',')\n",
    "new_intents = [intent.strip().replace(' ','-').replace('\\n]','')[1:-1] for intent in new_intents]\n",
    "new_intents"
   ]
  },
  {
   "cell_type": "code",
   "execution_count": 140,
   "id": "6d2792da-2b4d-4ca6-b126-80e391e04d43",
   "metadata": {},
   "outputs": [
    {
     "data": {
      "text/plain": [
       "32"
      ]
     },
     "execution_count": 140,
     "metadata": {},
     "output_type": "execute_result"
    }
   ],
   "source": [
    "len(new_intents)"
   ]
  },
  {
   "cell_type": "code",
   "execution_count": 141,
   "id": "7ce205fc-f8d5-47f8-a589-df60fae8d0d7",
   "metadata": {},
   "outputs": [
    {
     "data": {
      "text/plain": [
       "47"
      ]
     },
     "execution_count": 141,
     "metadata": {},
     "output_type": "execute_result"
    }
   ],
   "source": [
    "intents.extend(new_intents)\n",
    "len(intents)"
   ]
  },
  {
   "cell_type": "code",
   "execution_count": 142,
   "id": "15123158-20ee-40c8-ac68-b892b3b81567",
   "metadata": {},
   "outputs": [
    {
     "data": {
      "text/plain": [
       "['flight-cancellation',\n",
       " 'check-reservation',\n",
       " 'book-a-ticket',\n",
       " 'Shipping-Inquiry',\n",
       " 'Insurance Info',\n",
       " 'Medical Appointment Scheduling',\n",
       " 'Restaurant Reservation',\n",
       " 'Job Application Status',\n",
       " 'Product Warranty Information',\n",
       " 'Bank Account Balance',\n",
       " 'Hotel Room Availability',\n",
       " 'Weather Forecast',\n",
       " 'Car Rental Reservation',\n",
       " 'Educational Course Enrollment',\n",
       " 'Technical Support',\n",
       " 'Travel-Agent-Services',\n",
       " 'Tourism-Packages',\n",
       " 'Motorcycle-Rental',\n",
       " 'Golf-Course-Reservations',\n",
       " 'Ski-Resort-Bookings',\n",
       " 'Luxury-Car-Rentals',\n",
       " 'Yacht-Charter',\n",
       " 'Private-Pilot-Lessons',\n",
       " 'Airplane-Charter',\n",
       " 'Budget-Travel-Packages',\n",
       " 'All-Inclusive-Vacations',\n",
       " 'Mountain-Biking-Rentals',\n",
       " 'Skydiving-Excursions',\n",
       " 'Helicopter-Rides',\n",
       " 'Cruise-Ship-Reservations',\n",
       " 'Food-and-Wine-Tours',\n",
       " 'Vineyard-Tours',\n",
       " 'Private-Beach-Club-Rentals',\n",
       " 'Fishing-Charters',\n",
       " 'Private-Island-Resorts',\n",
       " 'Wine-Tastings',\n",
       " 'Cultural-Tours',\n",
       " 'Adventure-Parks',\n",
       " 'Camping-Trips',\n",
       " 'Nature-Photography-Trips',\n",
       " 'Ziplining-Adventures',\n",
       " 'Motorcycle-Excursions',\n",
       " 'Private-Boat-Charters',\n",
       " 'Private-Jet-Reservations',\n",
       " 'Airport-Taxis',\n",
       " 'Sightseeing-Tours',\n",
       " 'Personalized-Travel-Plans']"
      ]
     },
     "execution_count": 142,
     "metadata": {},
     "output_type": "execute_result"
    }
   ],
   "source": [
    "intents"
   ]
  },
  {
   "cell_type": "code",
   "execution_count": 146,
   "id": "932c43bf-d695-473a-b420-cec5bd4be723",
   "metadata": {},
   "outputs": [
    {
     "name": "stderr",
     "output_type": "stream",
     "text": [
      "The attention mask and the pad token id were not set. As a consequence, you may observe unexpected behavior. Please pass your input's `attention_mask` to obtain reliable results.\n",
      "Setting `pad_token_id` to `eos_token_id`:2 for open-end generation.\n"
     ]
    },
    {
     "name": "stdout",
     "output_type": "stream",
     "text": [
      "Generate 25 new, different and diverse intents. Examples of various intents are given in the below list\n",
      " ['Vineyard-Tours', 'Product Warranty Information', 'Airplane-Charter', 'Budget-Travel-Packages', 'Bank Account Balance', 'book-a-ticket', 'Medical Appointment Scheduling', 'Mountain-Biking-Rentals', 'Yacht-Charter', 'Ski-Resort-Bookings']\n",
      " All intents must be unique.\n",
      " Each intent should consists of minimum 2 and maximum 3 words only.\n",
      "Dont generate same topics which are mentioned in the examples.\n",
      "Provide list of new intents in pyhton list format \n",
      "Entered main_prompter ...\n",
      "Entered the generator function\n"
     ]
    },
    {
     "data": {
      "text/plain": [
       "\"Here are 25 new intents that are different and diverse from the ones provided as examples:\\n\\n['Trip-Organization', 'Pet-Sitting-Services', 'Hotel-Room-Cleaning', 'Online-Tutoring', 'Teacher-Employment', 'Dental-Care-Plans', 'Household-Organization', 'Event-Planning-Services', 'Housing-Loan-Counseling', 'Food-Bank-Donation', 'Small-Business-Loans', 'Personal-Fitness-Training', 'Mental-Health-Support', 'Art-Tutoring', 'Transportation-Services', 'Home-Repair-Services', 'Medical-Billing-and-Coding', 'Child-Care-Services', 'Online-Translation-Services', 'Career-Coaching', 'Dietary-Supplement-Sales', 'Import-Export-Services', 'Personal-Financial-Planning', 'Travel-Insurance']</s>\""
      ]
     },
     "execution_count": 146,
     "metadata": {},
     "output_type": "execute_result"
    }
   ],
   "source": [
    "instruction = \"Generate 25 new, different and diverse intents. Examples of various intents are given in the below list\\n \" + str(random.sample(intents, 10)) + \"\\n All intents must be unique.\\n Each intent should consists of minimum 2 and maximum 3 words only.\\nDont generate same topics which are mentioned in the examples.\\nProvide list of new intents in pyhton list format \"\n",
    "print(instruction)\n",
    "full_prompt = main_prompter(input_prompt = instruction)\n",
    "response = generate_response(full_prompt, temp = 1.2)\n",
    "response"
   ]
  },
  {
   "cell_type": "code",
   "execution_count": 147,
   "id": "63d95be4-abd7-4766-bb8c-8052d594f1f1",
   "metadata": {},
   "outputs": [
    {
     "data": {
      "text/plain": [
       "['Trip-Organization',\n",
       " 'Pet-Sitting-Services',\n",
       " 'Hotel-Room-Cleaning',\n",
       " 'Online-Tutoring',\n",
       " 'Teacher-Employment',\n",
       " 'Dental-Care-Plans',\n",
       " 'Household-Organization',\n",
       " 'Event-Planning-Services',\n",
       " 'Housing-Loan-Counseling',\n",
       " 'Food-Bank-Donation',\n",
       " 'Small-Business-Loans',\n",
       " 'Personal-Fitness-Training',\n",
       " 'Mental-Health-Support',\n",
       " 'Art-Tutoring',\n",
       " 'Transportation-Services',\n",
       " 'Home-Repair-Services',\n",
       " 'Medical-Billing-and-Coding',\n",
       " 'Child-Care-Services',\n",
       " 'Online-Translation-Services',\n",
       " 'Career-Coaching',\n",
       " 'Dietary-Supplement-Sales',\n",
       " 'Import-Export-Services',\n",
       " 'Personal-Financial-Planning',\n",
       " 'Travel-Insurance']"
      ]
     },
     "execution_count": 147,
     "metadata": {},
     "output_type": "execute_result"
    }
   ],
   "source": [
    "new_intents = response.replace(']</s>',\"\").split('[')[-1].split(',')\n",
    "new_intents = [intent.strip().replace(' ','-').replace('\\n]','')[1:-1] for intent in new_intents]\n",
    "new_intents"
   ]
  },
  {
   "cell_type": "code",
   "execution_count": 148,
   "id": "d73e6258-a352-43f9-889b-420bcc5cb2e9",
   "metadata": {},
   "outputs": [
    {
     "data": {
      "text/plain": [
       "71"
      ]
     },
     "execution_count": 148,
     "metadata": {},
     "output_type": "execute_result"
    }
   ],
   "source": [
    "intents.extend(new_intents)\n",
    "len(intents)"
   ]
  },
  {
   "cell_type": "code",
   "execution_count": 153,
   "id": "68d77276-912f-4ad2-9fd4-056cb3922591",
   "metadata": {},
   "outputs": [
    {
     "name": "stderr",
     "output_type": "stream",
     "text": [
      "The attention mask and the pad token id were not set. As a consequence, you may observe unexpected behavior. Please pass your input's `attention_mask` to obtain reliable results.\n",
      "Setting `pad_token_id` to `eos_token_id`:2 for open-end generation.\n"
     ]
    },
    {
     "name": "stdout",
     "output_type": "stream",
     "text": [
      "Generate 30 new, different and diverse intents. Examples of various intents are given in the below list\n",
      " ['Cultural-Tours', 'Sightseeing-Tours', 'Household-Organization', 'Food-Bank-Donation', 'Trip-Organization', 'Dietary-Supplement-Sales', 'Dental-Care-Plans', 'Medical-Billing-and-Coding', 'Mental-Health-Support', 'All-Inclusive-Vacations']\n",
      " All intents must be unique.\n",
      " Each intent should consists of minimum 2 and maximum 3 words only.\n",
      "Dont generate same topics which are mentioned in the examples.\n",
      "Provide list of new intents in pyhton list format \n",
      "Entered main_prompter ...\n",
      "Entered the generator function\n"
     ]
    },
    {
     "data": {
      "text/plain": [
       "\"Here is a list of 30 new intents that are not included in the previous examples:\\n\\n1. 'Furniture-Assembly'\\n2. 'Meal-Planning'\\n3. 'Outdoor-Recreation'\\n4. 'Dietary-Restrictions'\\n5. 'Pet-Care'\\n6. 'Health-and-Wellness'\\n7. 'Covid-19-Support'\\n8. 'Home-Cleaning'\\n9. 'Gardening'\\n10. 'Aromatherapy'\\n11. 'Organic-Gardening'\\n12. 'Sustainable-Living'\\n13. 'Self-Care-Routines'\\n14. 'Mental-Health-Assessments'\\n15. 'Nutrition-Counseling'\\n16. 'Travel-Insurance'\\n17. 'Health-and-Safety-Tips'\\n18. 'Preparedness-Guides'\\n19. 'Crisis-Communication'\\n20. 'Mental-Health-First-Aid'\\n21. 'Disaster-Relief'\\n22. 'Community-Building'\\n23. 'Gratitude-Journals'\\n24. 'Goal-Setting'\\n25. 'Mindfulness-Exercises'\\n26. 'Natural-Remedies'\\n27. 'Personal-Finance-Planning'\\n28. 'Healthy-Eating-Recipes'\\n29. 'Stress-Management'\\n30. 'Emotional-Intelligence-Development'</s>\""
      ]
     },
     "execution_count": 153,
     "metadata": {},
     "output_type": "execute_result"
    }
   ],
   "source": [
    "instruction = \"Generate 30 new, different and diverse intents. Examples of various intents are given in the below list\\n \" + str(random.sample(intents, 10)) + \"\\n All intents must be unique.\\n Each intent should consists of minimum 2 and maximum 3 words only.\\nDont generate same topics which are mentioned in the examples.\\nProvide list of new intents in pyhton list format \"\n",
    "print(instruction)\n",
    "full_prompt = main_prompter(input_prompt = instruction)\n",
    "response = generate_response(full_prompt, temp = 1.2)\n",
    "response"
   ]
  },
  {
   "cell_type": "code",
   "execution_count": 158,
   "id": "64c6ed3c-3dc7-411a-9cd4-13b4f5fc4d00",
   "metadata": {},
   "outputs": [
    {
     "data": {
      "text/plain": [
       "['Furniture-Assembly',\n",
       " 'Meal-Planning',\n",
       " 'Outdoor-Recreation',\n",
       " 'Dietary-Restrictions',\n",
       " 'Pet-Care',\n",
       " 'Health-and-Wellness',\n",
       " 'Covid-19-Support',\n",
       " 'Home-Cleaning',\n",
       " 'Gardening',\n",
       " 'Aromatherapy',\n",
       " 'Organic-Gardening',\n",
       " 'Sustainable-Living',\n",
       " 'Self-Care-Routines',\n",
       " 'Mental-Health-Assessments',\n",
       " 'Nutrition-Counseling',\n",
       " 'Travel-Insurance',\n",
       " 'Health-and-Safety-Tips',\n",
       " 'Preparedness-Guides',\n",
       " 'Crisis-Communication',\n",
       " 'Mental-Health-First-Aid',\n",
       " 'Disaster-Relief',\n",
       " 'Community-Building',\n",
       " 'Gratitude-Journals',\n",
       " 'Goal-Setting',\n",
       " 'Mindfulness-Exercises',\n",
       " 'Natural-Remedies',\n",
       " 'Personal-Finance-Planning',\n",
       " 'Healthy-Eating-Recipes',\n",
       " 'Stress-Management',\n",
       " 'Emotional-Intelligence-Development']"
      ]
     },
     "execution_count": 158,
     "metadata": {},
     "output_type": "execute_result"
    }
   ],
   "source": [
    "new_intents = response.replace('</s>',\"\").split('\\n')[2:]\n",
    "new_intents = [intent.split(' ')[-1][1:-1] for intent in new_intents]\n",
    "new_intents"
   ]
  },
  {
   "cell_type": "code",
   "execution_count": 159,
   "id": "7ebed469-a08d-492a-989c-5a4340d10851",
   "metadata": {},
   "outputs": [
    {
     "data": {
      "text/plain": [
       "101"
      ]
     },
     "execution_count": 159,
     "metadata": {},
     "output_type": "execute_result"
    }
   ],
   "source": [
    "intents.extend(new_intents)\n",
    "len(intents)"
   ]
  },
  {
   "cell_type": "code",
   "execution_count": 160,
   "id": "cc5c0677-8516-4499-aa86-5d1c485cec9d",
   "metadata": {},
   "outputs": [
    {
     "data": {
      "text/plain": [
       "100"
      ]
     },
     "execution_count": 160,
     "metadata": {},
     "output_type": "execute_result"
    }
   ],
   "source": [
    "intents = list(set(intents))\n",
    "len(intents)"
   ]
  },
  {
   "cell_type": "code",
   "execution_count": 161,
   "id": "fd08301c-b3fc-43fc-870c-7386a346d96d",
   "metadata": {},
   "outputs": [
    {
     "data": {
      "text/plain": [
       "['Private-Pilot-Lessons',\n",
       " 'Tourism-Packages',\n",
       " 'Vineyard-Tours',\n",
       " 'Motorcycle-Excursions',\n",
       " 'Online-Tutoring',\n",
       " 'Food-and-Wine-Tours',\n",
       " 'Product Warranty Information',\n",
       " 'Budget-Travel-Packages',\n",
       " 'Wine-Tastings',\n",
       " 'Food-Bank-Donation',\n",
       " 'Home-Cleaning',\n",
       " 'Hotel Room Availability',\n",
       " 'Gratitude-Journals',\n",
       " 'Medical-Billing-and-Coding',\n",
       " 'Bank Account Balance',\n",
       " 'Sustainable-Living',\n",
       " 'Health-and-Safety-Tips',\n",
       " 'Housing-Loan-Counseling',\n",
       " 'Trip-Organization',\n",
       " 'Transportation-Services',\n",
       " 'Online-Translation-Services',\n",
       " 'Pet-Sitting-Services',\n",
       " 'Mindfulness-Exercises',\n",
       " 'Luxury-Car-Rentals',\n",
       " 'Airplane-Charter',\n",
       " 'Small-Business-Loans',\n",
       " 'Art-Tutoring',\n",
       " 'Cruise-Ship-Reservations',\n",
       " 'Dietary-Restrictions',\n",
       " 'Travel-Agent-Services',\n",
       " 'Ski-Resort-Bookings',\n",
       " 'Medical Appointment Scheduling',\n",
       " 'Shipping-Inquiry',\n",
       " 'Dietary-Supplement-Sales',\n",
       " 'Import-Export-Services',\n",
       " 'Health-and-Wellness',\n",
       " 'Pet-Care',\n",
       " 'Nutrition-Counseling',\n",
       " 'Job Application Status',\n",
       " 'Natural-Remedies',\n",
       " 'Personal-Financial-Planning',\n",
       " 'Fishing-Charters',\n",
       " 'All-Inclusive-Vacations',\n",
       " 'Airport-Taxis',\n",
       " 'Mental-Health-Support',\n",
       " 'Private-Island-Resorts',\n",
       " 'Private-Boat-Charters',\n",
       " 'Camping-Trips',\n",
       " 'Mental-Health-First-Aid',\n",
       " 'Covid-19-Support',\n",
       " 'Travel-Insurance',\n",
       " 'Insurance Info',\n",
       " 'Adventure-Parks',\n",
       " 'Healthy-Eating-Recipes',\n",
       " 'Emotional-Intelligence-Development',\n",
       " 'Skydiving-Excursions',\n",
       " 'Aromatherapy',\n",
       " 'Nature-Photography-Trips',\n",
       " 'Golf-Course-Reservations',\n",
       " 'Crisis-Communication',\n",
       " 'Community-Building',\n",
       " 'Hotel-Room-Cleaning',\n",
       " 'Yacht-Charter',\n",
       " 'Stress-Management',\n",
       " 'Restaurant Reservation',\n",
       " 'Self-Care-Routines',\n",
       " 'Personal-Finance-Planning',\n",
       " 'Personalized-Travel-Plans',\n",
       " 'Career-Coaching',\n",
       " 'Outdoor-Recreation',\n",
       " 'flight-cancellation',\n",
       " 'Educational Course Enrollment',\n",
       " 'Ziplining-Adventures',\n",
       " 'Child-Care-Services',\n",
       " 'Private-Jet-Reservations',\n",
       " 'book-a-ticket',\n",
       " 'Weather Forecast',\n",
       " 'Gardening',\n",
       " 'Mental-Health-Assessments',\n",
       " 'Home-Repair-Services',\n",
       " 'Car Rental Reservation',\n",
       " 'Organic-Gardening',\n",
       " 'Disaster-Relief',\n",
       " 'Mountain-Biking-Rentals',\n",
       " 'Dental-Care-Plans',\n",
       " 'Cultural-Tours',\n",
       " 'Helicopter-Rides',\n",
       " 'Technical Support',\n",
       " 'Household-Organization',\n",
       " 'Preparedness-Guides',\n",
       " 'Goal-Setting',\n",
       " 'Event-Planning-Services',\n",
       " 'check-reservation',\n",
       " 'Motorcycle-Rental',\n",
       " 'Sightseeing-Tours',\n",
       " 'Teacher-Employment',\n",
       " 'Meal-Planning',\n",
       " 'Furniture-Assembly',\n",
       " 'Private-Beach-Club-Rentals',\n",
       " 'Personal-Fitness-Training']"
      ]
     },
     "execution_count": 161,
     "metadata": {},
     "output_type": "execute_result"
    }
   ],
   "source": [
    "intents"
   ]
  },
  {
   "cell_type": "markdown",
   "id": "15188e2a-5556-4dd4-9099-66b332c57c16",
   "metadata": {},
   "source": [
    "# Example Curation"
   ]
  },
  {
   "cell_type": "code",
   "execution_count": 266,
   "id": "3139b6b2-a1fb-42d1-8871-97564b27dce1",
   "metadata": {},
   "outputs": [],
   "source": [
    "import json\n",
    "import ast"
   ]
  },
  {
   "cell_type": "code",
   "execution_count": 278,
   "id": "72261ef9-77d9-4dc2-b2f4-c93ee6d8cf5e",
   "metadata": {},
   "outputs": [],
   "source": [
    "seed_data = [{\n",
    "  \"name\": \"book-a-ticket\",\n",
    "  \"examples\": [\n",
    "    \"I want to book a ticket from Hyderabad to Chennai\",\n",
    "    \"I'd like to book a plane ticket for a flight on August 25th\",\n",
    "    \"Can you help me reserve a seat on a flight from New York to Los Angeles?\",\n",
    "    \"I'm interested in flying to Paris from London on the 10th of September.\",\n",
    "    \"I want to travel to Tokyo and I need a ticket for a flight next week.\",\n",
    "    \"Could you assist me in booking a flight from Chicago to Miami on the 15th of October?\",\n",
    "    \"I'm looking for a round-trip ticket from San Francisco to Seattle for the weekend of November 5th.\",\n",
    "    \"I need to get to Dubai from Mumbai, preferably on a direct flight.\",\n",
    "    \"Can you check for available flights from Toronto to Vancouver for the 20th of December?\",\n",
    "    \"I'm planning a trip to Rome, and I'd like to book a business class ticket with extra legroom.\",\n",
    "    \"I want to fly to London, departing on the 8th of January and returning on the 20th.\"\n",
    "  ]\n",
    "},\n",
    "{\n",
    "  \"name\": \"check-reservation\",\n",
    "  \"examples\": [\n",
    "    \"What's the reservation status for booking ID ABC123?\",\n",
    "    \"Can you provide me with the current boarding status for my flight?\",\n",
    "    \"I'd like to know if my reservation for flight XYZ456 is confirmed.\",\n",
    "    \"What's the seat number allocated for my reservation with confirmation number DEF789?\",\n",
    "    \"Has there been any seat upgrade for my booking on flight LMN567?\",\n",
    "    \"Can you check the reservation status for the email address john.doe@email.com?\",\n",
    "    \"I want to inquire about the boarding status of my flight with booking reference GHI234.\",\n",
    "    \"Please tell me the current status of my reservation for flight JKL890.\",\n",
    "    \"Has there been any change in the seat assignment for my booking on flight MNO123?\",\n",
    "    \"What's the reservation status for my ticket on the flight with departure code PQR456?\"\n",
    "  ]\n",
    "}\n",
    "            ]\n"
   ]
  },
  {
   "cell_type": "code",
   "execution_count": null,
   "id": "018541ab-763c-4d51-8354-0c6f89b679a4",
   "metadata": {},
   "outputs": [],
   "source": [
    "counter = 0\n",
    "invalid = 0\n",
    "\n",
    "for intent in intents:\n",
    "    \n",
    "    if intent in ['book-a-ticket','check-reservation','flight-cancellation']:\n",
    "        continue\n",
    "\n",
    "    example = random.choice(seed_data)\n",
    "    \n",
    "    one_shot_prompt = f\"\"\"\n",
    "    See below dictiona data point which has two keys 'name' and 'examples'. 'name' key represents the intent.\n",
    "    'examples' key contains examples related to this intent.\n",
    "    Below is a sample data point for intent {example[\"name\"]} and corresponding examples.\n",
    "    \n",
    "    {example}\n",
    "    \n",
    "    Create a data point following the exact same format for intent {intent} and always use \"\" for strings.\n",
    "    Do not use placeholder for entities.\n",
    "    \"\"\"\n",
    "    full_prompt = main_prompter(input_prompt = one_shot_prompt)\n",
    "    response = generate_response(full_prompt, temp = 1.2)\n",
    "    new_data_point = '{' + response[response.find(\"{\")+1:response.find(\"}\")+1]\n",
    "    \n",
    "    try:\n",
    "        new_data_point = ast.literal_eval(new_data_point)\n",
    "        seed_data.append(new_data_point)\n",
    "        counter += 1\n",
    "        \n",
    "    except Exception as e:\n",
    "        invalid += 1\n",
    "        \n",
    "    if counter % 5 == 0: print(f'{counter} data points generated ')\n",
    "    "
   ]
  },
  {
   "cell_type": "code",
   "execution_count": 280,
   "id": "d6a81c5e-be53-413f-8edf-352b9995f1ab",
   "metadata": {},
   "outputs": [
    {
     "data": {
      "text/plain": [
       "94"
      ]
     },
     "execution_count": 280,
     "metadata": {},
     "output_type": "execute_result"
    }
   ],
   "source": [
    "len(seed_data)"
   ]
  },
  {
   "cell_type": "code",
   "execution_count": 273,
   "id": "6d1d71b6-1903-4c4d-b415-3adec68f0132",
   "metadata": {},
   "outputs": [
    {
     "name": "stdout",
     "output_type": "stream",
     "text": [
      "{'name': 'book-a-ticket', 'examples': ['I want to book a ticket from Hyderabad to Chennai', \"I'd like to book a plane ticket for a flight on August 25th\", 'Can you help me reserve a seat on a flight from New York to Los Angeles?', \"I'm interested in flying to Paris from London on the 10th of September.\", 'I want to travel to Tokyo and I need a ticket for a flight next week.', 'Could you assist me in booking a flight from Chicago to Miami on the 15th of October?', \"I'm looking for a round-trip ticket from San Francisco to Seattle for the weekend of November 5th.\", 'I need to get to Dubai from Mumbai, preferably on a direct flight.', 'Can you check for available flights from Toronto to Vancouver for the 20th of December?', \"I'm planning a trip to Rome, and I'd like to book a business class ticket with extra legroom.\", 'I want to fly to London, departing on the 8th of January and returning on the 20th.']}\n",
      "---\n",
      "{'name': 'check-reservation', 'examples': [\"What's the reservation status for booking ID ABC123?\", 'Can you provide me with the current boarding status for my flight?', \"I'd like to know if my reservation for flight XYZ456 is confirmed.\", \"What's the seat number allocated for my reservation with confirmation number DEF789?\", 'Has there been any seat upgrade for my booking on flight LMN567?', 'Can you check the reservation status for the email address john.doe@email.com?', 'I want to inquire about the boarding status of my flight with booking reference GHI234.', 'Please tell me the current status of my reservation for flight JKL890.', 'Has there been any change in the seat assignment for my booking on flight MNO123?', \"What's the reservation status for my ticket on the flight with departure code PQR456?\"]}\n",
      "---\n",
      "{'name': 'Private-Pilot-Lessons', 'examples': [\"I'm interested in taking private pilot lessons. Can you help me get started?\", 'What are the requirements for private pilot lessons?', 'I want to take a private pilot test, what should I do next?', 'Can you guide me through the process of getting my private pilot certificate?', \"I'm new to flying, where can I get more information about private pilot lessons?\", \"I'm looking for a flight school that offers private pilot lessons, can you recommend one?\"]}\n",
      "---\n",
      "{'name': 'Tourism-Packages', 'examples': [\"I'm looking for a tourism package that includes a flight, accommodation, and activities. Can you help me find one?\", \"I'm interested in visiting a new destination, can you suggest some tourism packages that I should consider?\", \"I'm planning a trip, can you provide some recommendations for tourism packages that cater to my interests and budget?\", \"I'm looking for a tourism package that includes a scenic flight and outdoor activities. Can you suggest some options?\", \"I'm looking for a tourism package that includes a visit to a specific destination, can you provide some options for that?\", \"I'm interested in booking a tourism package that includes a flight, accommodation, and activities, but I also want to add some customized experiences. Can you help me find one that fits my needs?\", \"I'm looking for a tourism package that includes a combination of accommodation and activities, can you suggest some options?\", \"I'm interested in visiting a new destination, can you suggest some tourism packages that offer a unique experience?\", \"I'm looking for a tourism package that includes a visit to a specific destination and some customized activities, can you provide some options for that?\", \"I'm looking for a tourism package that includes a combination of accommodation and activities, can you suggest some options?\", \"I'm interested in booking a tourism package that includes a flight, accommodation, and activities, but I also want to add some customized experiences. Can you help me find one that fits my needs?\"]}\n",
      "---\n",
      "{'name': 'Vineyard-Tours', 'examples': ['What is the schedule for the vineyard tour today?', 'Can you provide more information about the tours?', \"I'd like to know if there are any discounts for vineyard tours on Saturday?\", 'When are the vineyard tours scheduled?', 'Is there a maximum capacity for the vineyard tours?', 'Can you tell me the estimated travel time for the vineyard tours?', 'How much does a vineyard tour typically cost?', 'Can you provide me with the address of the vineyard for the tours?', 'When does the vineyard tour start and end?', 'Is there a minimum number of people required for the vineyard tours?', \"What's the duration of the vineyard tour?\", \"What's the cancellation policy for vineyard tours?\"]}\n",
      "---\n",
      "{'name': 'Motorcycle-Excursions', 'examples': [\"I'm interested in going on a motorcycle excursion. Can you help me plan a trip?\", 'What are some great motorcycle excursion destinations?', 'I want to take a motorcycle road trip, what should I do next?', 'Can you give me tips on how to navigate motorcycle trails?', \"I'm new to motorcycles, where can I get more information about motorcycle excursions?\", \"I'm looking for a motorcycle excursion company that offers guided tours, can you recommend one?\"]}\n",
      "---\n",
      "{'name': 'Online-Tutoring', 'examples': ['I need help with my math homework.', 'I need assistance with understanding a concept in science.', \"I'm having trouble with my programming skills and could use some guidance.\", \"I'd like to learn more about the topic of philosophy and need help understanding certain concepts.\", \"I'm trying to study for my upcoming exam and could use some help with my notes.\", 'I need assistance with my history paper and could use some guidance on what to include.', \"I'm trying to learn a new language and could use some help with grammar and vocabulary.\"]}\n",
      "---\n",
      "{'name': 'Food-and-Wine-Tours', 'examples': ['What are the available food and wine tour options?', 'Can you provide more information about the food and wine tours?', 'Are there any special discounts for food and wine tours?', 'What is the schedule for the food and wine tours today?', 'Can you provide more information about the tours?', \"I'd like to know if there are any discounts for food and wine tours on Saturday?\", 'When are the food and wine tours scheduled?', 'Is there a maximum capacity for the food and wine tours?', 'Can you tell me the estimated travel time for the food and wine tours?', 'How much does a food and wine tour typically cost?', 'Can you provide me with the address of the location for the tours?', 'When does the food and wine tour start and end?', 'Is there a minimum number of people required for the food and wine tours?', \"What's the duration of the food and wine tour?\", \"What's the cancellation policy for food and wine tours?\"]}\n",
      "---\n",
      "{'name': 'Product Warranty Information', 'examples': [\"I need information about the warranty on a product that I recently purchased. Can you help me find out if it's covered?\", \"I'm not sure if the warranty on my product is still valid, can you check for me?\", \"I purchased a product recently, but it doesn't seem to be working properly. Can you tell me if there's a warranty for this product?\", \"I'm looking for information about the warranty on a specific product, can you help me find it?\", \"I'm a customer, I purchased a product and it's not working properly. Can you tell me if there's a warranty?\", 'I need to know if my product is still under warranty, can you help me with that?', \"I purchased a product a few months ago, can you tell me if it's still covered under warranty?\", \"I'm not sure if my product is still under warranty, can you check for me?\", \"I purchased a product recently, but it doesn't seem to be working properly. Can you tell me if there's a warranty for this product?\"]}\n",
      "---\n",
      "{'name': 'Budget-Travel-Packages', 'examples': ['Can you recommend some budget-friendly travel packages?', \"I'm looking for a package deal for a trip to Japan, what are my options?\", 'What are some of the best budget travel websites?', \"I'm planning a trip to Hawaii, what kind of budget travel options are available?\", \"I'm looking for a package deal that includes flights, hotels, and car rentals, can you help me find one?\", \"I'm looking for a trip that's within my budget, where should I go?\", \"What are some of the best travel deals that you've found in the past?\", 'Can you recommend some travel websites that offer good deals for budget travelers?']}\n",
      "---\n",
      "{'name': 'Wine-Tastings', 'examples': [\"I'm interested in attending wine tastings. Can you help me find one?\", 'What is the cost of wine tastings?', 'I want to go on a wine tasting tour, where can I book?', 'Can you recommend a local wine tasting spot?', \"I'm new to wine tastings, where can I get more information about this type of event?\", 'Can you help me book a wine tasting tour or event?']}\n",
      "---\n",
      "{'name': 'Food-Bank-Donation', 'examples': ['I am considering donating food to a local food bank, how can I do this?', 'I am looking for a food bank in my area, can you provide me with information on how to donate?', 'I would like to donate food to a food bank, how can I do this?', 'I am interested in volunteering at a food bank, how can I get involved?', 'I would like to learn more about the types of food items that a food bank accepts, can you provide me with information?', 'I would like to donate canned goods to a food bank, how can I do this?', 'I am interested in donating non-perishable items to a food bank, how can I do this?', 'I would like to know if a food bank near me has a drop-off location, can you provide me with information?', 'I am looking for a food bank near my home, can you provide me with information on how to donate and find a location?', 'I would like to donate money to a food bank, how can I do this?']}\n",
      "---\n",
      "{'name': 'Home-Cleaning', 'examples': ['I would like to hire a cleaning service for my home', 'I need someone to clean my living room', 'I want to hire a cleaner for my apartment', 'I need someone to clean my bedroom', 'I want to hire a cleaning service for my house', 'I need someone to clean my kitchen', 'I want to hire a cleaner for my dining room', 'I need someone to clean my bathroom', 'I want to hire a cleaning service for my garage', 'I need someone to clean my basement', 'I want to hire a cleaner for my laundry room', 'I need someone to clean my closet']}\n",
      "---\n",
      "{'name': 'Hotel Room Availability', 'examples': ['When is the best time to book a hotel room?', 'What are the options for upgrading my hotel room?', 'Can you check availability for a specific hotel?', \"I'm looking for a hotel with a good location, what options do I have?\", \"I'm traveling with a group, how can I get a discount for multiple rooms?\", 'Can you recommend a hotel with good reviews?']}\n",
      "---\n",
      "{'name': 'Gratitude-Journals', 'examples': ['I am grateful for my health and well-being', 'I appreciate my supportive family and friends', 'I am grateful for the good fortune I have in life', 'I thank the universe for the blessings I receive', 'I am thankful for the opportunities I have been given', 'I appreciate the people and things in my life that bring me joy and happiness']}\n",
      "---\n",
      "{'name': 'Medical-Billing-and-Coding', 'examples': ['What is the average cost of a doctor visit?', 'How do I bill a patient for medical services?', 'What is the difference between coding and billing in healthcare?', 'How do I ensure that my billing and coding are accurate and up-to-date?', \"I'm a new healthcare professional, what are the most important things to know about billing and coding?\", 'How can I manage my medical billing and coding workflow more efficiently?']}\n",
      "---\n",
      "{'name': 'Bank Account Balance', 'examples': ['What is my bank account balance?', 'What is my balance?', 'Can you check my account balance for me?', 'Is my account balance $1000?', 'What is the balance on my account?', 'Can you provide me with my bank account balance?']}\n",
      "---\n",
      "{'name': 'Sustainable-Living', 'examples': ['I would like to know more about sustainable living practices, how can I get involved?', 'I would like to reduce my carbon footprint, how can I do this?', 'I am interested in reducing my energy consumption, what can I do?', 'I would like to know more about renewable energy sources, how can I get involved?', 'I am looking for a sustainable way to cook food, what options are available?', 'I would like to learn more about composting and how it can help reduce waste, how can I get involved?', 'I would like to know more about energy-efficient appliances, how can I make this switch?', 'I would like to know more about sustainable fashion and how I can reduce my impact on the environment, how can I do this?', 'I am looking for a sustainable way to transport myself, what options are available?', 'I would like to know more about sustainable gardening and how I can grow my own food, how can I do this?', 'I would like to know more about sustainable travel and how I can reduce my impact on the environment while traveling, how can I do this?', 'I would like to know more about sustainable water conservation and how I can reduce my water usage, how can I do this?', 'I would like to know more about sustainable waste management and how I can reduce my impact on the environment by reducing my waste, how can I do this?', 'I would like to know more about sustainable agriculture and how I can support sustainable farming practices, how can I do this?']}\n",
      "---\n",
      "{'name': 'Health-and-Safety-Tips', 'examples': ['What are the best ways to maintain good hygiene during the pandemic?', 'How can I protect myself from the virus?', 'Are there any specific health measures I should take to avoid getting sick?', 'What are the signs of COVID-19 and how should I react?', 'Are there any treatments for COVID-19?', 'How long does it take to recover from COVID-19?', 'How can I reduce the risk of transmission for my family and myself?', 'Is there any information on how to stay safe during mass gatherings?', 'How should I clean and disinfect surfaces and objects?', 'What are the safety protocols for when to use personal protective equipment (PPE)?', 'Can I go to the beach this summer?', 'How can I protect my pet from COVID-19?', 'Is there any information on how to safely travel during the pandemic?', 'What are the best ways to reduce stress during the pandemic?', 'What are some effective ways to avoid long lines at stores during the pandemic?', 'Can I get a COVID-19 test without having symptoms?', 'Are there any apps or tools that can help me keep track of my health during the pandemic?']}\n",
      "---\n",
      "{'name': 'Housing-Loan-Counseling', 'examples': ['I need help finding the best home loan for my situation. Can you provide me with some recommendations?', \"I'm not sure if my current home loan is the best one for me. Can you help me understand my options?\", \"I'm a first-time homebuyer and I'm not sure where to start. Can you provide me with some guidance?\", \"I'm looking for information about different types of home loans. Can you explain the pros and cons of each?\", \"I'm a busy professional and I don't have a lot of time to research. Can you provide me with some quick and easy options?\", \"I'm interested in a specific type of home loan. Can you tell me more about it?\", \"I'm not sure if my credit is good enough for a home loan. Can you provide me with some guidance?\", \"I'm a renter and I'm considering buying a home. Can you help me understand the process?\", \"I'm having trouble affording my current rent and I'm considering a home loan. Can you provide me with some guidance?\", \"I'm not sure if I should refinance my current home loan or take out a new one. Can you help me understand the pros and cons of each?\", \"I'm looking for information about home equity loans. Can you tell me more about them?\"]}\n",
      "---\n",
      "{'name': 'Trip-Organization', 'examples': ['How can I plan a trip to Paris?', \"I'm looking for a trip to Tokyo, can you help me with the itinerary?\", 'What are some of the best ways to save money on a trip to New York?', \"I'm planning a trip to Barcelona, what kind of attractions should I visit?\", 'What are some of the best travel websites for finding cheap flights and hotels?', \"I'm looking for a package deal for a trip to Las Vegas, what should I do?\", \"I'm considering a trip to Sydney, where should I go and what should I see?\", 'Can you recommend some travel books or articles on the best travel destinations and experiences?', 'What are some of the best travel apps for staying organized and finding the best deals?']}\n",
      "---\n",
      "{'name': 'Transportation-Services', 'examples': ['I need a ride from the airport. Can you help me get a taxi?', 'What are the different types of transportation services available in your city?', 'I want to book a cab for an international flight. Can you assist me with that?', 'Can you recommend a reliable transportation service for a group of 10 people?', \"I'm looking for a ride-sharing service that's easy and affordable. Do you have any recommendations?\", 'I want to take a train from New York to Boston. Can you help me with the details?']}\n",
      "---\n",
      "{'name': 'Online-Translation-Services', 'examples': ['I need to translate a document from English to Spanish', 'Can you help me with a translation of a website from Japanese to Korean?', 'I would like to translate a text from Arabic to Portuguese', \"I'm looking for an online translation service for a document from French to German\", 'I need to translate a book from Italian to Chinese', \"I'm looking for a translator for a technical document from Russian to English\", 'Can you help me with a translation of a website from Hindi to French?', \"I'm looking for a translator for a technical document from Swedish to Norwegian\", 'I would like to translate a news article from Turkish to Dutch', 'I need to translate a text from Polish to Spanish', \"I'm looking for an online translation service for a website from Danish to Dutch\", 'I would like to translate a text from Portuguese to Japanese', 'I need to translate a text from Russian to English', 'I would like to translate a text from Korean to English', \"I'm looking for a translator for a website from Spanish to French\", 'Can you help me with a translation of a text from German to Arabic?', 'I would like to translate a website from English to Portuguese', \"I'm looking for an online translation service for a document from Hebrew to English\", 'I would like to translate a website from English to Chinese', 'I need to translate a text from Russian to French', 'I need to translate a text from Japanese to Portuguese']}\n",
      "---\n",
      "{'name': 'Pet-Sitting-Services', 'examples': [\"I need to find a pet-sitter for my dog while I'm away on vacation.\", 'I am looking for a reliable pet-sitting service for my cats.', 'Can you recommend a pet-sitting service that also provides dog-walking services?', 'I am looking for a pet-sitter with experience in caring for multiple pets at once.', 'I need to find a pet-sitter that is licensed and bonded.', 'I am looking for a pet-sitting service that offers additional services such as pet-grooming or pet-daycare.']}\n",
      "---\n",
      "{'name': 'Mindfulness-Exercises', 'examples': ['I am feeling very stressed, can you help me find a mindfulness exercise?', 'I would like to learn more about mindfulness practices', 'Can you recommend a mindfulness exercise that I can do at home?', \"I'm looking for a mindfulness exercise that can help me manage my anxiety\", 'I need a mindfulness exercise that can help me with my chronic pain', 'I am interested in learning more about mindfulness and its benefits', 'I would like to find a mindfulness exercise that can help me reduce my stress levels', \"I'm looking for a mindfulness exercise that can help me improve my sleep\", \"I'm looking for a mindfulness exercise that can help me focus my mind\", \"I'm looking for a mindfulness exercise that can help me increase my self-awareness\", \"I'm looking for a mindfulness exercise that can help me develop my meditation skills\", \"I'm looking for a mindfulness exercise that can help me improve my yoga practice\"]}\n",
      "---\n"
     ]
    }
   ],
   "source": []
  },
  {
   "cell_type": "code",
   "execution_count": 282,
   "id": "a26c3a1e-cd05-41c9-a217-5d5029cd6a15",
   "metadata": {},
   "outputs": [],
   "source": [
    "with open(\"intents.json\", \"w\") as file:\n",
    "    json.dump(seed_data, file)\n"
   ]
  },
  {
   "cell_type": "code",
   "execution_count": null,
   "id": "613e5546-94b9-4cab-97aa-fa9312c80f4b",
   "metadata": {},
   "outputs": [],
   "source": []
  }
 ],
 "metadata": {
  "kernelspec": {
   "display_name": "Python 3",
   "language": "python",
   "name": "python3"
  },
  "language_info": {
   "codemirror_mode": {
    "name": "ipython",
    "version": 3
   },
   "file_extension": ".py",
   "mimetype": "text/x-python",
   "name": "python",
   "nbconvert_exporter": "python",
   "pygments_lexer": "ipython3",
   "version": "3.8.10"
  }
 },
 "nbformat": 4,
 "nbformat_minor": 5
}

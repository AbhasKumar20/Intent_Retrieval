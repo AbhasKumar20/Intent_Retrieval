{
 "cells": [
  {
   "cell_type": "markdown",
   "id": "0b2e4a04-a090-4b57-a04e-dc573a891a0c",
   "metadata": {},
   "source": [
    "# Intent Curation"
   ]
  },
  {
   "cell_type": "code",
   "execution_count": 9,
   "id": "cb4c1467-5b0e-4d04-a098-144e39faa4c2",
   "metadata": {},
   "outputs": [],
   "source": [
    "import warnings\n",
    "warnings.filterwarnings(\"ignore\")"
   ]
  },
  {
   "cell_type": "code",
   "execution_count": 10,
   "id": "f21c2bc6-68c8-4215-ab05-89a683dd2a18",
   "metadata": {
    "scrolled": true
   },
   "outputs": [
    {
     "name": "stdout",
     "output_type": "stream",
     "text": [
      "Defaulting to user installation because normal site-packages is not writeable\n",
      "Collecting git+https://github.com/huggingface/transformers.git@main\n",
      "  Cloning https://github.com/huggingface/transformers.git (to revision main) to /tmp/pip-req-build-vyor5htl\n",
      "  Running command git clone --filter=blob:none --quiet https://github.com/huggingface/transformers.git /tmp/pip-req-build-vyor5htl\n",
      "  Resolved https://github.com/huggingface/transformers.git to commit 700329493dba077654cd771044ec303a265a8d79\n",
      "  Installing build dependencies ... \u001b[?25ldone\n",
      "\u001b[?25h  Getting requirements to build wheel ... \u001b[?25ldone\n",
      "\u001b[?25h  Preparing metadata (pyproject.toml) ... \u001b[?25ldone\n",
      "\u001b[?25hRequirement already satisfied: accelerate in /home/ubuntu/.local/lib/python3.8/site-packages (0.21.0)\n",
      "Requirement already satisfied: filelock in /usr/lib/python3/dist-packages (from transformers==4.35.0.dev0) (3.0.12)\n",
      "Requirement already satisfied: huggingface-hub<1.0,>=0.16.4 in /home/ubuntu/.local/lib/python3.8/site-packages (from transformers==4.35.0.dev0) (0.16.4)\n",
      "Requirement already satisfied: numpy>=1.17 in /home/ubuntu/.local/lib/python3.8/site-packages (from transformers==4.35.0.dev0) (1.23.5)\n",
      "Requirement already satisfied: packaging>=20.0 in /home/ubuntu/.local/lib/python3.8/site-packages (from transformers==4.35.0.dev0) (23.1)\n",
      "Requirement already satisfied: pyyaml>=5.1 in /usr/lib/python3/dist-packages (from transformers==4.35.0.dev0) (5.3.1)\n",
      "Requirement already satisfied: regex!=2019.12.17 in /home/ubuntu/.local/lib/python3.8/site-packages (from transformers==4.35.0.dev0) (2023.8.8)\n",
      "Requirement already satisfied: requests in /home/ubuntu/.local/lib/python3.8/site-packages (from transformers==4.35.0.dev0) (2.31.0)\n",
      "Requirement already satisfied: tokenizers<0.15,>=0.14 in /home/ubuntu/.local/lib/python3.8/site-packages (from transformers==4.35.0.dev0) (0.14.0)\n",
      "Requirement already satisfied: safetensors>=0.3.1 in /home/ubuntu/.local/lib/python3.8/site-packages (from transformers==4.35.0.dev0) (0.3.3)\n",
      "Requirement already satisfied: tqdm>=4.27 in /home/ubuntu/.local/lib/python3.8/site-packages (from transformers==4.35.0.dev0) (4.65.0)\n",
      "Requirement already satisfied: psutil in /usr/lib/python3/dist-packages (from accelerate) (5.5.1)\n",
      "Requirement already satisfied: torch>=1.10.0 in /usr/lib/python3/dist-packages (from accelerate) (2.0.1)\n",
      "Requirement already satisfied: fsspec in /home/ubuntu/.local/lib/python3.8/site-packages (from huggingface-hub<1.0,>=0.16.4->transformers==4.35.0.dev0) (2023.6.0)\n",
      "Requirement already satisfied: typing-extensions>=3.7.4.3 in /home/ubuntu/.local/lib/python3.8/site-packages (from huggingface-hub<1.0,>=0.16.4->transformers==4.35.0.dev0) (4.8.0)\n",
      "Requirement already satisfied: charset-normalizer<4,>=2 in /home/ubuntu/.local/lib/python3.8/site-packages (from requests->transformers==4.35.0.dev0) (3.1.0)\n",
      "Requirement already satisfied: idna<4,>=2.5 in /usr/lib/python3/dist-packages (from requests->transformers==4.35.0.dev0) (2.8)\n",
      "Requirement already satisfied: urllib3<3,>=1.21.1 in /usr/lib/python3/dist-packages (from requests->transformers==4.35.0.dev0) (1.25.8)\n",
      "Requirement already satisfied: certifi>=2017.4.17 in /usr/lib/python3/dist-packages (from requests->transformers==4.35.0.dev0) (2019.11.28)\n",
      "\u001b[33mDEPRECATION: tensorflow-gpu 2.11.0 has a non-standard dependency specifier platform_system!=\"Darwin\". pip 23.3 will enforce this behaviour change. A possible replacement is to upgrade to a newer version of tensorflow-gpu or contact the author to suggest that they release a version with a conforming dependency specifiers. Discussion can be found at https://github.com/pypa/pip/issues/12063\u001b[0m\u001b[33m\n",
      "\u001b[0m\n",
      "\u001b[1m[\u001b[0m\u001b[34;49mnotice\u001b[0m\u001b[1;39;49m]\u001b[0m\u001b[39;49m A new release of pip is available: \u001b[0m\u001b[31;49m23.2.1\u001b[0m\u001b[39;49m -> \u001b[0m\u001b[32;49m23.3\u001b[0m\n",
      "\u001b[1m[\u001b[0m\u001b[34;49mnotice\u001b[0m\u001b[1;39;49m]\u001b[0m\u001b[39;49m To update, run: \u001b[0m\u001b[32;49mpython3 -m pip install --upgrade pip\u001b[0m\n"
     ]
    }
   ],
   "source": [
    "!pip install git+https://github.com/huggingface/transformers.git@main accelerate"
   ]
  },
  {
   "cell_type": "code",
   "execution_count": 11,
   "id": "ee1c185d-59e8-491a-9c2f-8b3601d85ea3",
   "metadata": {},
   "outputs": [],
   "source": [
    "from transformers import AutoTokenizer, AutoModelForCausalLM\n",
    "import transformers\n",
    "import torch\n",
    "import random"
   ]
  },
  {
   "cell_type": "code",
   "execution_count": 12,
   "id": "df35e268-6328-45b2-9c74-c9c248283d4c",
   "metadata": {},
   "outputs": [],
   "source": [
    "### Select the language model\n",
    "model_name = \"codellama/CodeLlama-13b-Instruct-hf\""
   ]
  },
  {
   "cell_type": "code",
   "execution_count": 13,
   "id": "991a8edb-6c85-4b3d-b524-20673e45972a",
   "metadata": {},
   "outputs": [
    {
     "data": {
      "application/vnd.jupyter.widget-view+json": {
       "model_id": "0f99761f0ee945ed9fd46fe305d324e0",
       "version_major": 2,
       "version_minor": 0
      },
      "text/plain": [
       "Loading checkpoint shards:   0%|          | 0/3 [00:00<?, ?it/s]"
      ]
     },
     "metadata": {},
     "output_type": "display_data"
    }
   ],
   "source": [
    "device = \"cuda\"\n",
    "tokenizer = AutoTokenizer.from_pretrained(model_name)\n",
    "model = AutoModelForCausalLM.from_pretrained(model_name,\n",
    "                                device_map='auto',\n",
    "                                torch_dtype=torch.float16,\n",
    "                                )"
   ]
  },
  {
   "cell_type": "code",
   "execution_count": 288,
   "id": "d531911b-4ee2-41c0-8b02-c432473d0447",
   "metadata": {},
   "outputs": [
    {
     "name": "stdout",
     "output_type": "stream",
     "text": [
      "16384\n"
     ]
    }
   ],
   "source": [
    "print(model.config.max_position_embeddings)"
   ]
  },
  {
   "cell_type": "code",
   "execution_count": 290,
   "id": "de8af680-16db-42be-8c0b-b0117c83f6df",
   "metadata": {},
   "outputs": [
    {
     "name": "stdout",
     "output_type": "stream",
     "text": [
      "LlamaConfig {\n",
      "  \"_name_or_path\": \"codellama/CodeLlama-13b-Instruct-hf\",\n",
      "  \"architectures\": [\n",
      "    \"LlamaForCausalLM\"\n",
      "  ],\n",
      "  \"attention_bias\": false,\n",
      "  \"bos_token_id\": 1,\n",
      "  \"eos_token_id\": 2,\n",
      "  \"hidden_act\": \"silu\",\n",
      "  \"hidden_size\": 5120,\n",
      "  \"initializer_range\": 0.02,\n",
      "  \"intermediate_size\": 13824,\n",
      "  \"max_position_embeddings\": 16384,\n",
      "  \"model_type\": \"llama\",\n",
      "  \"num_attention_heads\": 40,\n",
      "  \"num_hidden_layers\": 40,\n",
      "  \"num_key_value_heads\": 40,\n",
      "  \"pretraining_tp\": 1,\n",
      "  \"rms_norm_eps\": 1e-05,\n",
      "  \"rope_scaling\": null,\n",
      "  \"rope_theta\": 1000000,\n",
      "  \"tie_word_embeddings\": false,\n",
      "  \"torch_dtype\": \"float16\",\n",
      "  \"transformers_version\": \"4.35.0.dev0\",\n",
      "  \"use_cache\": true,\n",
      "  \"vocab_size\": 32016\n",
      "}\n",
      "\n"
     ]
    }
   ],
   "source": [
    "print(model.config)"
   ]
  },
  {
   "cell_type": "code",
   "execution_count": 17,
   "id": "77b74817-2616-4287-87a5-232eb8292be7",
   "metadata": {},
   "outputs": [],
   "source": [
    "def generate_response(full_prompt, temp):\n",
    "   \n",
    "    torch.cuda.empty_cache()\n",
    "\n",
    "    tokens = tokenizer.encode(full_prompt, add_special_tokens=False)\n",
    "\n",
    "    prompt_tokens = []\n",
    "\n",
    "    dialog_tokens = [tokenizer(\n",
    "        full_prompt,\n",
    "        return_tensors=\"pt\",\n",
    "        add_special_tokens=True\n",
    "    ).input_ids.to(\"cuda\")]\n",
    "        \n",
    "    prompt_tokens.append(torch.cat(dialog_tokens, dim=-1))\n",
    "\n",
    "    input_ids = prompt_tokens[0]\n",
    "\n",
    "    generation_output = model.generate(\n",
    "        input_ids=input_ids,\n",
    "        do_sample=True,\n",
    "        max_new_tokens= 1000,\n",
    "        temperature=temp,\n",
    "        eos_token_id=tokenizer.eos_token_id,\n",
    "        top_p=0.9\n",
    "    );\n",
    "\n",
    "    new_tokens = generation_output[0][input_ids.shape[-1]:]\n",
    "    new_assistant_response =  tokenizer.decode(new_tokens).strip();\n",
    "\n",
    "    return new_assistant_response"
   ]
  },
  {
   "cell_type": "code",
   "execution_count": 18,
   "id": "6575b11b-a097-4546-b60d-abe15679b897",
   "metadata": {},
   "outputs": [],
   "source": [
    "def main_prompter(input_prompt):\n",
    "\n",
    "    B_INST, E_INST = \"[INST]\", \"[/INST]\"\n",
    "    B_SYS, E_SYS = \"<<SYS>>\\n\", \"\\n<</SYS>>\\n\\n\"\n",
    "\n",
    "    DEFAULT_SYSTEM_PROMPT = 'You are a helpful assistant. Provide help in data points creation. Provide output in same format as provided in the input example'\n",
    "    SYSTEM_PROMPT = DEFAULT_SYSTEM_PROMPT\n",
    "\n",
    "    dialogs = [{\"role\": \"system\", \"content\": SYSTEM_PROMPT}]\n",
    "\n",
    "    dialogs.append({\"role\": \"user\", \"content\": input_prompt})\n",
    "    \n",
    "    if dialogs[0][\"role\"] != \"system\":\n",
    "        dialogs = [\n",
    "            {\n",
    "                \"role\": \"system\",\n",
    "                \"content\": SYSTEM_PROMPT,\n",
    "            }\n",
    "        ] + dialogs\n",
    "\n",
    "    full_prompt = f\"{B_INST} {B_SYS}{(dialogs[0]['content']).strip()}{E_SYS}{(dialogs[1]['content']).strip()} {E_INST}\"\n",
    "    \n",
    "    return full_prompt"
   ]
  },
  {
   "cell_type": "code",
   "execution_count": 121,
   "id": "7987800f-d114-49b2-a61a-cda3c8717310",
   "metadata": {},
   "outputs": [],
   "source": [
    "intents = ['flight-cancellation', 'check-reservation', 'book-a-ticket','Shipping-Inquiry','Insurance Info','Medical Appointment Scheduling', 'Restaurant Reservation', 'Job Application Status', 'Product Warranty Information', 'Bank Account Balance', 'Hotel Room Availability', 'Weather Forecast', 'Car Rental Reservation', 'Educational Course Enrollment', 'Technical Support']"
   ]
  },
  {
   "cell_type": "code",
   "execution_count": 122,
   "id": "5c212eb4-1077-4d24-bfad-8ff933a8c247",
   "metadata": {},
   "outputs": [
    {
     "name": "stdout",
     "output_type": "stream",
     "text": [
      "15\n"
     ]
    }
   ],
   "source": [
    "print(len(intents))"
   ]
  },
  {
   "cell_type": "code",
   "execution_count": 134,
   "id": "6abdc9c3-3dbd-482b-b490-b8b2a94945a2",
   "metadata": {},
   "outputs": [
    {
     "name": "stderr",
     "output_type": "stream",
     "text": [
      "The attention mask and the pad token id were not set. As a consequence, you may observe unexpected behavior. Please pass your input's `attention_mask` to obtain reliable results.\n",
      "Setting `pad_token_id` to `eos_token_id`:2 for open-end generation.\n"
     ]
    },
    {
     "name": "stdout",
     "output_type": "stream",
     "text": [
      "Generate 35 new, different and diverse intents. Examples of various intents are given in the below list\n",
      " ['flight-cancellation', 'check-reservation', 'book-a-ticket', 'Shipping-Inquiry', 'Insurance Info', 'Medical Appointment Scheduling', 'Restaurant Reservation', 'Job Application Status', 'Product Warranty Information', 'Bank Account Balance', 'Hotel Room Availability', 'Weather Forecast', 'Car Rental Reservation', 'Educational Course Enrollment', 'Technical Support']\n",
      " All intents must be unique.\n",
      " Each intent should consists of minimum 2 and maximum 3 words only.\n",
      "Dont generate same topics which are mentioned in the examples.\n",
      "Provide list of new intents in pyhton list format \n",
      "Entered main_prompter ...\n",
      "Entered the generator function\n"
     ]
    },
    {
     "data": {
      "text/plain": [
       "\"Sure, here are 35 new, different and diverse intents:\\n\\n['Travel Agent Services', 'Tourism Packages', 'Motorcycle Rental', 'Golf Course Reservations', 'Ski Resort Bookings', 'Luxury Car Rentals', 'Yacht Charter', 'Private Pilot Lessons', 'Airplane Charter', 'Budget Travel Packages', 'All-Inclusive Vacations', 'Mountain Biking Rentals', 'Skydiving Excursions', 'Helicopter Rides', 'Cruise Ship Reservations', 'Food and Wine Tours', 'Vineyard Tours', 'Private Beach Club Rentals', 'Fishing Charters', 'Private Island Resorts', 'Wine Tastings', 'Cultural Tours', 'Adventure Parks', 'Camping Trips', 'Nature Photography Trips', 'Ziplining Adventures', 'Motorcycle Excursions', 'Private Boat Charters', 'Private Jet Reservations', 'Airport Taxis', 'Sightseeing Tours', 'Personalized Travel Plans']</s>\""
      ]
     },
     "execution_count": 134,
     "metadata": {},
     "output_type": "execute_result"
    }
   ],
   "source": [
    "instruction = \"Generate 35 new, different and diverse intents. Examples of various intents are given in the below list\\n \" + str(intents) + \"\\n All intents must be unique.\\n Each intent should consists of minimum 2 and maximum 3 words only.\\nDont generate same topics which are mentioned in the examples.\\nProvide list of new intents in pyhton list format \"\n",
    "print(instruction)\n",
    "full_prompt = main_prompter(input_prompt = instruction)\n",
    "response = generate_response(full_prompt, temp = 1.2)\n",
    "response"
   ]
  },
  {
   "cell_type": "code",
   "execution_count": 139,
   "id": "c1a21237-7f5b-4ca8-81bb-cf33c09b0b2a",
   "metadata": {},
   "outputs": [
    {
     "data": {
      "text/plain": [
       "['Travel-Agent-Services',\n",
       " 'Tourism-Packages',\n",
       " 'Motorcycle-Rental',\n",
       " 'Golf-Course-Reservations',\n",
       " 'Ski-Resort-Bookings',\n",
       " 'Luxury-Car-Rentals',\n",
       " 'Yacht-Charter',\n",
       " 'Private-Pilot-Lessons',\n",
       " 'Airplane-Charter',\n",
       " 'Budget-Travel-Packages',\n",
       " 'All-Inclusive-Vacations',\n",
       " 'Mountain-Biking-Rentals',\n",
       " 'Skydiving-Excursions',\n",
       " 'Helicopter-Rides',\n",
       " 'Cruise-Ship-Reservations',\n",
       " 'Food-and-Wine-Tours',\n",
       " 'Vineyard-Tours',\n",
       " 'Private-Beach-Club-Rentals',\n",
       " 'Fishing-Charters',\n",
       " 'Private-Island-Resorts',\n",
       " 'Wine-Tastings',\n",
       " 'Cultural-Tours',\n",
       " 'Adventure-Parks',\n",
       " 'Camping-Trips',\n",
       " 'Nature-Photography-Trips',\n",
       " 'Ziplining-Adventures',\n",
       " 'Motorcycle-Excursions',\n",
       " 'Private-Boat-Charters',\n",
       " 'Private-Jet-Reservations',\n",
       " 'Airport-Taxis',\n",
       " 'Sightseeing-Tours',\n",
       " 'Personalized-Travel-Plans']"
      ]
     },
     "execution_count": 139,
     "metadata": {},
     "output_type": "execute_result"
    }
   ],
   "source": [
    "new_intents = response.replace(']</s>',\"\").split('[')[-1].split(',')\n",
    "new_intents = [intent.strip().replace(' ','-').replace('\\n]','')[1:-1] for intent in new_intents]\n",
    "new_intents"
   ]
  },
  {
   "cell_type": "code",
   "execution_count": 140,
   "id": "6d2792da-2b4d-4ca6-b126-80e391e04d43",
   "metadata": {},
   "outputs": [
    {
     "data": {
      "text/plain": [
       "32"
      ]
     },
     "execution_count": 140,
     "metadata": {},
     "output_type": "execute_result"
    }
   ],
   "source": [
    "len(new_intents)"
   ]
  },
  {
   "cell_type": "code",
   "execution_count": 141,
   "id": "7ce205fc-f8d5-47f8-a589-df60fae8d0d7",
   "metadata": {},
   "outputs": [
    {
     "data": {
      "text/plain": [
       "47"
      ]
     },
     "execution_count": 141,
     "metadata": {},
     "output_type": "execute_result"
    }
   ],
   "source": [
    "intents.extend(new_intents)\n",
    "len(intents)"
   ]
  },
  {
   "cell_type": "code",
   "execution_count": 142,
   "id": "15123158-20ee-40c8-ac68-b892b3b81567",
   "metadata": {},
   "outputs": [
    {
     "data": {
      "text/plain": [
       "['flight-cancellation',\n",
       " 'check-reservation',\n",
       " 'book-a-ticket',\n",
       " 'Shipping-Inquiry',\n",
       " 'Insurance Info',\n",
       " 'Medical Appointment Scheduling',\n",
       " 'Restaurant Reservation',\n",
       " 'Job Application Status',\n",
       " 'Product Warranty Information',\n",
       " 'Bank Account Balance',\n",
       " 'Hotel Room Availability',\n",
       " 'Weather Forecast',\n",
       " 'Car Rental Reservation',\n",
       " 'Educational Course Enrollment',\n",
       " 'Technical Support',\n",
       " 'Travel-Agent-Services',\n",
       " 'Tourism-Packages',\n",
       " 'Motorcycle-Rental',\n",
       " 'Golf-Course-Reservations',\n",
       " 'Ski-Resort-Bookings',\n",
       " 'Luxury-Car-Rentals',\n",
       " 'Yacht-Charter',\n",
       " 'Private-Pilot-Lessons',\n",
       " 'Airplane-Charter',\n",
       " 'Budget-Travel-Packages',\n",
       " 'All-Inclusive-Vacations',\n",
       " 'Mountain-Biking-Rentals',\n",
       " 'Skydiving-Excursions',\n",
       " 'Helicopter-Rides',\n",
       " 'Cruise-Ship-Reservations',\n",
       " 'Food-and-Wine-Tours',\n",
       " 'Vineyard-Tours',\n",
       " 'Private-Beach-Club-Rentals',\n",
       " 'Fishing-Charters',\n",
       " 'Private-Island-Resorts',\n",
       " 'Wine-Tastings',\n",
       " 'Cultural-Tours',\n",
       " 'Adventure-Parks',\n",
       " 'Camping-Trips',\n",
       " 'Nature-Photography-Trips',\n",
       " 'Ziplining-Adventures',\n",
       " 'Motorcycle-Excursions',\n",
       " 'Private-Boat-Charters',\n",
       " 'Private-Jet-Reservations',\n",
       " 'Airport-Taxis',\n",
       " 'Sightseeing-Tours',\n",
       " 'Personalized-Travel-Plans']"
      ]
     },
     "execution_count": 142,
     "metadata": {},
     "output_type": "execute_result"
    }
   ],
   "source": [
    "intents"
   ]
  },
  {
   "cell_type": "code",
   "execution_count": 146,
   "id": "932c43bf-d695-473a-b420-cec5bd4be723",
   "metadata": {},
   "outputs": [
    {
     "name": "stderr",
     "output_type": "stream",
     "text": [
      "The attention mask and the pad token id were not set. As a consequence, you may observe unexpected behavior. Please pass your input's `attention_mask` to obtain reliable results.\n",
      "Setting `pad_token_id` to `eos_token_id`:2 for open-end generation.\n"
     ]
    },
    {
     "name": "stdout",
     "output_type": "stream",
     "text": [
      "Generate 25 new, different and diverse intents. Examples of various intents are given in the below list\n",
      " ['Vineyard-Tours', 'Product Warranty Information', 'Airplane-Charter', 'Budget-Travel-Packages', 'Bank Account Balance', 'book-a-ticket', 'Medical Appointment Scheduling', 'Mountain-Biking-Rentals', 'Yacht-Charter', 'Ski-Resort-Bookings']\n",
      " All intents must be unique.\n",
      " Each intent should consists of minimum 2 and maximum 3 words only.\n",
      "Dont generate same topics which are mentioned in the examples.\n",
      "Provide list of new intents in pyhton list format \n",
      "Entered main_prompter ...\n",
      "Entered the generator function\n"
     ]
    },
    {
     "data": {
      "text/plain": [
       "\"Here are 25 new intents that are different and diverse from the ones provided as examples:\\n\\n['Trip-Organization', 'Pet-Sitting-Services', 'Hotel-Room-Cleaning', 'Online-Tutoring', 'Teacher-Employment', 'Dental-Care-Plans', 'Household-Organization', 'Event-Planning-Services', 'Housing-Loan-Counseling', 'Food-Bank-Donation', 'Small-Business-Loans', 'Personal-Fitness-Training', 'Mental-Health-Support', 'Art-Tutoring', 'Transportation-Services', 'Home-Repair-Services', 'Medical-Billing-and-Coding', 'Child-Care-Services', 'Online-Translation-Services', 'Career-Coaching', 'Dietary-Supplement-Sales', 'Import-Export-Services', 'Personal-Financial-Planning', 'Travel-Insurance']</s>\""
      ]
     },
     "execution_count": 146,
     "metadata": {},
     "output_type": "execute_result"
    }
   ],
   "source": [
    "instruction = \"Generate 25 new, different and diverse intents. Examples of various intents are given in the below list\\n \" + str(random.sample(intents, 10)) + \"\\n All intents must be unique.\\n Each intent should consists of minimum 2 and maximum 3 words only.\\nDont generate same topics which are mentioned in the examples.\\nProvide list of new intents in pyhton list format \"\n",
    "print(instruction)\n",
    "full_prompt = main_prompter(input_prompt = instruction)\n",
    "response = generate_response(full_prompt, temp = 1.2)\n",
    "response"
   ]
  },
  {
   "cell_type": "code",
   "execution_count": 147,
   "id": "63d95be4-abd7-4766-bb8c-8052d594f1f1",
   "metadata": {},
   "outputs": [
    {
     "data": {
      "text/plain": [
       "['Trip-Organization',\n",
       " 'Pet-Sitting-Services',\n",
       " 'Hotel-Room-Cleaning',\n",
       " 'Online-Tutoring',\n",
       " 'Teacher-Employment',\n",
       " 'Dental-Care-Plans',\n",
       " 'Household-Organization',\n",
       " 'Event-Planning-Services',\n",
       " 'Housing-Loan-Counseling',\n",
       " 'Food-Bank-Donation',\n",
       " 'Small-Business-Loans',\n",
       " 'Personal-Fitness-Training',\n",
       " 'Mental-Health-Support',\n",
       " 'Art-Tutoring',\n",
       " 'Transportation-Services',\n",
       " 'Home-Repair-Services',\n",
       " 'Medical-Billing-and-Coding',\n",
       " 'Child-Care-Services',\n",
       " 'Online-Translation-Services',\n",
       " 'Career-Coaching',\n",
       " 'Dietary-Supplement-Sales',\n",
       " 'Import-Export-Services',\n",
       " 'Personal-Financial-Planning',\n",
       " 'Travel-Insurance']"
      ]
     },
     "execution_count": 147,
     "metadata": {},
     "output_type": "execute_result"
    }
   ],
   "source": [
    "new_intents = response.replace(']</s>',\"\").split('[')[-1].split(',')\n",
    "new_intents = [intent.strip().replace(' ','-').replace('\\n]','')[1:-1] for intent in new_intents]\n",
    "new_intents"
   ]
  },
  {
   "cell_type": "code",
   "execution_count": 148,
   "id": "d73e6258-a352-43f9-889b-420bcc5cb2e9",
   "metadata": {},
   "outputs": [
    {
     "data": {
      "text/plain": [
       "71"
      ]
     },
     "execution_count": 148,
     "metadata": {},
     "output_type": "execute_result"
    }
   ],
   "source": [
    "intents.extend(new_intents)\n",
    "len(intents)"
   ]
  },
  {
   "cell_type": "code",
   "execution_count": 153,
   "id": "68d77276-912f-4ad2-9fd4-056cb3922591",
   "metadata": {},
   "outputs": [
    {
     "name": "stderr",
     "output_type": "stream",
     "text": [
      "The attention mask and the pad token id were not set. As a consequence, you may observe unexpected behavior. Please pass your input's `attention_mask` to obtain reliable results.\n",
      "Setting `pad_token_id` to `eos_token_id`:2 for open-end generation.\n"
     ]
    },
    {
     "name": "stdout",
     "output_type": "stream",
     "text": [
      "Generate 30 new, different and diverse intents. Examples of various intents are given in the below list\n",
      " ['Cultural-Tours', 'Sightseeing-Tours', 'Household-Organization', 'Food-Bank-Donation', 'Trip-Organization', 'Dietary-Supplement-Sales', 'Dental-Care-Plans', 'Medical-Billing-and-Coding', 'Mental-Health-Support', 'All-Inclusive-Vacations']\n",
      " All intents must be unique.\n",
      " Each intent should consists of minimum 2 and maximum 3 words only.\n",
      "Dont generate same topics which are mentioned in the examples.\n",
      "Provide list of new intents in pyhton list format \n",
      "Entered main_prompter ...\n",
      "Entered the generator function\n"
     ]
    },
    {
     "data": {
      "text/plain": [
       "\"Here is a list of 30 new intents that are not included in the previous examples:\\n\\n1. 'Furniture-Assembly'\\n2. 'Meal-Planning'\\n3. 'Outdoor-Recreation'\\n4. 'Dietary-Restrictions'\\n5. 'Pet-Care'\\n6. 'Health-and-Wellness'\\n7. 'Covid-19-Support'\\n8. 'Home-Cleaning'\\n9. 'Gardening'\\n10. 'Aromatherapy'\\n11. 'Organic-Gardening'\\n12. 'Sustainable-Living'\\n13. 'Self-Care-Routines'\\n14. 'Mental-Health-Assessments'\\n15. 'Nutrition-Counseling'\\n16. 'Travel-Insurance'\\n17. 'Health-and-Safety-Tips'\\n18. 'Preparedness-Guides'\\n19. 'Crisis-Communication'\\n20. 'Mental-Health-First-Aid'\\n21. 'Disaster-Relief'\\n22. 'Community-Building'\\n23. 'Gratitude-Journals'\\n24. 'Goal-Setting'\\n25. 'Mindfulness-Exercises'\\n26. 'Natural-Remedies'\\n27. 'Personal-Finance-Planning'\\n28. 'Healthy-Eating-Recipes'\\n29. 'Stress-Management'\\n30. 'Emotional-Intelligence-Development'</s>\""
      ]
     },
     "execution_count": 153,
     "metadata": {},
     "output_type": "execute_result"
    }
   ],
   "source": [
    "instruction = \"Generate 30 new, different and diverse intents. Examples of various intents are given in the below list\\n \" + str(random.sample(intents, 10)) + \"\\n All intents must be unique.\\n Each intent should consists of minimum 2 and maximum 3 words only.\\nDont generate same topics which are mentioned in the examples.\\nProvide list of new intents in pyhton list format \"\n",
    "print(instruction)\n",
    "full_prompt = main_prompter(input_prompt = instruction)\n",
    "response = generate_response(full_prompt, temp = 1.2)\n",
    "response"
   ]
  },
  {
   "cell_type": "code",
   "execution_count": 158,
   "id": "64c6ed3c-3dc7-411a-9cd4-13b4f5fc4d00",
   "metadata": {},
   "outputs": [
    {
     "data": {
      "text/plain": [
       "['Furniture-Assembly',\n",
       " 'Meal-Planning',\n",
       " 'Outdoor-Recreation',\n",
       " 'Dietary-Restrictions',\n",
       " 'Pet-Care',\n",
       " 'Health-and-Wellness',\n",
       " 'Covid-19-Support',\n",
       " 'Home-Cleaning',\n",
       " 'Gardening',\n",
       " 'Aromatherapy',\n",
       " 'Organic-Gardening',\n",
       " 'Sustainable-Living',\n",
       " 'Self-Care-Routines',\n",
       " 'Mental-Health-Assessments',\n",
       " 'Nutrition-Counseling',\n",
       " 'Travel-Insurance',\n",
       " 'Health-and-Safety-Tips',\n",
       " 'Preparedness-Guides',\n",
       " 'Crisis-Communication',\n",
       " 'Mental-Health-First-Aid',\n",
       " 'Disaster-Relief',\n",
       " 'Community-Building',\n",
       " 'Gratitude-Journals',\n",
       " 'Goal-Setting',\n",
       " 'Mindfulness-Exercises',\n",
       " 'Natural-Remedies',\n",
       " 'Personal-Finance-Planning',\n",
       " 'Healthy-Eating-Recipes',\n",
       " 'Stress-Management',\n",
       " 'Emotional-Intelligence-Development']"
      ]
     },
     "execution_count": 158,
     "metadata": {},
     "output_type": "execute_result"
    }
   ],
   "source": [
    "new_intents = response.replace('</s>',\"\").split('\\n')[2:]\n",
    "new_intents = [intent.split(' ')[-1][1:-1] for intent in new_intents]\n",
    "new_intents"
   ]
  },
  {
   "cell_type": "code",
   "execution_count": 159,
   "id": "7ebed469-a08d-492a-989c-5a4340d10851",
   "metadata": {},
   "outputs": [
    {
     "data": {
      "text/plain": [
       "101"
      ]
     },
     "execution_count": 159,
     "metadata": {},
     "output_type": "execute_result"
    }
   ],
   "source": [
    "intents.extend(new_intents)\n",
    "len(intents)"
   ]
  },
  {
   "cell_type": "code",
   "execution_count": 160,
   "id": "cc5c0677-8516-4499-aa86-5d1c485cec9d",
   "metadata": {},
   "outputs": [
    {
     "data": {
      "text/plain": [
       "100"
      ]
     },
     "execution_count": 160,
     "metadata": {},
     "output_type": "execute_result"
    }
   ],
   "source": [
    "intents = list(set(intents))\n",
    "len(intents)"
   ]
  },
  {
   "cell_type": "code",
   "execution_count": 161,
   "id": "fd08301c-b3fc-43fc-870c-7386a346d96d",
   "metadata": {},
   "outputs": [
    {
     "data": {
      "text/plain": [
       "['Private-Pilot-Lessons',\n",
       " 'Tourism-Packages',\n",
       " 'Vineyard-Tours',\n",
       " 'Motorcycle-Excursions',\n",
       " 'Online-Tutoring',\n",
       " 'Food-and-Wine-Tours',\n",
       " 'Product Warranty Information',\n",
       " 'Budget-Travel-Packages',\n",
       " 'Wine-Tastings',\n",
       " 'Food-Bank-Donation',\n",
       " 'Home-Cleaning',\n",
       " 'Hotel Room Availability',\n",
       " 'Gratitude-Journals',\n",
       " 'Medical-Billing-and-Coding',\n",
       " 'Bank Account Balance',\n",
       " 'Sustainable-Living',\n",
       " 'Health-and-Safety-Tips',\n",
       " 'Housing-Loan-Counseling',\n",
       " 'Trip-Organization',\n",
       " 'Transportation-Services',\n",
       " 'Online-Translation-Services',\n",
       " 'Pet-Sitting-Services',\n",
       " 'Mindfulness-Exercises',\n",
       " 'Luxury-Car-Rentals',\n",
       " 'Airplane-Charter',\n",
       " 'Small-Business-Loans',\n",
       " 'Art-Tutoring',\n",
       " 'Cruise-Ship-Reservations',\n",
       " 'Dietary-Restrictions',\n",
       " 'Travel-Agent-Services',\n",
       " 'Ski-Resort-Bookings',\n",
       " 'Medical Appointment Scheduling',\n",
       " 'Shipping-Inquiry',\n",
       " 'Dietary-Supplement-Sales',\n",
       " 'Import-Export-Services',\n",
       " 'Health-and-Wellness',\n",
       " 'Pet-Care',\n",
       " 'Nutrition-Counseling',\n",
       " 'Job Application Status',\n",
       " 'Natural-Remedies',\n",
       " 'Personal-Financial-Planning',\n",
       " 'Fishing-Charters',\n",
       " 'All-Inclusive-Vacations',\n",
       " 'Airport-Taxis',\n",
       " 'Mental-Health-Support',\n",
       " 'Private-Island-Resorts',\n",
       " 'Private-Boat-Charters',\n",
       " 'Camping-Trips',\n",
       " 'Mental-Health-First-Aid',\n",
       " 'Covid-19-Support',\n",
       " 'Travel-Insurance',\n",
       " 'Insurance Info',\n",
       " 'Adventure-Parks',\n",
       " 'Healthy-Eating-Recipes',\n",
       " 'Emotional-Intelligence-Development',\n",
       " 'Skydiving-Excursions',\n",
       " 'Aromatherapy',\n",
       " 'Nature-Photography-Trips',\n",
       " 'Golf-Course-Reservations',\n",
       " 'Crisis-Communication',\n",
       " 'Community-Building',\n",
       " 'Hotel-Room-Cleaning',\n",
       " 'Yacht-Charter',\n",
       " 'Stress-Management',\n",
       " 'Restaurant Reservation',\n",
       " 'Self-Care-Routines',\n",
       " 'Personal-Finance-Planning',\n",
       " 'Personalized-Travel-Plans',\n",
       " 'Career-Coaching',\n",
       " 'Outdoor-Recreation',\n",
       " 'flight-cancellation',\n",
       " 'Educational Course Enrollment',\n",
       " 'Ziplining-Adventures',\n",
       " 'Child-Care-Services',\n",
       " 'Private-Jet-Reservations',\n",
       " 'book-a-ticket',\n",
       " 'Weather Forecast',\n",
       " 'Gardening',\n",
       " 'Mental-Health-Assessments',\n",
       " 'Home-Repair-Services',\n",
       " 'Car Rental Reservation',\n",
       " 'Organic-Gardening',\n",
       " 'Disaster-Relief',\n",
       " 'Mountain-Biking-Rentals',\n",
       " 'Dental-Care-Plans',\n",
       " 'Cultural-Tours',\n",
       " 'Helicopter-Rides',\n",
       " 'Technical Support',\n",
       " 'Household-Organization',\n",
       " 'Preparedness-Guides',\n",
       " 'Goal-Setting',\n",
       " 'Event-Planning-Services',\n",
       " 'check-reservation',\n",
       " 'Motorcycle-Rental',\n",
       " 'Sightseeing-Tours',\n",
       " 'Teacher-Employment',\n",
       " 'Meal-Planning',\n",
       " 'Furniture-Assembly',\n",
       " 'Private-Beach-Club-Rentals',\n",
       " 'Personal-Fitness-Training']"
      ]
     },
     "execution_count": 161,
     "metadata": {},
     "output_type": "execute_result"
    }
   ],
   "source": [
    "intents"
   ]
  },
  {
   "cell_type": "markdown",
   "id": "15188e2a-5556-4dd4-9099-66b332c57c16",
   "metadata": {},
   "source": [
    "# Example Curation"
   ]
  },
  {
   "cell_type": "code",
   "execution_count": 2,
   "id": "3139b6b2-a1fb-42d1-8871-97564b27dce1",
   "metadata": {},
   "outputs": [],
   "source": [
    "import json\n",
    "import ast"
   ]
  },
  {
   "cell_type": "code",
   "execution_count": 278,
   "id": "72261ef9-77d9-4dc2-b2f4-c93ee6d8cf5e",
   "metadata": {},
   "outputs": [],
   "source": [
    "seed_data = [{\n",
    "  \"name\": \"book-a-ticket\",\n",
    "  \"examples\": [\n",
    "    \"I want to book a ticket from Hyderabad to Chennai\",\n",
    "    \"I'd like to book a plane ticket for a flight on August 25th\",\n",
    "    \"Can you help me reserve a seat on a flight from New York to Los Angeles?\",\n",
    "    \"I'm interested in flying to Paris from London on the 10th of September.\",\n",
    "    \"I want to travel to Tokyo and I need a ticket for a flight next week.\",\n",
    "    \"Could you assist me in booking a flight from Chicago to Miami on the 15th of October?\",\n",
    "    \"I'm looking for a round-trip ticket from San Francisco to Seattle for the weekend of November 5th.\",\n",
    "    \"I need to get to Dubai from Mumbai, preferably on a direct flight.\",\n",
    "    \"Can you check for available flights from Toronto to Vancouver for the 20th of December?\",\n",
    "    \"I'm planning a trip to Rome, and I'd like to book a business class ticket with extra legroom.\",\n",
    "    \"I want to fly to London, departing on the 8th of January and returning on the 20th.\"\n",
    "  ]\n",
    "},\n",
    "{\n",
    "  \"name\": \"check-reservation\",\n",
    "  \"examples\": [\n",
    "    \"What's the reservation status for booking ID ABC123?\",\n",
    "    \"Can you provide me with the current boarding status for my flight?\",\n",
    "    \"I'd like to know if my reservation for flight XYZ456 is confirmed.\",\n",
    "    \"What's the seat number allocated for my reservation with confirmation number DEF789?\",\n",
    "    \"Has there been any seat upgrade for my booking on flight LMN567?\",\n",
    "    \"Can you check the reservation status for the email address john.doe@email.com?\",\n",
    "    \"I want to inquire about the boarding status of my flight with booking reference GHI234.\",\n",
    "    \"Please tell me the current status of my reservation for flight JKL890.\",\n",
    "    \"Has there been any change in the seat assignment for my booking on flight MNO123?\",\n",
    "    \"What's the reservation status for my ticket on the flight with departure code PQR456?\"\n",
    "  ]\n",
    "}\n",
    "            ]\n"
   ]
  },
  {
   "cell_type": "code",
   "execution_count": null,
   "id": "018541ab-763c-4d51-8354-0c6f89b679a4",
   "metadata": {},
   "outputs": [],
   "source": [
    "counter = 0\n",
    "invalid = 0\n",
    "\n",
    "for intent in intents:\n",
    "    \n",
    "    if intent in ['book-a-ticket','check-reservation','flight-cancellation']:\n",
    "        continue\n",
    "\n",
    "    example = random.choice(seed_data)\n",
    "    \n",
    "    one_shot_prompt = f\"\"\"\n",
    "    See below dictiona data point which has two keys 'name' and 'examples'. 'name' key represents the intent.\n",
    "    'examples' key contains examples related to this intent.\n",
    "    Below is a sample data point for intent {example[\"name\"]} and corresponding examples.\n",
    "    \n",
    "    {example}\n",
    "    \n",
    "    Create a data point following the exact same format for intent {intent} and always use \"\" for strings.\n",
    "    Do not use placeholder for entities.\n",
    "    \"\"\"\n",
    "    full_prompt = main_prompter(input_prompt = one_shot_prompt)\n",
    "    response = generate_response(full_prompt, temp = 1.2)\n",
    "    new_data_point = '{' + response[response.find(\"{\")+1:response.find(\"}\")+1]\n",
    "    \n",
    "    try:\n",
    "        new_data_point = ast.literal_eval(new_data_point)\n",
    "        seed_data.append(new_data_point)\n",
    "        counter += 1\n",
    "        \n",
    "    except Exception as e:\n",
    "        invalid += 1\n",
    "        \n",
    "    if counter % 5 == 0: print(f'{counter} data points generated ')\n",
    "    "
   ]
  },
  {
   "cell_type": "code",
   "execution_count": 280,
   "id": "d6a81c5e-be53-413f-8edf-352b9995f1ab",
   "metadata": {},
   "outputs": [
    {
     "data": {
      "text/plain": [
       "94"
      ]
     },
     "execution_count": 280,
     "metadata": {},
     "output_type": "execute_result"
    }
   ],
   "source": [
    "len(seed_data)"
   ]
  },
  {
   "cell_type": "code",
   "execution_count": 282,
   "id": "a26c3a1e-cd05-41c9-a217-5d5029cd6a15",
   "metadata": {},
   "outputs": [],
   "source": [
    "with open(\"intents.json\", \"w\") as file:\n",
    "    json.dump(seed_data, file)\n"
   ]
  },
  {
   "cell_type": "code",
   "execution_count": 4,
   "id": "f9dc05df-e599-4ed3-9e9b-e54a40571a05",
   "metadata": {},
   "outputs": [],
   "source": [
    "\n",
    "with open('intents.json', 'r') as f:\n",
    "    intents_data = json.load(f)\n",
    "    \n",
    "formatted_intents = []\n",
    "\n",
    "for intent in intents_data:\n",
    "\n",
    "    intent['name'] = intent['name'].replace(' ','-')\n",
    "    formatted_intents.append(intent)\n",
    "\n",
    "\n",
    "with open(\"intents.json\", \"w\") as file:\n",
    "    json.dump(formatted_intents, file)"
   ]
  },
  {
   "cell_type": "code",
   "execution_count": null,
   "id": "b5120146-0dc5-46c3-b70e-4b5e6772fde5",
   "metadata": {},
   "outputs": [],
   "source": []
  },
  {
   "cell_type": "markdown",
   "id": "a7f3b73b-81c9-423c-88cb-359d39b5a7ef",
   "metadata": {},
   "source": [
    "# Utterance Generation"
   ]
  },
  {
   "cell_type": "code",
   "execution_count": 19,
   "id": "996a13bc-299b-46d4-a673-e610c9a1a364",
   "metadata": {},
   "outputs": [],
   "source": [
    "with open('intents.json', 'r') as f:\n",
    "    intents = json.load(f)"
   ]
  },
  {
   "cell_type": "code",
   "execution_count": 20,
   "id": "07254d72-fafc-42f5-a5a8-422396081f0a",
   "metadata": {},
   "outputs": [],
   "source": [
    "example = {\n",
    "  \"name\": \"check-reservation\",\n",
    "  \"examples\": [\n",
    "    \"What's the reservation status for booking ID ABC123?\",\n",
    "    \"Can you provide me with the current boarding status for my flight?\",\n",
    "    \"I'd like to know if my reservation for flight XYZ456 is confirmed.\",\n",
    "    \"What's the seat number allocated for my reservation with confirmation number DEF789?\",\n",
    "    \"Has there been any seat upgrade for my booking on flight LMN567?\",\n",
    "    \"Can you check the reservation status for the email address john.doe@email.com?\",\n",
    "    \"I want to inquire about the boarding status of my flight with booking reference GHI234.\",\n",
    "    \"Please tell me the current status of my reservation for flight JKL890.\",\n",
    "    \"Has there been any change in the seat assignment for my booking on flight MNO123?\",\n",
    "    \"What's the reservation status for my ticket on the flight with departure code PQR456?\"\n",
    "  ]\n",
    "}\n"
   ]
  },
  {
   "cell_type": "code",
   "execution_count": 23,
   "id": "027a2a9d-a516-42c9-9857-f6fcd4c81e0d",
   "metadata": {},
   "outputs": [
    {
     "name": "stderr",
     "output_type": "stream",
     "text": [
      "The attention mask and the pad token id were not set. As a consequence, you may observe unexpected behavior. Please pass your input's `attention_mask` to obtain reliable results.\n",
      "Setting `pad_token_id` to `eos_token_id`:2 for open-end generation.\n"
     ]
    },
    {
     "name": "stdout",
     "output_type": "stream",
     "text": [
      "book-a-ticket\n"
     ]
    },
    {
     "name": "stderr",
     "output_type": "stream",
     "text": [
      "The attention mask and the pad token id were not set. As a consequence, you may observe unexpected behavior. Please pass your input's `attention_mask` to obtain reliable results.\n",
      "Setting `pad_token_id` to `eos_token_id`:2 for open-end generation.\n"
     ]
    },
    {
     "name": "stdout",
     "output_type": "stream",
     "text": [
      " \"I'd like to book a flight from Hyderabad to Chennai.\"\n",
      "check-reservation\n"
     ]
    },
    {
     "name": "stderr",
     "output_type": "stream",
     "text": [
      "The attention mask and the pad token id were not set. As a consequence, you may observe unexpected behavior. Please pass your input's `attention_mask` to obtain reliable results.\n",
      "Setting `pad_token_id` to `eos_token_id`:2 for open-end generation.\n"
     ]
    },
    {
     "name": "stdout",
     "output_type": "stream",
     "text": [
      " \"Please provide me with the current reservation status for my flight.\"\n",
      "Private-Pilot-Lessons\n"
     ]
    },
    {
     "name": "stderr",
     "output_type": "stream",
     "text": [
      "The attention mask and the pad token id were not set. As a consequence, you may observe unexpected behavior. Please pass your input's `attention_mask` to obtain reliable results.\n",
      "Setting `pad_token_id` to `eos_token_id`:2 for open-end generation.\n"
     ]
    },
    {
     "name": "stdout",
     "output_type": "stream",
     "text": [
      " \"I'm interested in taking private pilot lessons. Can you recommend a flight school?\"\n",
      "Tourism-Packages\n"
     ]
    },
    {
     "name": "stderr",
     "output_type": "stream",
     "text": [
      "The attention mask and the pad token id were not set. As a consequence, you may observe unexpected behavior. Please pass your input's `attention_mask` to obtain reliable results.\n",
      "Setting `pad_token_id` to `eos_token_id`:2 for open-end generation.\n"
     ]
    },
    {
     "name": "stdout",
     "output_type": "stream",
     "text": [
      " \"I'm looking for a package tour to Paris for a week in the summer.\"\n",
      "Online-Tutoring\n"
     ]
    },
    {
     "name": "stderr",
     "output_type": "stream",
     "text": [
      "The attention mask and the pad token id were not set. As a consequence, you may observe unexpected behavior. Please pass your input's `attention_mask` to obtain reliable results.\n",
      "Setting `pad_token_id` to `eos_token_id`:2 for open-end generation.\n"
     ]
    },
    {
     "name": "stdout",
     "output_type": "stream",
     "text": [
      " \"I need help with my algebra homework.\"\n",
      "Food-and-Wine-Tours\n"
     ]
    },
    {
     "name": "stderr",
     "output_type": "stream",
     "text": [
      "The attention mask and the pad token id were not set. As a consequence, you may observe unexpected behavior. Please pass your input's `attention_mask` to obtain reliable results.\n",
      "Setting `pad_token_id` to `eos_token_id`:2 for open-end generation.\n"
     ]
    },
    {
     "name": "stdout",
     "output_type": "stream",
     "text": [
      " \"I can recommend some options for you.\"\n",
      "Product-Warranty-Information\n"
     ]
    },
    {
     "name": "stderr",
     "output_type": "stream",
     "text": [
      "The attention mask and the pad token id were not set. As a consequence, you may observe unexpected behavior. Please pass your input's `attention_mask` to obtain reliable results.\n",
      "Setting `pad_token_id` to `eos_token_id`:2 for open-end generation.\n"
     ]
    },
    {
     "name": "stdout",
     "output_type": "stream",
     "text": [
      " \"I'm looking for information about the warranty on my product. Can you help me?\"\n",
      "Budget-Travel-Packages\n"
     ]
    },
    {
     "name": "stderr",
     "output_type": "stream",
     "text": [
      "The attention mask and the pad token id were not set. As a consequence, you may observe unexpected behavior. Please pass your input's `attention_mask` to obtain reliable results.\n",
      "Setting `pad_token_id` to `eos_token_id`:2 for open-end generation.\n"
     ]
    },
    {
     "name": "stdout",
     "output_type": "stream",
     "text": [
      " \"I'm looking for budget travel packages.\"\n",
      "Wine-Tastings\n"
     ]
    },
    {
     "name": "stderr",
     "output_type": "stream",
     "text": [
      "The attention mask and the pad token id were not set. As a consequence, you may observe unexpected behavior. Please pass your input's `attention_mask` to obtain reliable results.\n",
      "Setting `pad_token_id` to `eos_token_id`:2 for open-end generation.\n"
     ]
    },
    {
     "name": "stdout",
     "output_type": "stream",
     "text": [
      " \"I'm interested in attending a wine tasting in Napa Valley.\"\n",
      "Food-Bank-Donation\n"
     ]
    },
    {
     "name": "stderr",
     "output_type": "stream",
     "text": [
      "The attention mask and the pad token id were not set. As a consequence, you may observe unexpected behavior. Please pass your input's `attention_mask` to obtain reliable results.\n",
      "Setting `pad_token_id` to `eos_token_id`:2 for open-end generation.\n"
     ]
    },
    {
     "name": "stdout",
     "output_type": "stream",
     "text": [
      " \"I would like to donate food to a local food bank.\"\n",
      "Home-Cleaning\n"
     ]
    },
    {
     "name": "stderr",
     "output_type": "stream",
     "text": [
      "The attention mask and the pad token id were not set. As a consequence, you may observe unexpected behavior. Please pass your input's `attention_mask` to obtain reliable results.\n",
      "Setting `pad_token_id` to `eos_token_id`:2 for open-end generation.\n"
     ]
    },
    {
     "name": "stdout",
     "output_type": "stream",
     "text": [
      " \"I need help with cleaning my entire house.\"\n",
      "Hotel-Room-Availability\n"
     ]
    },
    {
     "name": "stderr",
     "output_type": "stream",
     "text": [
      "The attention mask and the pad token id were not set. As a consequence, you may observe unexpected behavior. Please pass your input's `attention_mask` to obtain reliable results.\n",
      "Setting `pad_token_id` to `eos_token_id`:2 for open-end generation.\n"
     ]
    },
    {
     "name": "stdout",
     "output_type": "stream",
     "text": [
      " \"Inquiring about hotel room availability in City.\"\n",
      "Gratitude-Journals\n"
     ]
    },
    {
     "name": "stderr",
     "output_type": "stream",
     "text": [
      "The attention mask and the pad token id were not set. As a consequence, you may observe unexpected behavior. Please pass your input's `attention_mask` to obtain reliable results.\n",
      "Setting `pad_token_id` to `eos_token_id`:2 for open-end generation.\n"
     ]
    },
    {
     "name": "stdout",
     "output_type": "stream",
     "text": [
      " \"Can you help me keep track of my daily gratitudes?\"\n",
      "Medical-Billing-and-Coding\n"
     ]
    },
    {
     "name": "stderr",
     "output_type": "stream",
     "text": [
      "The attention mask and the pad token id were not set. As a consequence, you may observe unexpected behavior. Please pass your input's `attention_mask` to obtain reliable results.\n",
      "Setting `pad_token_id` to `eos_token_id`:2 for open-end generation.\n"
     ]
    },
    {
     "name": "stdout",
     "output_type": "stream",
     "text": [
      " \"I can help you with medical billing and coding.\"\n",
      "Bank-Account-Balance\n"
     ]
    },
    {
     "name": "stderr",
     "output_type": "stream",
     "text": [
      "The attention mask and the pad token id were not set. As a consequence, you may observe unexpected behavior. Please pass your input's `attention_mask` to obtain reliable results.\n",
      "Setting `pad_token_id` to `eos_token_id`:2 for open-end generation.\n"
     ]
    },
    {
     "name": "stdout",
     "output_type": "stream",
     "text": [
      " \"Please provide me with the current status of my reservation.\"\n",
      "Sustainable-Living\n"
     ]
    },
    {
     "name": "stderr",
     "output_type": "stream",
     "text": [
      "The attention mask and the pad token id were not set. As a consequence, you may observe unexpected behavior. Please pass your input's `attention_mask` to obtain reliable results.\n",
      "Setting `pad_token_id` to `eos_token_id`:2 for open-end generation.\n"
     ]
    },
    {
     "name": "stdout",
     "output_type": "stream",
     "text": [
      " \"What are some sustainable living tips?\"\n",
      "Health-and-Safety-Tips\n"
     ]
    },
    {
     "name": "stderr",
     "output_type": "stream",
     "text": [
      "The attention mask and the pad token id were not set. As a consequence, you may observe unexpected behavior. Please pass your input's `attention_mask` to obtain reliable results.\n",
      "Setting `pad_token_id` to `eos_token_id`:2 for open-end generation.\n"
     ]
    },
    {
     "name": "stdout",
     "output_type": "stream",
     "text": [
      " \"I want some tips on staying safe while traveling.\"\n",
      "Housing-Loan-Counseling\n"
     ]
    },
    {
     "name": "stderr",
     "output_type": "stream",
     "text": [
      "The attention mask and the pad token id were not set. As a consequence, you may observe unexpected behavior. Please pass your input's `attention_mask` to obtain reliable results.\n",
      "Setting `pad_token_id` to `eos_token_id`:2 for open-end generation.\n"
     ]
    },
    {
     "name": "stdout",
     "output_type": "stream",
     "text": [
      " \"I can help you with your housing loan counseling questions. What would you like to know?\"\n",
      "Trip-Organization\n"
     ]
    },
    {
     "name": "stderr",
     "output_type": "stream",
     "text": [
      "The attention mask and the pad token id were not set. As a consequence, you may observe unexpected behavior. Please pass your input's `attention_mask` to obtain reliable results.\n",
      "Setting `pad_token_id` to `eos_token_id`:2 for open-end generation.\n"
     ]
    },
    {
     "name": "stdout",
     "output_type": "stream",
     "text": [
      " \"I need help planning a trip to Paris for a week in the summer.\"\n",
      "Transportation-Services\n"
     ]
    },
    {
     "name": "stderr",
     "output_type": "stream",
     "text": [
      "The attention mask and the pad token id were not set. As a consequence, you may observe unexpected behavior. Please pass your input's `attention_mask` to obtain reliable results.\n",
      "Setting `pad_token_id` to `eos_token_id`:2 for open-end generation.\n"
     ]
    },
    {
     "name": "stdout",
     "output_type": "stream",
     "text": [
      " \"I'm looking for transportation services to/from City/State/Country. Can you recommend any options?\"\n",
      "Online-Translation-Services\n"
     ]
    },
    {
     "name": "stderr",
     "output_type": "stream",
     "text": [
      "The attention mask and the pad token id were not set. As a consequence, you may observe unexpected behavior. Please pass your input's `attention_mask` to obtain reliable results.\n",
      "Setting `pad_token_id` to `eos_token_id`:2 for open-end generation.\n"
     ]
    },
    {
     "name": "stdout",
     "output_type": "stream",
     "text": [
      " \"I need help with translating this document.\"\n",
      "Pet-Sitting-Services\n"
     ]
    },
    {
     "name": "stderr",
     "output_type": "stream",
     "text": [
      "The attention mask and the pad token id were not set. As a consequence, you may observe unexpected behavior. Please pass your input's `attention_mask` to obtain reliable results.\n",
      "Setting `pad_token_id` to `eos_token_id`:2 for open-end generation.\n"
     ]
    },
    {
     "name": "stdout",
     "output_type": "stream",
     "text": [
      " \"I'm looking for a pet sitting service for my cat and dog.\"\n",
      "Mindfulness-Exercises\n"
     ]
    },
    {
     "name": "stderr",
     "output_type": "stream",
     "text": [
      "The attention mask and the pad token id were not set. As a consequence, you may observe unexpected behavior. Please pass your input's `attention_mask` to obtain reliable results.\n",
      "Setting `pad_token_id` to `eos_token_id`:2 for open-end generation.\n"
     ]
    },
    {
     "name": "stdout",
     "output_type": "stream",
     "text": [
      " \"I can guide you through a mindfulness meditation session.\"\n",
      "Luxury-Car-Rentals\n"
     ]
    },
    {
     "name": "stderr",
     "output_type": "stream",
     "text": [
      "The attention mask and the pad token id were not set. As a consequence, you may observe unexpected behavior. Please pass your input's `attention_mask` to obtain reliable results.\n",
      "Setting `pad_token_id` to `eos_token_id`:2 for open-end generation.\n"
     ]
    },
    {
     "name": "stdout",
     "output_type": "stream",
     "text": [
      " \"I'd like to book a luxury car rental for a week in Paris, can you help me?\"\n",
      "Airplane-Charter\n"
     ]
    },
    {
     "name": "stderr",
     "output_type": "stream",
     "text": [
      "The attention mask and the pad token id were not set. As a consequence, you may observe unexpected behavior. Please pass your input's `attention_mask` to obtain reliable results.\n",
      "Setting `pad_token_id` to `eos_token_id`:2 for open-end generation.\n"
     ]
    },
    {
     "name": "stdout",
     "output_type": "stream",
     "text": [
      " \"I'm looking for a private jet for a personal flight.\"\n",
      "Small-Business-Loans\n"
     ]
    },
    {
     "name": "stderr",
     "output_type": "stream",
     "text": [
      "The attention mask and the pad token id were not set. As a consequence, you may observe unexpected behavior. Please pass your input's `attention_mask` to obtain reliable results.\n",
      "Setting `pad_token_id` to `eos_token_id`:2 for open-end generation.\n"
     ]
    },
    {
     "name": "stdout",
     "output_type": "stream",
     "text": [
      " \"I'm interested in learning more about small business loans.\"\n",
      "art-tutoring\n"
     ]
    },
    {
     "name": "stderr",
     "output_type": "stream",
     "text": [
      "The attention mask and the pad token id were not set. As a consequence, you may observe unexpected behavior. Please pass your input's `attention_mask` to obtain reliable results.\n",
      "Setting `pad_token_id` to `eos_token_id`:2 for open-end generation.\n"
     ]
    },
    {
     "name": "stdout",
     "output_type": "stream",
     "text": [
      " \"I can help you with art tutoring classes, hours, practice tests, materials, cost, payment methods, refund policies, and more. Please let me know if you have any questions.\"\n",
      "Dietary-Restrictions\n"
     ]
    },
    {
     "name": "stderr",
     "output_type": "stream",
     "text": [
      "The attention mask and the pad token id were not set. As a consequence, you may observe unexpected behavior. Please pass your input's `attention_mask` to obtain reliable results.\n",
      "Setting `pad_token_id` to `eos_token_id`:2 for open-end generation.\n"
     ]
    },
    {
     "name": "stdout",
     "output_type": "stream",
     "text": [
      " \"I'm looking for healthy and delicious meal ideas that cater to my dietary restrictions. Can you suggest some options?\"\n",
      "Travel-Agent-Services\n"
     ]
    },
    {
     "name": "stderr",
     "output_type": "stream",
     "text": [
      "The attention mask and the pad token id were not set. As a consequence, you may observe unexpected behavior. Please pass your input's `attention_mask` to obtain reliable results.\n",
      "Setting `pad_token_id` to `eos_token_id`:2 for open-end generation.\n"
     ]
    },
    {
     "name": "stdout",
     "output_type": "stream",
     "text": [
      " \"I'm looking for travel recommendations.\"\n",
      "Ski-Resort-Bookings\n"
     ]
    },
    {
     "name": "stderr",
     "output_type": "stream",
     "text": [
      "The attention mask and the pad token id were not set. As a consequence, you may observe unexpected behavior. Please pass your input's `attention_mask` to obtain reliable results.\n",
      "Setting `pad_token_id` to `eos_token_id`:2 for open-end generation.\n"
     ]
    },
    {
     "name": "stdout",
     "output_type": "stream",
     "text": [
      " \"I'd like to book a ski resort for my family.\"\n",
      "Medical-Appointment-Scheduling\n"
     ]
    },
    {
     "name": "stderr",
     "output_type": "stream",
     "text": [
      "The attention mask and the pad token id were not set. As a consequence, you may observe unexpected behavior. Please pass your input's `attention_mask` to obtain reliable results.\n",
      "Setting `pad_token_id` to `eos_token_id`:2 for open-end generation.\n"
     ]
    },
    {
     "name": "stdout",
     "output_type": "stream",
     "text": [
      " \"What is my next medical appointment time?\"\n",
      "Shipping-Inquiry\n"
     ]
    },
    {
     "name": "stderr",
     "output_type": "stream",
     "text": [
      "The attention mask and the pad token id were not set. As a consequence, you may observe unexpected behavior. Please pass your input's `attention_mask` to obtain reliable results.\n",
      "Setting `pad_token_id` to `eos_token_id`:2 for open-end generation.\n"
     ]
    },
    {
     "name": "stdout",
     "output_type": "stream",
     "text": [
      " \"I'm having trouble tracking my package. Can you help me with the estimated delivery time and tracking information?\"\n",
      "Dietary-Supplement-Sales\n"
     ]
    },
    {
     "name": "stderr",
     "output_type": "stream",
     "text": [
      "The attention mask and the pad token id were not set. As a consequence, you may observe unexpected behavior. Please pass your input's `attention_mask` to obtain reliable results.\n",
      "Setting `pad_token_id` to `eos_token_id`:2 for open-end generation.\n"
     ]
    },
    {
     "name": "stdout",
     "output_type": "stream",
     "text": [
      " \"I'm interested in purchasing a dietary supplement, what are your best sellers?\"\n",
      "Import-Export-Services\n"
     ]
    },
    {
     "name": "stderr",
     "output_type": "stream",
     "text": [
      "The attention mask and the pad token id were not set. As a consequence, you may observe unexpected behavior. Please pass your input's `attention_mask` to obtain reliable results.\n",
      "Setting `pad_token_id` to `eos_token_id`:2 for open-end generation.\n"
     ]
    },
    {
     "name": "stdout",
     "output_type": "stream",
     "text": [
      " \"I'm looking for a shipping company to ship my item to Canada.\"\n",
      "Health-and-Wellness\n"
     ]
    },
    {
     "name": "stderr",
     "output_type": "stream",
     "text": [
      "The attention mask and the pad token id were not set. As a consequence, you may observe unexpected behavior. Please pass your input's `attention_mask` to obtain reliable results.\n",
      "Setting `pad_token_id` to `eos_token_id`:2 for open-end generation.\n"
     ]
    },
    {
     "name": "stdout",
     "output_type": "stream",
     "text": [
      " \"What health and wellness services are available in City?\"\n",
      "Pet-Care\n"
     ]
    },
    {
     "name": "stderr",
     "output_type": "stream",
     "text": [
      "The attention mask and the pad token id were not set. As a consequence, you may observe unexpected behavior. Please pass your input's `attention_mask` to obtain reliable results.\n",
      "Setting `pad_token_id` to `eos_token_id`:2 for open-end generation.\n"
     ]
    },
    {
     "name": "stdout",
     "output_type": "stream",
     "text": [
      " \"The average cost of grooming a dog can vary depending on the breed, size, and level of care required. It's best to consult with a professional groomer or veterinarian for a more accurate estimate.\"\n",
      "Nutrition-Counseling\n"
     ]
    },
    {
     "name": "stderr",
     "output_type": "stream",
     "text": [
      "The attention mask and the pad token id were not set. As a consequence, you may observe unexpected behavior. Please pass your input's `attention_mask` to obtain reliable results.\n",
      "Setting `pad_token_id` to `eos_token_id`:2 for open-end generation.\n"
     ]
    },
    {
     "name": "stdout",
     "output_type": "stream",
     "text": [
      " \"I can assist you in developing a meal plan for a patient with diabetes and a low carbohydrate diet.\"\n",
      "Job-Application-Status\n"
     ]
    },
    {
     "name": "stderr",
     "output_type": "stream",
     "text": [
      "The attention mask and the pad token id were not set. As a consequence, you may observe unexpected behavior. Please pass your input's `attention_mask` to obtain reliable results.\n",
      "Setting `pad_token_id` to `eos_token_id`:2 for open-end generation.\n"
     ]
    },
    {
     "name": "stdout",
     "output_type": "stream",
     "text": [
      " \"I'm having trouble with my job application status. Can you help me?\"\n",
      "Natural-Remedies\n"
     ]
    },
    {
     "name": "stderr",
     "output_type": "stream",
     "text": [
      "The attention mask and the pad token id were not set. As a consequence, you may observe unexpected behavior. Please pass your input's `attention_mask` to obtain reliable results.\n",
      "Setting `pad_token_id` to `eos_token_id`:2 for open-end generation.\n"
     ]
    },
    {
     "name": "stdout",
     "output_type": "stream",
     "text": [
      " \"I'm looking for natural remedies for my joint pain. Can you recommend some products or techniques?\"\n",
      "Personal-Financial-Planning\n"
     ]
    },
    {
     "name": "stderr",
     "output_type": "stream",
     "text": [
      "The attention mask and the pad token id were not set. As a consequence, you may observe unexpected behavior. Please pass your input's `attention_mask` to obtain reliable results.\n",
      "Setting `pad_token_id` to `eos_token_id`:2 for open-end generation.\n"
     ]
    },
    {
     "name": "stdout",
     "output_type": "stream",
     "text": [
      " \"I'd like to know about personal financial planning.\"\n",
      "Fishing-Charters\n"
     ]
    },
    {
     "name": "stderr",
     "output_type": "stream",
     "text": [
      "The attention mask and the pad token id were not set. As a consequence, you may observe unexpected behavior. Please pass your input's `attention_mask` to obtain reliable results.\n",
      "Setting `pad_token_id` to `eos_token_id`:2 for open-end generation.\n"
     ]
    },
    {
     "name": "stdout",
     "output_type": "stream",
     "text": [
      " \"What are the different types of fishing charters available?\"\n",
      "All-Inclusive-Vacations\n"
     ]
    },
    {
     "name": "stderr",
     "output_type": "stream",
     "text": [
      "The attention mask and the pad token id were not set. As a consequence, you may observe unexpected behavior. Please pass your input's `attention_mask` to obtain reliable results.\n",
      "Setting `pad_token_id` to `eos_token_id`:2 for open-end generation.\n"
     ]
    },
    {
     "name": "stdout",
     "output_type": "stream",
     "text": [
      " \"Can I use points or miles for my all-inclusive vacation?\"\n",
      "Airport-Taxis\n"
     ]
    },
    {
     "name": "stderr",
     "output_type": "stream",
     "text": [
      "The attention mask and the pad token id were not set. As a consequence, you may observe unexpected behavior. Please pass your input's `attention_mask` to obtain reliable results.\n",
      "Setting `pad_token_id` to `eos_token_id`:2 for open-end generation.\n"
     ]
    },
    {
     "name": "stdout",
     "output_type": "stream",
     "text": [
      " \"Can you provide a taxi service at the airport?\"\n",
      "Mental-Health-Support\n"
     ]
    },
    {
     "name": "stderr",
     "output_type": "stream",
     "text": [
      "The attention mask and the pad token id were not set. As a consequence, you may observe unexpected behavior. Please pass your input's `attention_mask` to obtain reliable results.\n",
      "Setting `pad_token_id` to `eos_token_id`:2 for open-end generation.\n"
     ]
    },
    {
     "name": "stdout",
     "output_type": "stream",
     "text": [
      " \"I'm feeling overwhelmed and need someone to talk to. Can you help me find mental health support?\"\n",
      "Private-Island-Resorts\n"
     ]
    },
    {
     "name": "stderr",
     "output_type": "stream",
     "text": [
      "The attention mask and the pad token id were not set. As a consequence, you may observe unexpected behavior. Please pass your input's `attention_mask` to obtain reliable results.\n",
      "Setting `pad_token_id` to `eos_token_id`:2 for open-end generation.\n"
     ]
    },
    {
     "name": "stdout",
     "output_type": "stream",
     "text": [
      " \"I'm looking for a private island resort with a private beach and luxurious amenities. Can you recommend one?\"\n",
      "Private-Boat-Charters\n"
     ]
    },
    {
     "name": "stderr",
     "output_type": "stream",
     "text": [
      "The attention mask and the pad token id were not set. As a consequence, you may observe unexpected behavior. Please pass your input's `attention_mask` to obtain reliable results.\n",
      "Setting `pad_token_id` to `eos_token_id`:2 for open-end generation.\n"
     ]
    },
    {
     "name": "stdout",
     "output_type": "stream",
     "text": [
      " \"I'd like to book a private boat charter for a group of 10 for a 3-day sailing trip in the Caribbean.\"\n",
      "Camping-Trips\n"
     ]
    },
    {
     "name": "stderr",
     "output_type": "stream",
     "text": [
      "The attention mask and the pad token id were not set. As a consequence, you may observe unexpected behavior. Please pass your input's `attention_mask` to obtain reliable results.\n",
      "Setting `pad_token_id` to `eos_token_id`:2 for open-end generation.\n"
     ]
    },
    {
     "name": "stdout",
     "output_type": "stream",
     "text": [
      " \"I'm looking for a campsite with a water source. Can you help me find one with a campground or lake nearby?\"\n",
      "Mental-Health-First-Aid\n"
     ]
    },
    {
     "name": "stderr",
     "output_type": "stream",
     "text": [
      "The attention mask and the pad token id were not set. As a consequence, you may observe unexpected behavior. Please pass your input's `attention_mask` to obtain reliable results.\n",
      "Setting `pad_token_id` to `eos_token_id`:2 for open-end generation.\n"
     ]
    },
    {
     "name": "stdout",
     "output_type": "stream",
     "text": [
      " \"I'm feeling really down and can't seem to shake this feeling. Can you recommend some natural remedies that might help with anxiety?\"\n",
      "Covid-19-Support\n"
     ]
    },
    {
     "name": "stderr",
     "output_type": "stream",
     "text": [
      "The attention mask and the pad token id were not set. As a consequence, you may observe unexpected behavior. Please pass your input's `attention_mask` to obtain reliable results.\n",
      "Setting `pad_token_id` to `eos_token_id`:2 for open-end generation.\n"
     ]
    },
    {
     "name": "stdout",
     "output_type": "stream",
     "text": [
      " \"I would like to know more about COVID-19 and how it affects the community.\"\n",
      "Travel-Insurance\n"
     ]
    },
    {
     "name": "stderr",
     "output_type": "stream",
     "text": [
      "The attention mask and the pad token id were not set. As a consequence, you may observe unexpected behavior. Please pass your input's `attention_mask` to obtain reliable results.\n",
      "Setting `pad_token_id` to `eos_token_id`:2 for open-end generation.\n"
     ]
    },
    {
     "name": "stdout",
     "output_type": "stream",
     "text": [
      " \"I need travel insurance for a trip to France.\"\n",
      "Adventure-Parks\n"
     ]
    },
    {
     "name": "stderr",
     "output_type": "stream",
     "text": [
      "The attention mask and the pad token id were not set. As a consequence, you may observe unexpected behavior. Please pass your input's `attention_mask` to obtain reliable results.\n",
      "Setting `pad_token_id` to `eos_token_id`:2 for open-end generation.\n"
     ]
    },
    {
     "name": "stdout",
     "output_type": "stream",
     "text": [
      " \"Can you recommend an adventure park near my hotel?\"\n",
      "Healthy-Eating-Recipes\n"
     ]
    },
    {
     "name": "stderr",
     "output_type": "stream",
     "text": [
      "The attention mask and the pad token id were not set. As a consequence, you may observe unexpected behavior. Please pass your input's `attention_mask` to obtain reliable results.\n",
      "Setting `pad_token_id` to `eos_token_id`:2 for open-end generation.\n"
     ]
    },
    {
     "name": "stdout",
     "output_type": "stream",
     "text": [
      " \"Can you recommend some healthy meal ideas for vegetarians?\"\n",
      "Emotional-Intelligence-Development\n"
     ]
    },
    {
     "name": "stderr",
     "output_type": "stream",
     "text": [
      "The attention mask and the pad token id were not set. As a consequence, you may observe unexpected behavior. Please pass your input's `attention_mask` to obtain reliable results.\n",
      "Setting `pad_token_id` to `eos_token_id`:2 for open-end generation.\n"
     ]
    },
    {
     "name": "stdout",
     "output_type": "stream",
     "text": [
      " \"I'm looking for advice on how to improve my emotional intelligence. Can you help me?\"\n",
      "Skydiving-Excursions\n"
     ]
    },
    {
     "name": "stderr",
     "output_type": "stream",
     "text": [
      "The attention mask and the pad token id were not set. As a consequence, you may observe unexpected behavior. Please pass your input's `attention_mask` to obtain reliable results.\n",
      "Setting `pad_token_id` to `eos_token_id`:2 for open-end generation.\n"
     ]
    },
    {
     "name": "stdout",
     "output_type": "stream",
     "text": [
      " \"I'd like to book a skydiving excursion for my upcoming vacation. Can you help me plan it?\"\n",
      "Aromatherapy\n"
     ]
    },
    {
     "name": "stderr",
     "output_type": "stream",
     "text": [
      "The attention mask and the pad token id were not set. As a consequence, you may observe unexpected behavior. Please pass your input's `attention_mask` to obtain reliable results.\n",
      "Setting `pad_token_id` to `eos_token_id`:2 for open-end generation.\n"
     ]
    },
    {
     "name": "stdout",
     "output_type": "stream",
     "text": [
      " \"Can you please prepare a soothing aromatherapy session for me?\"\n",
      "Nature-Photography-Trips\n"
     ]
    },
    {
     "name": "stderr",
     "output_type": "stream",
     "text": [
      "The attention mask and the pad token id were not set. As a consequence, you may observe unexpected behavior. Please pass your input's `attention_mask` to obtain reliable results.\n",
      "Setting `pad_token_id` to `eos_token_id`:2 for open-end generation.\n"
     ]
    },
    {
     "name": "stdout",
     "output_type": "stream",
     "text": [
      " \"Can you suggest some photography trips in nature?\"\n",
      "Golf-Course-Reservations\n"
     ]
    },
    {
     "name": "stderr",
     "output_type": "stream",
     "text": [
      "The attention mask and the pad token id were not set. As a consequence, you may observe unexpected behavior. Please pass your input's `attention_mask` to obtain reliable results.\n",
      "Setting `pad_token_id` to `eos_token_id`:2 for open-end generation.\n"
     ]
    },
    {
     "name": "stdout",
     "output_type": "stream",
     "text": [
      " \"I would like to make a reservation for a group of people for a specific date and time. Can you help me with that?\"\n",
      "Crisis-Communication\n"
     ]
    },
    {
     "name": "stderr",
     "output_type": "stream",
     "text": [
      "The attention mask and the pad token id were not set. As a consequence, you may observe unexpected behavior. Please pass your input's `attention_mask` to obtain reliable results.\n",
      "Setting `pad_token_id` to `eos_token_id`:2 for open-end generation.\n"
     ]
    },
    {
     "name": "stdout",
     "output_type": "stream",
     "text": [
      " \"I can help you with a crisis communication plan. Please provide me with more details about the crisis and what you need help with.\"\n",
      "Community-Building\n"
     ]
    },
    {
     "name": "stderr",
     "output_type": "stream",
     "text": [
      "The attention mask and the pad token id were not set. As a consequence, you may observe unexpected behavior. Please pass your input's `attention_mask` to obtain reliable results.\n",
      "Setting `pad_token_id` to `eos_token_id`:2 for open-end generation.\n"
     ]
    },
    {
     "name": "stdout",
     "output_type": "stream",
     "text": [
      " \"I'm looking for ways to build a sense of community in our office. Can you help me find resources or strategies for doing so?\".\n",
      "Hotel-Room-Cleaning\n"
     ]
    },
    {
     "name": "stderr",
     "output_type": "stream",
     "text": [
      "The attention mask and the pad token id were not set. As a consequence, you may observe unexpected behavior. Please pass your input's `attention_mask` to obtain reliable results.\n",
      "Setting `pad_token_id` to `eos_token_id`:2 for open-end generation.\n"
     ]
    },
    {
     "name": "stdout",
     "output_type": "stream",
     "text": [
      "Sure, I can help you with that! Here's a generic utterance for the data point you provided:\n",
      "\n",
      "\"Inquiring about the cleaning schedule and fees for my hotel room.\"\n",
      "Yacht-Charter\n"
     ]
    },
    {
     "name": "stderr",
     "output_type": "stream",
     "text": [
      "The attention mask and the pad token id were not set. As a consequence, you may observe unexpected behavior. Please pass your input's `attention_mask` to obtain reliable results.\n",
      "Setting `pad_token_id` to `eos_token_id`:2 for open-end generation.\n"
     ]
    },
    {
     "name": "stdout",
     "output_type": "stream",
     "text": [
      " \"I'm interested in chartering a yacht for a weekend getaway. Can you help me with that?\"\n",
      "Stress-Management\n"
     ]
    },
    {
     "name": "stderr",
     "output_type": "stream",
     "text": [
      "The attention mask and the pad token id were not set. As a consequence, you may observe unexpected behavior. Please pass your input's `attention_mask` to obtain reliable results.\n",
      "Setting `pad_token_id` to `eos_token_id`:2 for open-end generation.\n"
     ]
    },
    {
     "name": "stdout",
     "output_type": "stream",
     "text": [
      " \"I am feeling very stressed and overwhelmed. Can you help me find a stress management technique that works for me?\"\n",
      "Restaurant-Reservation\n"
     ]
    },
    {
     "name": "stderr",
     "output_type": "stream",
     "text": [
      "The attention mask and the pad token id were not set. As a consequence, you may observe unexpected behavior. Please pass your input's `attention_mask` to obtain reliable results.\n",
      "Setting `pad_token_id` to `eos_token_id`:2 for open-end generation.\n"
     ]
    },
    {
     "name": "stdout",
     "output_type": "stream",
     "text": [
      " \"I would like to make a reservation for dinner at a restaurant tonight.\"\n",
      "Self-Care-Routines\n"
     ]
    },
    {
     "name": "stderr",
     "output_type": "stream",
     "text": [
      "The attention mask and the pad token id were not set. As a consequence, you may observe unexpected behavior. Please pass your input's `attention_mask` to obtain reliable results.\n",
      "Setting `pad_token_id` to `eos_token_id`:2 for open-end generation.\n"
     ]
    },
    {
     "name": "stdout",
     "output_type": "stream",
     "text": [
      " \"What are some self-care routines that I can follow?\"\n",
      "Personal-Finance-Planning\n"
     ]
    },
    {
     "name": "stderr",
     "output_type": "stream",
     "text": [
      "The attention mask and the pad token id were not set. As a consequence, you may observe unexpected behavior. Please pass your input's `attention_mask` to obtain reliable results.\n",
      "Setting `pad_token_id` to `eos_token_id`:2 for open-end generation.\n"
     ]
    },
    {
     "name": "stdout",
     "output_type": "stream",
     "text": [
      " \"I can help you with personal finance planning by providing you with information on how much you need to save for retirement, the best ways to invest your money, and strategies for managing credit card debt.\"\n",
      "Personalized-Travel-Plans\n"
     ]
    },
    {
     "name": "stderr",
     "output_type": "stream",
     "text": [
      "The attention mask and the pad token id were not set. As a consequence, you may observe unexpected behavior. Please pass your input's `attention_mask` to obtain reliable results.\n",
      "Setting `pad_token_id` to `eos_token_id`:2 for open-end generation.\n"
     ]
    },
    {
     "name": "stdout",
     "output_type": "stream",
     "text": [
      " \"I'm interested in traveling to destination next month. Can you help me plan a trip?\"\n",
      "Career-Coaching\n"
     ]
    },
    {
     "name": "stderr",
     "output_type": "stream",
     "text": [
      "The attention mask and the pad token id were not set. As a consequence, you may observe unexpected behavior. Please pass your input's `attention_mask` to obtain reliable results.\n",
      "Setting `pad_token_id` to `eos_token_id`:2 for open-end generation.\n"
     ]
    },
    {
     "name": "stdout",
     "output_type": "stream",
     "text": [
      " \"I'm looking for career coaching to help me with my job search.\"\n",
      "Outdoor-Recreation\n"
     ]
    },
    {
     "name": "stderr",
     "output_type": "stream",
     "text": [
      "The attention mask and the pad token id were not set. As a consequence, you may observe unexpected behavior. Please pass your input's `attention_mask` to obtain reliable results.\n",
      "Setting `pad_token_id` to `eos_token_id`:2 for open-end generation.\n"
     ]
    },
    {
     "name": "stdout",
     "output_type": "stream",
     "text": [
      " \"I'd like to know about outdoor activities in the park.\"\n",
      "Educational-Course-Enrollment\n"
     ]
    },
    {
     "name": "stderr",
     "output_type": "stream",
     "text": [
      "The attention mask and the pad token id were not set. As a consequence, you may observe unexpected behavior. Please pass your input's `attention_mask` to obtain reliable results.\n",
      "Setting `pad_token_id` to `eos_token_id`:2 for open-end generation.\n"
     ]
    },
    {
     "name": "stdout",
     "output_type": "stream",
     "text": [
      " \"I would like to enroll in the course 'Introduction to Psychology'.\"\n",
      "Ziplining-Adventures\n"
     ]
    },
    {
     "name": "stderr",
     "output_type": "stream",
     "text": [
      "The attention mask and the pad token id were not set. As a consequence, you may observe unexpected behavior. Please pass your input's `attention_mask` to obtain reliable results.\n",
      "Setting `pad_token_id` to `eos_token_id`:2 for open-end generation.\n"
     ]
    },
    {
     "name": "stdout",
     "output_type": "stream",
     "text": [
      " \"I can help you plan a ziplining adventure. What is your preferred location and date?\"\n",
      "Child-Care-Services\n"
     ]
    },
    {
     "name": "stderr",
     "output_type": "stream",
     "text": [
      "The attention mask and the pad token id were not set. As a consequence, you may observe unexpected behavior. Please pass your input's `attention_mask` to obtain reliable results.\n",
      "Setting `pad_token_id` to `eos_token_id`:2 for open-end generation.\n"
     ]
    },
    {
     "name": "stdout",
     "output_type": "stream",
     "text": [
      " \"I need a babysitter for my kiddo tonight.\"\n",
      "Private-Jet-Reservations\n"
     ]
    },
    {
     "name": "stderr",
     "output_type": "stream",
     "text": [
      "The attention mask and the pad token id were not set. As a consequence, you may observe unexpected behavior. Please pass your input's `attention_mask` to obtain reliable results.\n",
      "Setting `pad_token_id` to `eos_token_id`:2 for open-end generation.\n"
     ]
    },
    {
     "name": "stdout",
     "output_type": "stream",
     "text": [
      " \"I'm looking for a private jet reservation for a special occasion.\"\n",
      "Weather-Forecast\n"
     ]
    },
    {
     "name": "stderr",
     "output_type": "stream",
     "text": [
      "The attention mask and the pad token id were not set. As a consequence, you may observe unexpected behavior. Please pass your input's `attention_mask` to obtain reliable results.\n",
      "Setting `pad_token_id` to `eos_token_id`:2 for open-end generation.\n"
     ]
    },
    {
     "name": "stdout",
     "output_type": "stream",
     "text": [
      " \"What is the weather forecast for the next week?\"\n",
      "Gardening\n"
     ]
    },
    {
     "name": "stderr",
     "output_type": "stream",
     "text": [
      "The attention mask and the pad token id were not set. As a consequence, you may observe unexpected behavior. Please pass your input's `attention_mask` to obtain reliable results.\n",
      "Setting `pad_token_id` to `eos_token_id`:2 for open-end generation.\n"
     ]
    },
    {
     "name": "stdout",
     "output_type": "stream",
     "text": [
      " \"I'm looking for gardening advice.\"\n",
      "Mental-Health-Assessments\n"
     ]
    },
    {
     "name": "stderr",
     "output_type": "stream",
     "text": [
      "The attention mask and the pad token id were not set. As a consequence, you may observe unexpected behavior. Please pass your input's `attention_mask` to obtain reliable results.\n",
      "Setting `pad_token_id` to `eos_token_id`:2 for open-end generation.\n"
     ]
    },
    {
     "name": "stdout",
     "output_type": "stream",
     "text": [
      " \"I'm feeling anxious and overwhelmed, can you help me with mental health assessment?\"\n",
      "Home-Repair-Services\n"
     ]
    },
    {
     "name": "stderr",
     "output_type": "stream",
     "text": [
      "The attention mask and the pad token id were not set. As a consequence, you may observe unexpected behavior. Please pass your input's `attention_mask` to obtain reliable results.\n",
      "Setting `pad_token_id` to `eos_token_id`:2 for open-end generation.\n"
     ]
    },
    {
     "name": "stdout",
     "output_type": "stream",
     "text": [
      " \"What kind of home repair services do you offer?\"\n",
      "Car-Rental-Reservation\n"
     ]
    },
    {
     "name": "stderr",
     "output_type": "stream",
     "text": [
      "The attention mask and the pad token id were not set. As a consequence, you may observe unexpected behavior. Please pass your input's `attention_mask` to obtain reliable results.\n",
      "Setting `pad_token_id` to `eos_token_id`:2 for open-end generation.\n"
     ]
    },
    {
     "name": "stdout",
     "output_type": "stream",
     "text": [
      " \"I would like to know the current status of my reservation.\"\n",
      "Organic-Gardening\n"
     ]
    },
    {
     "name": "stderr",
     "output_type": "stream",
     "text": [
      "The attention mask and the pad token id were not set. As a consequence, you may observe unexpected behavior. Please pass your input's `attention_mask` to obtain reliable results.\n",
      "Setting `pad_token_id` to `eos_token_id`:2 for open-end generation.\n"
     ]
    },
    {
     "name": "stdout",
     "output_type": "stream",
     "text": [
      " \"I'm interested in starting an organic garden. Can you provide me with some advice?\"\n",
      "Disaster-Relief\n"
     ]
    },
    {
     "name": "stderr",
     "output_type": "stream",
     "text": [
      "The attention mask and the pad token id were not set. As a consequence, you may observe unexpected behavior. Please pass your input's `attention_mask` to obtain reliable results.\n",
      "Setting `pad_token_id` to `eos_token_id`:2 for open-end generation.\n"
     ]
    },
    {
     "name": "stdout",
     "output_type": "stream",
     "text": [
      " \"I am interested in donating money or time for disaster relief efforts.\"\n",
      "Mountain-Biking-Rentals\n"
     ]
    },
    {
     "name": "stderr",
     "output_type": "stream",
     "text": [
      "The attention mask and the pad token id were not set. As a consequence, you may observe unexpected behavior. Please pass your input's `attention_mask` to obtain reliable results.\n",
      "Setting `pad_token_id` to `eos_token_id`:2 for open-end generation.\n"
     ]
    },
    {
     "name": "stdout",
     "output_type": "stream",
     "text": [
      " \"I'm looking for mountain bikes for a day trip in the mountains. Can you help me find durable and heavy-terrain bikes?\"\n",
      "Dental-Care-Plans\n"
     ]
    },
    {
     "name": "stderr",
     "output_type": "stream",
     "text": [
      "The attention mask and the pad token id were not set. As a consequence, you may observe unexpected behavior. Please pass your input's `attention_mask` to obtain reliable results.\n",
      "Setting `pad_token_id` to `eos_token_id`:2 for open-end generation.\n"
     ]
    },
    {
     "name": "stdout",
     "output_type": "stream",
     "text": [
      " \"I can help you find a dentist who offers a dental care plan.\"\n",
      "Cultural-Tours\n"
     ]
    },
    {
     "name": "stderr",
     "output_type": "stream",
     "text": [
      "The attention mask and the pad token id were not set. As a consequence, you may observe unexpected behavior. Please pass your input's `attention_mask` to obtain reliable results.\n",
      "Setting `pad_token_id` to `eos_token_id`:2 for open-end generation.\n"
     ]
    },
    {
     "name": "stdout",
     "output_type": "stream",
     "text": [
      " \"I'm interested in learning more about cultural tours and would like to know more about the options available.\"\n",
      "Helicopter-Rides\n"
     ]
    },
    {
     "name": "stderr",
     "output_type": "stream",
     "text": [
      "The attention mask and the pad token id were not set. As a consequence, you may observe unexpected behavior. Please pass your input's `attention_mask` to obtain reliable results.\n",
      "Setting `pad_token_id` to `eos_token_id`:2 for open-end generation.\n"
     ]
    },
    {
     "name": "stdout",
     "output_type": "stream",
     "text": [
      " \"What's the current status of my reservation?\"\n",
      "Technical-Support\n"
     ]
    },
    {
     "name": "stderr",
     "output_type": "stream",
     "text": [
      "The attention mask and the pad token id were not set. As a consequence, you may observe unexpected behavior. Please pass your input's `attention_mask` to obtain reliable results.\n",
      "Setting `pad_token_id` to `eos_token_id`:2 for open-end generation.\n"
     ]
    },
    {
     "name": "stdout",
     "output_type": "stream",
     "text": [
      " \"I need help with my computer setup.\"\n",
      "Household-Organization\n"
     ]
    },
    {
     "name": "stderr",
     "output_type": "stream",
     "text": [
      "The attention mask and the pad token id were not set. As a consequence, you may observe unexpected behavior. Please pass your input's `attention_mask` to obtain reliable results.\n",
      "Setting `pad_token_id` to `eos_token_id`:2 for open-end generation.\n"
     ]
    },
    {
     "name": "stdout",
     "output_type": "stream",
     "text": [
      " \"I can help you with household organization.\"\n",
      "Preparedness-Guides\n"
     ]
    },
    {
     "name": "stderr",
     "output_type": "stream",
     "text": [
      "The attention mask and the pad token id were not set. As a consequence, you may observe unexpected behavior. Please pass your input's `attention_mask` to obtain reliable results.\n",
      "Setting `pad_token_id` to `eos_token_id`:2 for open-end generation.\n"
     ]
    },
    {
     "name": "stdout",
     "output_type": "stream",
     "text": [
      " \"I'm looking for preparedness guides for my community. Can you provide me with some information on how to create and use these guides?\"\n",
      "Event-Planning-Services\n"
     ]
    },
    {
     "name": "stderr",
     "output_type": "stream",
     "text": [
      "The attention mask and the pad token id were not set. As a consequence, you may observe unexpected behavior. Please pass your input's `attention_mask` to obtain reliable results.\n",
      "Setting `pad_token_id` to `eos_token_id`:2 for open-end generation.\n"
     ]
    },
    {
     "name": "stdout",
     "output_type": "stream",
     "text": [
      " \"I need help planning a wedding or a funeral.\"\n",
      "Motorcycle-Rental\n"
     ]
    },
    {
     "name": "stderr",
     "output_type": "stream",
     "text": [
      "The attention mask and the pad token id were not set. As a consequence, you may observe unexpected behavior. Please pass your input's `attention_mask` to obtain reliable results.\n",
      "Setting `pad_token_id` to `eos_token_id`:2 for open-end generation.\n"
     ]
    },
    {
     "name": "stdout",
     "output_type": "stream",
     "text": [
      " \"Can you help me find a motorcycle rental company in the area?\"\n",
      "Sightseeing-Tours\n"
     ]
    },
    {
     "name": "stderr",
     "output_type": "stream",
     "text": [
      "The attention mask and the pad token id were not set. As a consequence, you may observe unexpected behavior. Please pass your input's `attention_mask` to obtain reliable results.\n",
      "Setting `pad_token_id` to `eos_token_id`:2 for open-end generation.\n"
     ]
    },
    {
     "name": "stdout",
     "output_type": "stream",
     "text": [
      " \"What are the tours available in the city?\"\n",
      "Teacher-Employment\n"
     ]
    },
    {
     "name": "stderr",
     "output_type": "stream",
     "text": [
      "The attention mask and the pad token id were not set. As a consequence, you may observe unexpected behavior. Please pass your input's `attention_mask` to obtain reliable results.\n",
      "Setting `pad_token_id` to `eos_token_id`:2 for open-end generation.\n"
     ]
    },
    {
     "name": "stdout",
     "output_type": "stream",
     "text": [
      " \"Can you tell me about job openings in your school for teachers?\"\n",
      "Meal-Planning\n"
     ]
    },
    {
     "name": "stderr",
     "output_type": "stream",
     "text": [
      "The attention mask and the pad token id were not set. As a consequence, you may observe unexpected behavior. Please pass your input's `attention_mask` to obtain reliable results.\n",
      "Setting `pad_token_id` to `eos_token_id`:2 for open-end generation.\n"
     ]
    },
    {
     "name": "stdout",
     "output_type": "stream",
     "text": [
      " \"I need help planning a meal for the weekend.\"\n",
      "Furniture-Assembly\n"
     ]
    },
    {
     "name": "stderr",
     "output_type": "stream",
     "text": [
      "The attention mask and the pad token id were not set. As a consequence, you may observe unexpected behavior. Please pass your input's `attention_mask` to obtain reliable results.\n",
      "Setting `pad_token_id` to `eos_token_id`:2 for open-end generation.\n"
     ]
    },
    {
     "name": "stdout",
     "output_type": "stream",
     "text": [
      " \"I'm having trouble assembling my furniture. Can you help me?\"\n",
      "Private-Beach-Club-Rentals\n"
     ]
    },
    {
     "name": "stderr",
     "output_type": "stream",
     "text": [
      "The attention mask and the pad token id were not set. As a consequence, you may observe unexpected behavior. Please pass your input's `attention_mask` to obtain reliable results.\n",
      "Setting `pad_token_id` to `eos_token_id`:2 for open-end generation.\n"
     ]
    },
    {
     "name": "stdout",
     "output_type": "stream",
     "text": [
      " \"I'm looking for a private beach club to rent for my next vacation. Do you have any recommendations?\"\n",
      "Personal-Fitness-Training\n",
      " \"I can provide you with a personal fitness training session, types of personal fitness training available, and a personal fitness training schedule.\"\n"
     ]
    }
   ],
   "source": [
    "utterances = []\n",
    "counter = 0\n",
    "\n",
    "for intent in intents:\n",
    "\n",
    "    print(intent['name'])\n",
    "    \n",
    "    one_shot_prompt = f\"\"\"\n",
    "\n",
    "    For below example data point \n",
    "\n",
    "    {example}\n",
    "\n",
    "    corresponding utterance is  = \"Inquiring about my reservation status.\".\n",
    "    \n",
    "    Provide only 1 generic utterance for the below data point.\n",
    "    \n",
    "    {intent}\n",
    "    \n",
    "    Do not use any placeholder for entities. Always assign proper nouns.\n",
    "    \n",
    "    Utterance should contain maximum 8 words not more than that.\n",
    "    \n",
    "    Always Provide answer in a single line in this format only [\"utterance\" = \"your_answer\"]\n",
    "                                             \n",
    "    \"\"\"\n",
    "    full_prompt = main_prompter(input_prompt = one_shot_prompt)\n",
    "    response = generate_response(full_prompt, temp = 0.08)\n",
    "        \n",
    "    response = response.replace('</s>','').split(\"=\")[-1].replace(\"]\",\"\")\n",
    "    response = response.replace(\"[\",\"\")\n",
    "\n",
    "    utterances.append((intent['name'],response))\n",
    "    print(response)"
   ]
  },
  {
   "cell_type": "code",
   "execution_count": 24,
   "id": "8dbc7b90-3a1d-4431-9b18-609d07d3d50a",
   "metadata": {},
   "outputs": [
    {
     "data": {
      "text/plain": [
       "94"
      ]
     },
     "execution_count": 24,
     "metadata": {},
     "output_type": "execute_result"
    }
   ],
   "source": [
    "len(utterances)"
   ]
  },
  {
   "cell_type": "code",
   "execution_count": 26,
   "id": "e216fff4-a267-47d8-b375-076d74c6b5eb",
   "metadata": {},
   "outputs": [
    {
     "name": "stdout",
     "output_type": "stream",
     "text": [
      "[('book-a-ticket', ' \"I\\'d like to book a flight from Hyderabad to Chennai.\"'), ('check-reservation', ' \"Please provide me with the current reservation status for my flight.\"'), ('Private-Pilot-Lessons', ' \"I\\'m interested in taking private pilot lessons. Can you recommend a flight school?\"'), ('Tourism-Packages', ' \"I\\'m looking for a package tour to Paris for a week in the summer.\"'), ('Online-Tutoring', ' \"I need help with my algebra homework.\"'), ('Food-and-Wine-Tours', ' \"I can recommend some options for you.\"'), ('Product-Warranty-Information', ' \"I\\'m looking for information about the warranty on my product. Can you help me?\"'), ('Budget-Travel-Packages', ' \"I\\'m looking for budget travel packages.\"'), ('Wine-Tastings', ' \"I\\'m interested in attending a wine tasting in Napa Valley.\"'), ('Food-Bank-Donation', ' \"I would like to donate food to a local food bank.\"'), ('Home-Cleaning', ' \"I need help with cleaning my entire house.\"'), ('Hotel-Room-Availability', ' \"Inquiring about hotel room availability in City.\"'), ('Gratitude-Journals', ' \"Can you help me keep track of my daily gratitudes?\"'), ('Medical-Billing-and-Coding', ' \"I can help you with medical billing and coding.\"'), ('Bank-Account-Balance', ' \"Please provide me with the current status of my reservation.\"'), ('Sustainable-Living', ' \"What are some sustainable living tips?\"'), ('Health-and-Safety-Tips', ' \"I want some tips on staying safe while traveling.\"'), ('Housing-Loan-Counseling', ' \"I can help you with your housing loan counseling questions. What would you like to know?\"'), ('Trip-Organization', ' \"I need help planning a trip to Paris for a week in the summer.\"'), ('Transportation-Services', ' \"I\\'m looking for transportation services to/from City/State/Country. Can you recommend any options?\"'), ('Online-Translation-Services', ' \"I need help with translating this document.\"'), ('Pet-Sitting-Services', ' \"I\\'m looking for a pet sitting service for my cat and dog.\"'), ('Mindfulness-Exercises', ' \"I can guide you through a mindfulness meditation session.\"'), ('Luxury-Car-Rentals', ' \"I\\'d like to book a luxury car rental for a week in Paris, can you help me?\"'), ('Airplane-Charter', ' \"I\\'m looking for a private jet for a personal flight.\"'), ('Small-Business-Loans', ' \"I\\'m interested in learning more about small business loans.\"'), ('art-tutoring', ' \"I can help you with art tutoring classes, hours, practice tests, materials, cost, payment methods, refund policies, and more. Please let me know if you have any questions.\"'), ('Dietary-Restrictions', ' \"I\\'m looking for healthy and delicious meal ideas that cater to my dietary restrictions. Can you suggest some options?\"'), ('Travel-Agent-Services', ' \"I\\'m looking for travel recommendations.\"'), ('Ski-Resort-Bookings', ' \"I\\'d like to book a ski resort for my family.\"'), ('Medical-Appointment-Scheduling', ' \"What is my next medical appointment time?\"'), ('Shipping-Inquiry', ' \"I\\'m having trouble tracking my package. Can you help me with the estimated delivery time and tracking information?\"'), ('Dietary-Supplement-Sales', ' \"I\\'m interested in purchasing a dietary supplement, what are your best sellers?\"'), ('Import-Export-Services', ' \"I\\'m looking for a shipping company to ship my item to Canada.\"'), ('Health-and-Wellness', ' \"What health and wellness services are available in City?\"'), ('Pet-Care', ' \"The average cost of grooming a dog can vary depending on the breed, size, and level of care required. It\\'s best to consult with a professional groomer or veterinarian for a more accurate estimate.\"'), ('Nutrition-Counseling', ' \"I can assist you in developing a meal plan for a patient with diabetes and a low carbohydrate diet.\"'), ('Job-Application-Status', ' \"I\\'m having trouble with my job application status. Can you help me?\"'), ('Natural-Remedies', ' \"I\\'m looking for natural remedies for my joint pain. Can you recommend some products or techniques?\"'), ('Personal-Financial-Planning', ' \"I\\'d like to know about personal financial planning.\"'), ('Fishing-Charters', ' \"What are the different types of fishing charters available?\"'), ('All-Inclusive-Vacations', ' \"Can I use points or miles for my all-inclusive vacation?\"'), ('Airport-Taxis', ' \"Can you provide a taxi service at the airport?\"'), ('Mental-Health-Support', ' \"I\\'m feeling overwhelmed and need someone to talk to. Can you help me find mental health support?\"'), ('Private-Island-Resorts', ' \"I\\'m looking for a private island resort with a private beach and luxurious amenities. Can you recommend one?\"'), ('Private-Boat-Charters', ' \"I\\'d like to book a private boat charter for a group of 10 for a 3-day sailing trip in the Caribbean.\"'), ('Camping-Trips', ' \"I\\'m looking for a campsite with a water source. Can you help me find one with a campground or lake nearby?\"'), ('Mental-Health-First-Aid', ' \"I\\'m feeling really down and can\\'t seem to shake this feeling. Can you recommend some natural remedies that might help with anxiety?\"'), ('Covid-19-Support', ' \"I would like to know more about COVID-19 and how it affects the community.\"'), ('Travel-Insurance', ' \"I need travel insurance for a trip to France.\"'), ('Adventure-Parks', ' \"Can you recommend an adventure park near my hotel?\"'), ('Healthy-Eating-Recipes', ' \"Can you recommend some healthy meal ideas for vegetarians?\"'), ('Emotional-Intelligence-Development', ' \"I\\'m looking for advice on how to improve my emotional intelligence. Can you help me?\"'), ('Skydiving-Excursions', ' \"I\\'d like to book a skydiving excursion for my upcoming vacation. Can you help me plan it?\"'), ('Aromatherapy', ' \"Can you please prepare a soothing aromatherapy session for me?\"'), ('Nature-Photography-Trips', ' \"Can you suggest some photography trips in nature?\"'), ('Golf-Course-Reservations', ' \"I would like to make a reservation for a group of people for a specific date and time. Can you help me with that?\"'), ('Crisis-Communication', ' \"I can help you with a crisis communication plan. Please provide me with more details about the crisis and what you need help with.\"'), ('Community-Building', ' \"I\\'m looking for ways to build a sense of community in our office. Can you help me find resources or strategies for doing so?\".'), ('Hotel-Room-Cleaning', 'Sure, I can help you with that! Here\\'s a generic utterance for the data point you provided:\\n\\n\"Inquiring about the cleaning schedule and fees for my hotel room.\"'), ('Yacht-Charter', ' \"I\\'m interested in chartering a yacht for a weekend getaway. Can you help me with that?\"'), ('Stress-Management', ' \"I am feeling very stressed and overwhelmed. Can you help me find a stress management technique that works for me?\"'), ('Restaurant-Reservation', ' \"I would like to make a reservation for dinner at a restaurant tonight.\"'), ('Self-Care-Routines', ' \"What are some self-care routines that I can follow?\"'), ('Personal-Finance-Planning', ' \"I can help you with personal finance planning by providing you with information on how much you need to save for retirement, the best ways to invest your money, and strategies for managing credit card debt.\"'), ('Personalized-Travel-Plans', ' \"I\\'m interested in traveling to destination next month. Can you help me plan a trip?\"'), ('Career-Coaching', ' \"I\\'m looking for career coaching to help me with my job search.\"'), ('Outdoor-Recreation', ' \"I\\'d like to know about outdoor activities in the park.\"'), ('Educational-Course-Enrollment', ' \"I would like to enroll in the course \\'Introduction to Psychology\\'.\"'), ('Ziplining-Adventures', ' \"I can help you plan a ziplining adventure. What is your preferred location and date?\"'), ('Child-Care-Services', ' \"I need a babysitter for my kiddo tonight.\"'), ('Private-Jet-Reservations', ' \"I\\'m looking for a private jet reservation for a special occasion.\"'), ('Weather-Forecast', ' \"What is the weather forecast for the next week?\"'), ('Gardening', ' \"I\\'m looking for gardening advice.\"'), ('Mental-Health-Assessments', ' \"I\\'m feeling anxious and overwhelmed, can you help me with mental health assessment?\"'), ('Home-Repair-Services', ' \"What kind of home repair services do you offer?\"'), ('Car-Rental-Reservation', ' \"I would like to know the current status of my reservation.\"'), ('Organic-Gardening', ' \"I\\'m interested in starting an organic garden. Can you provide me with some advice?\"'), ('Disaster-Relief', ' \"I am interested in donating money or time for disaster relief efforts.\"'), ('Mountain-Biking-Rentals', ' \"I\\'m looking for mountain bikes for a day trip in the mountains. Can you help me find durable and heavy-terrain bikes?\"'), ('Dental-Care-Plans', ' \"I can help you find a dentist who offers a dental care plan.\"'), ('Cultural-Tours', ' \"I\\'m interested in learning more about cultural tours and would like to know more about the options available.\"'), ('Helicopter-Rides', ' \"What\\'s the current status of my reservation?\"'), ('Technical-Support', ' \"I need help with my computer setup.\"'), ('Household-Organization', ' \"I can help you with household organization.\"'), ('Preparedness-Guides', ' \"I\\'m looking for preparedness guides for my community. Can you provide me with some information on how to create and use these guides?\"'), ('Event-Planning-Services', ' \"I need help planning a wedding or a funeral.\"'), ('Motorcycle-Rental', ' \"Can you help me find a motorcycle rental company in the area?\"'), ('Sightseeing-Tours', ' \"What are the tours available in the city?\"'), ('Teacher-Employment', ' \"Can you tell me about job openings in your school for teachers?\"'), ('Meal-Planning', ' \"I need help planning a meal for the weekend.\"'), ('Furniture-Assembly', ' \"I\\'m having trouble assembling my furniture. Can you help me?\"'), ('Private-Beach-Club-Rentals', ' \"I\\'m looking for a private beach club to rent for my next vacation. Do you have any recommendations?\"'), ('Personal-Fitness-Training', ' \"I can provide you with a personal fitness training session, types of personal fitness training available, and a personal fitness training schedule.\"')]\n"
     ]
    }
   ],
   "source": [
    "print(utterances)"
   ]
  },
  {
   "cell_type": "code",
   "execution_count": 25,
   "id": "c977a9d4-aea0-47aa-bace-d263955671c5",
   "metadata": {},
   "outputs": [
    {
     "name": "stdout",
     "output_type": "stream",
     "text": [
      "0  \"I'd like to book a flight from Hyderabad to Chennai.\"\n",
      "--------\n",
      "1  \"Please provide me with the current reservation status for my flight.\"\n",
      "--------\n",
      "2  \"I'm interested in taking private pilot lessons. Can you recommend a flight school?\"\n",
      "--------\n",
      "3  \"I'm looking for a package tour to Paris for a week in the summer.\"\n",
      "--------\n",
      "4  \"I need help with my algebra homework.\"\n",
      "--------\n",
      "5  \"I can recommend some options for you.\"\n",
      "--------\n",
      "6  \"I'm looking for information about the warranty on my product. Can you help me?\"\n",
      "--------\n",
      "7  \"I'm looking for budget travel packages.\"\n",
      "--------\n",
      "8  \"I'm interested in attending a wine tasting in Napa Valley.\"\n",
      "--------\n",
      "9  \"I would like to donate food to a local food bank.\"\n",
      "--------\n",
      "10  \"I need help with cleaning my entire house.\"\n",
      "--------\n",
      "11  \"Inquiring about hotel room availability in City.\"\n",
      "--------\n",
      "12  \"Can you help me keep track of my daily gratitudes?\"\n",
      "--------\n",
      "13  \"I can help you with medical billing and coding.\"\n",
      "--------\n",
      "14  \"Please provide me with the current status of my reservation.\"\n",
      "--------\n",
      "15  \"What are some sustainable living tips?\"\n",
      "--------\n",
      "16  \"I want some tips on staying safe while traveling.\"\n",
      "--------\n",
      "17  \"I can help you with your housing loan counseling questions. What would you like to know?\"\n",
      "--------\n",
      "18  \"I need help planning a trip to Paris for a week in the summer.\"\n",
      "--------\n",
      "19  \"I'm looking for transportation services to/from City/State/Country. Can you recommend any options?\"\n",
      "--------\n",
      "20  \"I need help with translating this document.\"\n",
      "--------\n",
      "21  \"I'm looking for a pet sitting service for my cat and dog.\"\n",
      "--------\n",
      "22  \"I can guide you through a mindfulness meditation session.\"\n",
      "--------\n",
      "23  \"I'd like to book a luxury car rental for a week in Paris, can you help me?\"\n",
      "--------\n",
      "24  \"I'm looking for a private jet for a personal flight.\"\n",
      "--------\n",
      "25  \"I'm interested in learning more about small business loans.\"\n",
      "--------\n",
      "26  \"I can help you with art tutoring classes, hours, practice tests, materials, cost, payment methods, refund policies, and more. Please let me know if you have any questions.\"\n",
      "--------\n",
      "27  \"I'm looking for healthy and delicious meal ideas that cater to my dietary restrictions. Can you suggest some options?\"\n",
      "--------\n",
      "28  \"I'm looking for travel recommendations.\"\n",
      "--------\n",
      "29  \"I'd like to book a ski resort for my family.\"\n",
      "--------\n",
      "30  \"What is my next medical appointment time?\"\n",
      "--------\n",
      "31  \"I'm having trouble tracking my package. Can you help me with the estimated delivery time and tracking information?\"\n",
      "--------\n",
      "32  \"I'm interested in purchasing a dietary supplement, what are your best sellers?\"\n",
      "--------\n",
      "33  \"I'm looking for a shipping company to ship my item to Canada.\"\n",
      "--------\n",
      "34  \"What health and wellness services are available in City?\"\n",
      "--------\n",
      "35  \"The average cost of grooming a dog can vary depending on the breed, size, and level of care required. It's best to consult with a professional groomer or veterinarian for a more accurate estimate.\"\n",
      "--------\n",
      "36  \"I can assist you in developing a meal plan for a patient with diabetes and a low carbohydrate diet.\"\n",
      "--------\n",
      "37  \"I'm having trouble with my job application status. Can you help me?\"\n",
      "--------\n",
      "38  \"I'm looking for natural remedies for my joint pain. Can you recommend some products or techniques?\"\n",
      "--------\n",
      "39  \"I'd like to know about personal financial planning.\"\n",
      "--------\n",
      "40  \"What are the different types of fishing charters available?\"\n",
      "--------\n",
      "41  \"Can I use points or miles for my all-inclusive vacation?\"\n",
      "--------\n",
      "42  \"Can you provide a taxi service at the airport?\"\n",
      "--------\n",
      "43  \"I'm feeling overwhelmed and need someone to talk to. Can you help me find mental health support?\"\n",
      "--------\n",
      "44  \"I'm looking for a private island resort with a private beach and luxurious amenities. Can you recommend one?\"\n",
      "--------\n",
      "45  \"I'd like to book a private boat charter for a group of 10 for a 3-day sailing trip in the Caribbean.\"\n",
      "--------\n",
      "46  \"I'm looking for a campsite with a water source. Can you help me find one with a campground or lake nearby?\"\n",
      "--------\n",
      "47  \"I'm feeling really down and can't seem to shake this feeling. Can you recommend some natural remedies that might help with anxiety?\"\n",
      "--------\n",
      "48  \"I would like to know more about COVID-19 and how it affects the community.\"\n",
      "--------\n",
      "49  \"I need travel insurance for a trip to France.\"\n",
      "--------\n",
      "50  \"Can you recommend an adventure park near my hotel?\"\n",
      "--------\n",
      "51  \"Can you recommend some healthy meal ideas for vegetarians?\"\n",
      "--------\n",
      "52  \"I'm looking for advice on how to improve my emotional intelligence. Can you help me?\"\n",
      "--------\n",
      "53  \"I'd like to book a skydiving excursion for my upcoming vacation. Can you help me plan it?\"\n",
      "--------\n",
      "54  \"Can you please prepare a soothing aromatherapy session for me?\"\n",
      "--------\n",
      "55  \"Can you suggest some photography trips in nature?\"\n",
      "--------\n",
      "56  \"I would like to make a reservation for a group of people for a specific date and time. Can you help me with that?\"\n",
      "--------\n",
      "57  \"I can help you with a crisis communication plan. Please provide me with more details about the crisis and what you need help with.\"\n",
      "--------\n",
      "58  \"I'm looking for ways to build a sense of community in our office. Can you help me find resources or strategies for doing so?\".\n",
      "--------\n",
      "59 Sure, I can help you with that! Here's a generic utterance for the data point you provided:\n",
      "\n",
      "\"Inquiring about the cleaning schedule and fees for my hotel room.\"\n",
      "--------\n",
      "60  \"I'm interested in chartering a yacht for a weekend getaway. Can you help me with that?\"\n",
      "--------\n",
      "61  \"I am feeling very stressed and overwhelmed. Can you help me find a stress management technique that works for me?\"\n",
      "--------\n",
      "62  \"I would like to make a reservation for dinner at a restaurant tonight.\"\n",
      "--------\n",
      "63  \"What are some self-care routines that I can follow?\"\n",
      "--------\n",
      "64  \"I can help you with personal finance planning by providing you with information on how much you need to save for retirement, the best ways to invest your money, and strategies for managing credit card debt.\"\n",
      "--------\n",
      "65  \"I'm interested in traveling to destination next month. Can you help me plan a trip?\"\n",
      "--------\n",
      "66  \"I'm looking for career coaching to help me with my job search.\"\n",
      "--------\n",
      "67  \"I'd like to know about outdoor activities in the park.\"\n",
      "--------\n",
      "68  \"I would like to enroll in the course 'Introduction to Psychology'.\"\n",
      "--------\n",
      "69  \"I can help you plan a ziplining adventure. What is your preferred location and date?\"\n",
      "--------\n",
      "70  \"I need a babysitter for my kiddo tonight.\"\n",
      "--------\n",
      "71  \"I'm looking for a private jet reservation for a special occasion.\"\n",
      "--------\n",
      "72  \"What is the weather forecast for the next week?\"\n",
      "--------\n",
      "73  \"I'm looking for gardening advice.\"\n",
      "--------\n",
      "74  \"I'm feeling anxious and overwhelmed, can you help me with mental health assessment?\"\n",
      "--------\n",
      "75  \"What kind of home repair services do you offer?\"\n",
      "--------\n",
      "76  \"I would like to know the current status of my reservation.\"\n",
      "--------\n",
      "77  \"I'm interested in starting an organic garden. Can you provide me with some advice?\"\n",
      "--------\n",
      "78  \"I am interested in donating money or time for disaster relief efforts.\"\n",
      "--------\n",
      "79  \"I'm looking for mountain bikes for a day trip in the mountains. Can you help me find durable and heavy-terrain bikes?\"\n",
      "--------\n",
      "80  \"I can help you find a dentist who offers a dental care plan.\"\n",
      "--------\n",
      "81  \"I'm interested in learning more about cultural tours and would like to know more about the options available.\"\n",
      "--------\n",
      "82  \"What's the current status of my reservation?\"\n",
      "--------\n",
      "83  \"I need help with my computer setup.\"\n",
      "--------\n",
      "84  \"I can help you with household organization.\"\n",
      "--------\n",
      "85  \"I'm looking for preparedness guides for my community. Can you provide me with some information on how to create and use these guides?\"\n",
      "--------\n",
      "86  \"I need help planning a wedding or a funeral.\"\n",
      "--------\n",
      "87  \"Can you help me find a motorcycle rental company in the area?\"\n",
      "--------\n",
      "88  \"What are the tours available in the city?\"\n",
      "--------\n",
      "89  \"Can you tell me about job openings in your school for teachers?\"\n",
      "--------\n",
      "90  \"I need help planning a meal for the weekend.\"\n",
      "--------\n",
      "91  \"I'm having trouble assembling my furniture. Can you help me?\"\n",
      "--------\n",
      "92  \"I'm looking for a private beach club to rent for my next vacation. Do you have any recommendations?\"\n",
      "--------\n",
      "93  \"I can provide you with a personal fitness training session, types of personal fitness training available, and a personal fitness training schedule.\"\n",
      "--------\n"
     ]
    }
   ],
   "source": [
    "for i,item in enumerate(utterances):\n",
    "    print(i,item[-1])\n",
    "    print(\"--------\")"
   ]
  },
  {
   "cell_type": "code",
   "execution_count": 383,
   "id": "ec12e912-3fe5-4b48-82d6-ef1c7cf451e6",
   "metadata": {},
   "outputs": [],
   "source": [
    "utterances[31] = ('Shipping-Inquiry','Inquiring about my package delivery status.')"
   ]
  },
  {
   "cell_type": "code",
   "execution_count": 388,
   "id": "52f28b83-5273-44b4-924f-0c7ae06d61c2",
   "metadata": {},
   "outputs": [],
   "source": [
    "utterances[59] = ('Hotel-Room-Cleaning',\"Inquiring about the cleaning status of my hotel room.\")"
   ]
  },
  {
   "cell_type": "code",
   "execution_count": null,
   "id": "de9a3dd4-69ed-4a26-9c55-77185600348a",
   "metadata": {},
   "outputs": [],
   "source": [
    "dict_list = [{'name': tup[0], 'utterance': tup[1]} for tup in utterances]\n",
    "dict_list"
   ]
  },
  {
   "cell_type": "code",
   "execution_count": 399,
   "id": "67d411ce-91e6-470f-b8d0-085f347c1101",
   "metadata": {},
   "outputs": [],
   "source": [
    "with open(\"utterances.json\", \"w\") as file:\n",
    "    json.dump(dict_list, file)\n"
   ]
  },
  {
   "cell_type": "code",
   "execution_count": 5,
   "id": "f52d5dfb-62d2-4d9f-b4ff-48249fff717e",
   "metadata": {},
   "outputs": [],
   "source": [
    "# Making \"name\" field in intent.json and utterances consistent\n",
    "with open('intents.json', 'r') as f:\n",
    "    intents_data = json.load(f)\n",
    "\n",
    "with open('utterances.json', 'r') as f:\n",
    "    eval_data = json.load(f)\n",
    "\n",
    "for intent,eval in zip(intents_data,eval_data):\n",
    "    eval['name'] = intent['name']\n",
    "\n",
    "with open(\"utterances.json\", \"w\") as file:\n",
    "    json.dump(eval_data, file)"
   ]
  },
  {
   "cell_type": "code",
   "execution_count": null,
   "id": "ce3e431d-8515-4456-9587-8a2ac25a7dbe",
   "metadata": {},
   "outputs": [],
   "source": []
  },
  {
   "cell_type": "code",
   "execution_count": null,
   "id": "f848376e-082d-44fa-979a-ddaeddb1aa2a",
   "metadata": {},
   "outputs": [],
   "source": []
  },
  {
   "cell_type": "markdown",
   "id": "c63075b2",
   "metadata": {
    "jp-MarkdownHeadingCollapsed": true
   },
   "source": [
    "# Intent Curation"
   ]
  },
  {
   "cell_type": "code",
   "execution_count": 9,
   "id": "a342aa47",
   "metadata": {},
   "outputs": [],
   "source": [
    "import warnings\n",
    "warnings.filterwarnings(\"ignore\")"
   ]
  },
  {
   "cell_type": "code",
   "execution_count": 10,
   "id": "3d99b5e9",
   "metadata": {
    "scrolled": true
   },
   "outputs": [
    {
     "name": "stdout",
     "output_type": "stream",
     "text": [
      "Defaulting to user installation because normal site-packages is not writeable\n",
      "Collecting git+https://github.com/huggingface/transformers.git@main\n",
      "  Cloning https://github.com/huggingface/transformers.git (to revision main) to /tmp/pip-req-build-vyor5htl\n",
      "  Running command git clone --filter=blob:none --quiet https://github.com/huggingface/transformers.git /tmp/pip-req-build-vyor5htl\n",
      "  Resolved https://github.com/huggingface/transformers.git to commit 700329493dba077654cd771044ec303a265a8d79\n",
      "  Installing build dependencies ... \u001b[?25ldone\n",
      "\u001b[?25h  Getting requirements to build wheel ... \u001b[?25ldone\n",
      "\u001b[?25h  Preparing metadata (pyproject.toml) ... \u001b[?25ldone\n",
      "\u001b[?25hRequirement already satisfied: accelerate in /home/ubuntu/.local/lib/python3.8/site-packages (0.21.0)\n",
      "Requirement already satisfied: filelock in /usr/lib/python3/dist-packages (from transformers==4.35.0.dev0) (3.0.12)\n",
      "Requirement already satisfied: huggingface-hub<1.0,>=0.16.4 in /home/ubuntu/.local/lib/python3.8/site-packages (from transformers==4.35.0.dev0) (0.16.4)\n",
      "Requirement already satisfied: numpy>=1.17 in /home/ubuntu/.local/lib/python3.8/site-packages (from transformers==4.35.0.dev0) (1.23.5)\n",
      "Requirement already satisfied: packaging>=20.0 in /home/ubuntu/.local/lib/python3.8/site-packages (from transformers==4.35.0.dev0) (23.1)\n",
      "Requirement already satisfied: pyyaml>=5.1 in /usr/lib/python3/dist-packages (from transformers==4.35.0.dev0) (5.3.1)\n",
      "Requirement already satisfied: regex!=2019.12.17 in /home/ubuntu/.local/lib/python3.8/site-packages (from transformers==4.35.0.dev0) (2023.8.8)\n",
      "Requirement already satisfied: requests in /home/ubuntu/.local/lib/python3.8/site-packages (from transformers==4.35.0.dev0) (2.31.0)\n",
      "Requirement already satisfied: tokenizers<0.15,>=0.14 in /home/ubuntu/.local/lib/python3.8/site-packages (from transformers==4.35.0.dev0) (0.14.0)\n",
      "Requirement already satisfied: safetensors>=0.3.1 in /home/ubuntu/.local/lib/python3.8/site-packages (from transformers==4.35.0.dev0) (0.3.3)\n",
      "Requirement already satisfied: tqdm>=4.27 in /home/ubuntu/.local/lib/python3.8/site-packages (from transformers==4.35.0.dev0) (4.65.0)\n",
      "Requirement already satisfied: psutil in /usr/lib/python3/dist-packages (from accelerate) (5.5.1)\n",
      "Requirement already satisfied: torch>=1.10.0 in /usr/lib/python3/dist-packages (from accelerate) (2.0.1)\n",
      "Requirement already satisfied: fsspec in /home/ubuntu/.local/lib/python3.8/site-packages (from huggingface-hub<1.0,>=0.16.4->transformers==4.35.0.dev0) (2023.6.0)\n",
      "Requirement already satisfied: typing-extensions>=3.7.4.3 in /home/ubuntu/.local/lib/python3.8/site-packages (from huggingface-hub<1.0,>=0.16.4->transformers==4.35.0.dev0) (4.8.0)\n",
      "Requirement already satisfied: charset-normalizer<4,>=2 in /home/ubuntu/.local/lib/python3.8/site-packages (from requests->transformers==4.35.0.dev0) (3.1.0)\n",
      "Requirement already satisfied: idna<4,>=2.5 in /usr/lib/python3/dist-packages (from requests->transformers==4.35.0.dev0) (2.8)\n",
      "Requirement already satisfied: urllib3<3,>=1.21.1 in /usr/lib/python3/dist-packages (from requests->transformers==4.35.0.dev0) (1.25.8)\n",
      "Requirement already satisfied: certifi>=2017.4.17 in /usr/lib/python3/dist-packages (from requests->transformers==4.35.0.dev0) (2019.11.28)\n",
      "\u001b[33mDEPRECATION: tensorflow-gpu 2.11.0 has a non-standard dependency specifier platform_system!=\"Darwin\". pip 23.3 will enforce this behaviour change. A possible replacement is to upgrade to a newer version of tensorflow-gpu or contact the author to suggest that they release a version with a conforming dependency specifiers. Discussion can be found at https://github.com/pypa/pip/issues/12063\u001b[0m\u001b[33m\n",
      "\u001b[0m\n",
      "\u001b[1m[\u001b[0m\u001b[34;49mnotice\u001b[0m\u001b[1;39;49m]\u001b[0m\u001b[39;49m A new release of pip is available: \u001b[0m\u001b[31;49m23.2.1\u001b[0m\u001b[39;49m -> \u001b[0m\u001b[32;49m23.3\u001b[0m\n",
      "\u001b[1m[\u001b[0m\u001b[34;49mnotice\u001b[0m\u001b[1;39;49m]\u001b[0m\u001b[39;49m To update, run: \u001b[0m\u001b[32;49mpython3 -m pip install --upgrade pip\u001b[0m\n"
     ]
    }
   ],
   "source": [
    "!pip install git+https://github.com/huggingface/transformers.git@main accelerate"
   ]
  },
  {
   "cell_type": "code",
   "execution_count": 11,
   "id": "51d85434",
   "metadata": {},
   "outputs": [],
   "source": [
    "from transformers import AutoTokenizer, AutoModelForCausalLM\n",
    "import transformers\n",
    "import torch\n",
    "import random"
   ]
  },
  {
   "cell_type": "code",
   "execution_count": 12,
   "id": "4c20dc58",
   "metadata": {},
   "outputs": [],
   "source": [
    "### Select the language model\n",
    "model_name = \"codellama/CodeLlama-13b-Instruct-hf\""
   ]
  },
  {
   "cell_type": "code",
   "execution_count": 13,
   "id": "4c8eb841",
   "metadata": {},
   "outputs": [
    {
     "data": {
      "application/vnd.jupyter.widget-view+json": {
       "model_id": "0f99761f0ee945ed9fd46fe305d324e0",
       "version_major": 2,
       "version_minor": 0
      },
      "text/plain": [
       "Loading checkpoint shards:   0%|          | 0/3 [00:00<?, ?it/s]"
      ]
     },
     "metadata": {},
     "output_type": "display_data"
    }
   ],
   "source": [
    "device = \"cuda\"\n",
    "tokenizer = AutoTokenizer.from_pretrained(model_name)\n",
    "model = AutoModelForCausalLM.from_pretrained(model_name,\n",
    "                                device_map='auto',\n",
    "                                torch_dtype=torch.float16,\n",
    "                                )"
   ]
  },
  {
   "cell_type": "code",
   "execution_count": 288,
   "id": "1af4c50f",
   "metadata": {},
   "outputs": [
    {
     "name": "stdout",
     "output_type": "stream",
     "text": [
      "16384\n"
     ]
    }
   ],
   "source": [
    "print(model.config.max_position_embeddings)"
   ]
  },
  {
   "cell_type": "code",
   "execution_count": 290,
   "id": "d497914b",
   "metadata": {},
   "outputs": [
    {
     "name": "stdout",
     "output_type": "stream",
     "text": [
      "LlamaConfig {\n",
      "  \"_name_or_path\": \"codellama/CodeLlama-13b-Instruct-hf\",\n",
      "  \"architectures\": [\n",
      "    \"LlamaForCausalLM\"\n",
      "  ],\n",
      "  \"attention_bias\": false,\n",
      "  \"bos_token_id\": 1,\n",
      "  \"eos_token_id\": 2,\n",
      "  \"hidden_act\": \"silu\",\n",
      "  \"hidden_size\": 5120,\n",
      "  \"initializer_range\": 0.02,\n",
      "  \"intermediate_size\": 13824,\n",
      "  \"max_position_embeddings\": 16384,\n",
      "  \"model_type\": \"llama\",\n",
      "  \"num_attention_heads\": 40,\n",
      "  \"num_hidden_layers\": 40,\n",
      "  \"num_key_value_heads\": 40,\n",
      "  \"pretraining_tp\": 1,\n",
      "  \"rms_norm_eps\": 1e-05,\n",
      "  \"rope_scaling\": null,\n",
      "  \"rope_theta\": 1000000,\n",
      "  \"tie_word_embeddings\": false,\n",
      "  \"torch_dtype\": \"float16\",\n",
      "  \"transformers_version\": \"4.35.0.dev0\",\n",
      "  \"use_cache\": true,\n",
      "  \"vocab_size\": 32016\n",
      "}\n",
      "\n"
     ]
    }
   ],
   "source": [
    "print(model.config)"
   ]
  },
  {
   "cell_type": "code",
   "execution_count": 17,
   "id": "f934fa15",
   "metadata": {},
   "outputs": [],
   "source": [
    "def generate_response(full_prompt, temp):\n",
    "   \n",
    "    torch.cuda.empty_cache()\n",
    "\n",
    "    tokens = tokenizer.encode(full_prompt, add_special_tokens=False)\n",
    "\n",
    "    prompt_tokens = []\n",
    "\n",
    "    dialog_tokens = [tokenizer(\n",
    "        full_prompt,\n",
    "        return_tensors=\"pt\",\n",
    "        add_special_tokens=True\n",
    "    ).input_ids.to(\"cuda\")]\n",
    "        \n",
    "    prompt_tokens.append(torch.cat(dialog_tokens, dim=-1))\n",
    "\n",
    "    input_ids = prompt_tokens[0]\n",
    "\n",
    "    generation_output = model.generate(\n",
    "        input_ids=input_ids,\n",
    "        do_sample=True,\n",
    "        max_new_tokens= 1000,\n",
    "        temperature=temp,\n",
    "        eos_token_id=tokenizer.eos_token_id,\n",
    "        top_p=0.9\n",
    "    );\n",
    "\n",
    "    new_tokens = generation_output[0][input_ids.shape[-1]:]\n",
    "    new_assistant_response =  tokenizer.decode(new_tokens).strip();\n",
    "\n",
    "    return new_assistant_response"
   ]
  },
  {
   "cell_type": "code",
   "execution_count": 18,
   "id": "eadff832",
   "metadata": {},
   "outputs": [],
   "source": [
    "def main_prompter(input_prompt):\n",
    "\n",
    "    B_INST, E_INST = \"[INST]\", \"[/INST]\"\n",
    "    B_SYS, E_SYS = \"<<SYS>>\\n\", \"\\n<</SYS>>\\n\\n\"\n",
    "\n",
    "    DEFAULT_SYSTEM_PROMPT = 'You are a helpful assistant. Provide help in data points creation. Provide output in same format as provided in the input example'\n",
    "    SYSTEM_PROMPT = DEFAULT_SYSTEM_PROMPT\n",
    "\n",
    "    dialogs = [{\"role\": \"system\", \"content\": SYSTEM_PROMPT}]\n",
    "\n",
    "    dialogs.append({\"role\": \"user\", \"content\": input_prompt})\n",
    "    \n",
    "    if dialogs[0][\"role\"] != \"system\":\n",
    "        dialogs = [\n",
    "            {\n",
    "                \"role\": \"system\",\n",
    "                \"content\": SYSTEM_PROMPT,\n",
    "            }\n",
    "        ] + dialogs\n",
    "\n",
    "    full_prompt = f\"{B_INST} {B_SYS}{(dialogs[0]['content']).strip()}{E_SYS}{(dialogs[1]['content']).strip()} {E_INST}\"\n",
    "    \n",
    "    return full_prompt"
   ]
  },
  {
   "cell_type": "code",
   "execution_count": 121,
   "id": "6e9d6f32",
   "metadata": {},
   "outputs": [],
   "source": [
    "intents = ['flight-cancellation', 'check-reservation', 'book-a-ticket','Shipping-Inquiry','Insurance Info','Medical Appointment Scheduling', 'Restaurant Reservation', 'Job Application Status', 'Product Warranty Information', 'Bank Account Balance', 'Hotel Room Availability', 'Weather Forecast', 'Car Rental Reservation', 'Educational Course Enrollment', 'Technical Support']"
   ]
  },
  {
   "cell_type": "code",
   "execution_count": 122,
   "id": "b02982d3",
   "metadata": {},
   "outputs": [
    {
     "name": "stdout",
     "output_type": "stream",
     "text": [
      "15\n"
     ]
    }
   ],
   "source": [
    "print(len(intents))"
   ]
  },
  {
   "cell_type": "code",
   "execution_count": 134,
   "id": "fb5ea61b",
   "metadata": {},
   "outputs": [
    {
     "name": "stderr",
     "output_type": "stream",
     "text": [
      "The attention mask and the pad token id were not set. As a consequence, you may observe unexpected behavior. Please pass your input's `attention_mask` to obtain reliable results.\n",
      "Setting `pad_token_id` to `eos_token_id`:2 for open-end generation.\n"
     ]
    },
    {
     "name": "stdout",
     "output_type": "stream",
     "text": [
      "Generate 35 new, different and diverse intents. Examples of various intents are given in the below list\n",
      " ['flight-cancellation', 'check-reservation', 'book-a-ticket', 'Shipping-Inquiry', 'Insurance Info', 'Medical Appointment Scheduling', 'Restaurant Reservation', 'Job Application Status', 'Product Warranty Information', 'Bank Account Balance', 'Hotel Room Availability', 'Weather Forecast', 'Car Rental Reservation', 'Educational Course Enrollment', 'Technical Support']\n",
      " All intents must be unique.\n",
      " Each intent should consists of minimum 2 and maximum 3 words only.\n",
      "Dont generate same topics which are mentioned in the examples.\n",
      "Provide list of new intents in pyhton list format \n",
      "Entered main_prompter ...\n",
      "Entered the generator function\n"
     ]
    },
    {
     "data": {
      "text/plain": [
       "\"Sure, here are 35 new, different and diverse intents:\\n\\n['Travel Agent Services', 'Tourism Packages', 'Motorcycle Rental', 'Golf Course Reservations', 'Ski Resort Bookings', 'Luxury Car Rentals', 'Yacht Charter', 'Private Pilot Lessons', 'Airplane Charter', 'Budget Travel Packages', 'All-Inclusive Vacations', 'Mountain Biking Rentals', 'Skydiving Excursions', 'Helicopter Rides', 'Cruise Ship Reservations', 'Food and Wine Tours', 'Vineyard Tours', 'Private Beach Club Rentals', 'Fishing Charters', 'Private Island Resorts', 'Wine Tastings', 'Cultural Tours', 'Adventure Parks', 'Camping Trips', 'Nature Photography Trips', 'Ziplining Adventures', 'Motorcycle Excursions', 'Private Boat Charters', 'Private Jet Reservations', 'Airport Taxis', 'Sightseeing Tours', 'Personalized Travel Plans']</s>\""
      ]
     },
     "execution_count": 134,
     "metadata": {},
     "output_type": "execute_result"
    }
   ],
   "source": [
    "instruction = \"Generate 35 new, different and diverse intents. Examples of various intents are given in the below list\\n \" + str(intents) + \"\\n All intents must be unique.\\n Each intent should consists of minimum 2 and maximum 3 words only.\\nDont generate same topics which are mentioned in the examples.\\nProvide list of new intents in pyhton list format \"\n",
    "print(instruction)\n",
    "full_prompt = main_prompter(input_prompt = instruction)\n",
    "response = generate_response(full_prompt, temp = 1.2)\n",
    "response"
   ]
  },
  {
   "cell_type": "code",
   "execution_count": 139,
   "id": "12cf2145",
   "metadata": {},
   "outputs": [
    {
     "data": {
      "text/plain": [
       "['Travel-Agent-Services',\n",
       " 'Tourism-Packages',\n",
       " 'Motorcycle-Rental',\n",
       " 'Golf-Course-Reservations',\n",
       " 'Ski-Resort-Bookings',\n",
       " 'Luxury-Car-Rentals',\n",
       " 'Yacht-Charter',\n",
       " 'Private-Pilot-Lessons',\n",
       " 'Airplane-Charter',\n",
       " 'Budget-Travel-Packages',\n",
       " 'All-Inclusive-Vacations',\n",
       " 'Mountain-Biking-Rentals',\n",
       " 'Skydiving-Excursions',\n",
       " 'Helicopter-Rides',\n",
       " 'Cruise-Ship-Reservations',\n",
       " 'Food-and-Wine-Tours',\n",
       " 'Vineyard-Tours',\n",
       " 'Private-Beach-Club-Rentals',\n",
       " 'Fishing-Charters',\n",
       " 'Private-Island-Resorts',\n",
       " 'Wine-Tastings',\n",
       " 'Cultural-Tours',\n",
       " 'Adventure-Parks',\n",
       " 'Camping-Trips',\n",
       " 'Nature-Photography-Trips',\n",
       " 'Ziplining-Adventures',\n",
       " 'Motorcycle-Excursions',\n",
       " 'Private-Boat-Charters',\n",
       " 'Private-Jet-Reservations',\n",
       " 'Airport-Taxis',\n",
       " 'Sightseeing-Tours',\n",
       " 'Personalized-Travel-Plans']"
      ]
     },
     "execution_count": 139,
     "metadata": {},
     "output_type": "execute_result"
    }
   ],
   "source": [
    "new_intents = response.replace(']</s>',\"\").split('[')[-1].split(',')\n",
    "new_intents = [intent.strip().replace(' ','-').replace('\\n]','')[1:-1] for intent in new_intents]\n",
    "new_intents"
   ]
  },
  {
   "cell_type": "code",
   "execution_count": 140,
   "id": "eb798e45",
   "metadata": {},
   "outputs": [
    {
     "data": {
      "text/plain": [
       "32"
      ]
     },
     "execution_count": 140,
     "metadata": {},
     "output_type": "execute_result"
    }
   ],
   "source": [
    "len(new_intents)"
   ]
  },
  {
   "cell_type": "code",
   "execution_count": 141,
   "id": "8ac27add",
   "metadata": {},
   "outputs": [
    {
     "data": {
      "text/plain": [
       "47"
      ]
     },
     "execution_count": 141,
     "metadata": {},
     "output_type": "execute_result"
    }
   ],
   "source": [
    "intents.extend(new_intents)\n",
    "len(intents)"
   ]
  },
  {
   "cell_type": "code",
   "execution_count": 142,
   "id": "eb3bd9c4",
   "metadata": {},
   "outputs": [
    {
     "data": {
      "text/plain": [
       "['flight-cancellation',\n",
       " 'check-reservation',\n",
       " 'book-a-ticket',\n",
       " 'Shipping-Inquiry',\n",
       " 'Insurance Info',\n",
       " 'Medical Appointment Scheduling',\n",
       " 'Restaurant Reservation',\n",
       " 'Job Application Status',\n",
       " 'Product Warranty Information',\n",
       " 'Bank Account Balance',\n",
       " 'Hotel Room Availability',\n",
       " 'Weather Forecast',\n",
       " 'Car Rental Reservation',\n",
       " 'Educational Course Enrollment',\n",
       " 'Technical Support',\n",
       " 'Travel-Agent-Services',\n",
       " 'Tourism-Packages',\n",
       " 'Motorcycle-Rental',\n",
       " 'Golf-Course-Reservations',\n",
       " 'Ski-Resort-Bookings',\n",
       " 'Luxury-Car-Rentals',\n",
       " 'Yacht-Charter',\n",
       " 'Private-Pilot-Lessons',\n",
       " 'Airplane-Charter',\n",
       " 'Budget-Travel-Packages',\n",
       " 'All-Inclusive-Vacations',\n",
       " 'Mountain-Biking-Rentals',\n",
       " 'Skydiving-Excursions',\n",
       " 'Helicopter-Rides',\n",
       " 'Cruise-Ship-Reservations',\n",
       " 'Food-and-Wine-Tours',\n",
       " 'Vineyard-Tours',\n",
       " 'Private-Beach-Club-Rentals',\n",
       " 'Fishing-Charters',\n",
       " 'Private-Island-Resorts',\n",
       " 'Wine-Tastings',\n",
       " 'Cultural-Tours',\n",
       " 'Adventure-Parks',\n",
       " 'Camping-Trips',\n",
       " 'Nature-Photography-Trips',\n",
       " 'Ziplining-Adventures',\n",
       " 'Motorcycle-Excursions',\n",
       " 'Private-Boat-Charters',\n",
       " 'Private-Jet-Reservations',\n",
       " 'Airport-Taxis',\n",
       " 'Sightseeing-Tours',\n",
       " 'Personalized-Travel-Plans']"
      ]
     },
     "execution_count": 142,
     "metadata": {},
     "output_type": "execute_result"
    }
   ],
   "source": [
    "intents"
   ]
  },
  {
   "cell_type": "code",
   "execution_count": 146,
   "id": "0df844b1",
   "metadata": {},
   "outputs": [
    {
     "name": "stderr",
     "output_type": "stream",
     "text": [
      "The attention mask and the pad token id were not set. As a consequence, you may observe unexpected behavior. Please pass your input's `attention_mask` to obtain reliable results.\n",
      "Setting `pad_token_id` to `eos_token_id`:2 for open-end generation.\n"
     ]
    },
    {
     "name": "stdout",
     "output_type": "stream",
     "text": [
      "Generate 25 new, different and diverse intents. Examples of various intents are given in the below list\n",
      " ['Vineyard-Tours', 'Product Warranty Information', 'Airplane-Charter', 'Budget-Travel-Packages', 'Bank Account Balance', 'book-a-ticket', 'Medical Appointment Scheduling', 'Mountain-Biking-Rentals', 'Yacht-Charter', 'Ski-Resort-Bookings']\n",
      " All intents must be unique.\n",
      " Each intent should consists of minimum 2 and maximum 3 words only.\n",
      "Dont generate same topics which are mentioned in the examples.\n",
      "Provide list of new intents in pyhton list format \n",
      "Entered main_prompter ...\n",
      "Entered the generator function\n"
     ]
    },
    {
     "data": {
      "text/plain": [
       "\"Here are 25 new intents that are different and diverse from the ones provided as examples:\\n\\n['Trip-Organization', 'Pet-Sitting-Services', 'Hotel-Room-Cleaning', 'Online-Tutoring', 'Teacher-Employment', 'Dental-Care-Plans', 'Household-Organization', 'Event-Planning-Services', 'Housing-Loan-Counseling', 'Food-Bank-Donation', 'Small-Business-Loans', 'Personal-Fitness-Training', 'Mental-Health-Support', 'Art-Tutoring', 'Transportation-Services', 'Home-Repair-Services', 'Medical-Billing-and-Coding', 'Child-Care-Services', 'Online-Translation-Services', 'Career-Coaching', 'Dietary-Supplement-Sales', 'Import-Export-Services', 'Personal-Financial-Planning', 'Travel-Insurance']</s>\""
      ]
     },
     "execution_count": 146,
     "metadata": {},
     "output_type": "execute_result"
    }
   ],
   "source": [
    "instruction = \"Generate 25 new, different and diverse intents. Examples of various intents are given in the below list\\n \" + str(random.sample(intents, 10)) + \"\\n All intents must be unique.\\n Each intent should consists of minimum 2 and maximum 3 words only.\\nDont generate same topics which are mentioned in the examples.\\nProvide list of new intents in pyhton list format \"\n",
    "print(instruction)\n",
    "full_prompt = main_prompter(input_prompt = instruction)\n",
    "response = generate_response(full_prompt, temp = 1.2)\n",
    "response"
   ]
  },
  {
   "cell_type": "code",
   "execution_count": 147,
   "id": "0f0c4fa1",
   "metadata": {},
   "outputs": [
    {
     "data": {
      "text/plain": [
       "['Trip-Organization',\n",
       " 'Pet-Sitting-Services',\n",
       " 'Hotel-Room-Cleaning',\n",
       " 'Online-Tutoring',\n",
       " 'Teacher-Employment',\n",
       " 'Dental-Care-Plans',\n",
       " 'Household-Organization',\n",
       " 'Event-Planning-Services',\n",
       " 'Housing-Loan-Counseling',\n",
       " 'Food-Bank-Donation',\n",
       " 'Small-Business-Loans',\n",
       " 'Personal-Fitness-Training',\n",
       " 'Mental-Health-Support',\n",
       " 'Art-Tutoring',\n",
       " 'Transportation-Services',\n",
       " 'Home-Repair-Services',\n",
       " 'Medical-Billing-and-Coding',\n",
       " 'Child-Care-Services',\n",
       " 'Online-Translation-Services',\n",
       " 'Career-Coaching',\n",
       " 'Dietary-Supplement-Sales',\n",
       " 'Import-Export-Services',\n",
       " 'Personal-Financial-Planning',\n",
       " 'Travel-Insurance']"
      ]
     },
     "execution_count": 147,
     "metadata": {},
     "output_type": "execute_result"
    }
   ],
   "source": [
    "new_intents = response.replace(']</s>',\"\").split('[')[-1].split(',')\n",
    "new_intents = [intent.strip().replace(' ','-').replace('\\n]','')[1:-1] for intent in new_intents]\n",
    "new_intents"
   ]
  },
  {
   "cell_type": "code",
   "execution_count": 148,
   "id": "4f8e369d",
   "metadata": {},
   "outputs": [
    {
     "data": {
      "text/plain": [
       "71"
      ]
     },
     "execution_count": 148,
     "metadata": {},
     "output_type": "execute_result"
    }
   ],
   "source": [
    "intents.extend(new_intents)\n",
    "len(intents)"
   ]
  },
  {
   "cell_type": "code",
   "execution_count": 153,
   "id": "893842f8",
   "metadata": {},
   "outputs": [
    {
     "name": "stderr",
     "output_type": "stream",
     "text": [
      "The attention mask and the pad token id were not set. As a consequence, you may observe unexpected behavior. Please pass your input's `attention_mask` to obtain reliable results.\n",
      "Setting `pad_token_id` to `eos_token_id`:2 for open-end generation.\n"
     ]
    },
    {
     "name": "stdout",
     "output_type": "stream",
     "text": [
      "Generate 30 new, different and diverse intents. Examples of various intents are given in the below list\n",
      " ['Cultural-Tours', 'Sightseeing-Tours', 'Household-Organization', 'Food-Bank-Donation', 'Trip-Organization', 'Dietary-Supplement-Sales', 'Dental-Care-Plans', 'Medical-Billing-and-Coding', 'Mental-Health-Support', 'All-Inclusive-Vacations']\n",
      " All intents must be unique.\n",
      " Each intent should consists of minimum 2 and maximum 3 words only.\n",
      "Dont generate same topics which are mentioned in the examples.\n",
      "Provide list of new intents in pyhton list format \n",
      "Entered main_prompter ...\n",
      "Entered the generator function\n"
     ]
    },
    {
     "data": {
      "text/plain": [
       "\"Here is a list of 30 new intents that are not included in the previous examples:\\n\\n1. 'Furniture-Assembly'\\n2. 'Meal-Planning'\\n3. 'Outdoor-Recreation'\\n4. 'Dietary-Restrictions'\\n5. 'Pet-Care'\\n6. 'Health-and-Wellness'\\n7. 'Covid-19-Support'\\n8. 'Home-Cleaning'\\n9. 'Gardening'\\n10. 'Aromatherapy'\\n11. 'Organic-Gardening'\\n12. 'Sustainable-Living'\\n13. 'Self-Care-Routines'\\n14. 'Mental-Health-Assessments'\\n15. 'Nutrition-Counseling'\\n16. 'Travel-Insurance'\\n17. 'Health-and-Safety-Tips'\\n18. 'Preparedness-Guides'\\n19. 'Crisis-Communication'\\n20. 'Mental-Health-First-Aid'\\n21. 'Disaster-Relief'\\n22. 'Community-Building'\\n23. 'Gratitude-Journals'\\n24. 'Goal-Setting'\\n25. 'Mindfulness-Exercises'\\n26. 'Natural-Remedies'\\n27. 'Personal-Finance-Planning'\\n28. 'Healthy-Eating-Recipes'\\n29. 'Stress-Management'\\n30. 'Emotional-Intelligence-Development'</s>\""
      ]
     },
     "execution_count": 153,
     "metadata": {},
     "output_type": "execute_result"
    }
   ],
   "source": [
    "instruction = \"Generate 30 new, different and diverse intents. Examples of various intents are given in the below list\\n \" + str(random.sample(intents, 10)) + \"\\n All intents must be unique.\\n Each intent should consists of minimum 2 and maximum 3 words only.\\nDont generate same topics which are mentioned in the examples.\\nProvide list of new intents in pyhton list format \"\n",
    "print(instruction)\n",
    "full_prompt = main_prompter(input_prompt = instruction)\n",
    "response = generate_response(full_prompt, temp = 1.2)\n",
    "response"
   ]
  },
  {
   "cell_type": "code",
   "execution_count": 158,
   "id": "ca3c0cd7",
   "metadata": {},
   "outputs": [
    {
     "data": {
      "text/plain": [
       "['Furniture-Assembly',\n",
       " 'Meal-Planning',\n",
       " 'Outdoor-Recreation',\n",
       " 'Dietary-Restrictions',\n",
       " 'Pet-Care',\n",
       " 'Health-and-Wellness',\n",
       " 'Covid-19-Support',\n",
       " 'Home-Cleaning',\n",
       " 'Gardening',\n",
       " 'Aromatherapy',\n",
       " 'Organic-Gardening',\n",
       " 'Sustainable-Living',\n",
       " 'Self-Care-Routines',\n",
       " 'Mental-Health-Assessments',\n",
       " 'Nutrition-Counseling',\n",
       " 'Travel-Insurance',\n",
       " 'Health-and-Safety-Tips',\n",
       " 'Preparedness-Guides',\n",
       " 'Crisis-Communication',\n",
       " 'Mental-Health-First-Aid',\n",
       " 'Disaster-Relief',\n",
       " 'Community-Building',\n",
       " 'Gratitude-Journals',\n",
       " 'Goal-Setting',\n",
       " 'Mindfulness-Exercises',\n",
       " 'Natural-Remedies',\n",
       " 'Personal-Finance-Planning',\n",
       " 'Healthy-Eating-Recipes',\n",
       " 'Stress-Management',\n",
       " 'Emotional-Intelligence-Development']"
      ]
     },
     "execution_count": 158,
     "metadata": {},
     "output_type": "execute_result"
    }
   ],
   "source": [
    "new_intents = response.replace('</s>',\"\").split('\\n')[2:]\n",
    "new_intents = [intent.split(' ')[-1][1:-1] for intent in new_intents]\n",
    "new_intents"
   ]
  },
  {
   "cell_type": "code",
   "execution_count": 159,
   "id": "012180c7",
   "metadata": {},
   "outputs": [
    {
     "data": {
      "text/plain": [
       "101"
      ]
     },
     "execution_count": 159,
     "metadata": {},
     "output_type": "execute_result"
    }
   ],
   "source": [
    "intents.extend(new_intents)\n",
    "len(intents)"
   ]
  },
  {
   "cell_type": "code",
   "execution_count": 160,
   "id": "ca511a0e",
   "metadata": {},
   "outputs": [
    {
     "data": {
      "text/plain": [
       "100"
      ]
     },
     "execution_count": 160,
     "metadata": {},
     "output_type": "execute_result"
    }
   ],
   "source": [
    "intents = list(set(intents))\n",
    "len(intents)"
   ]
  },
  {
   "cell_type": "code",
   "execution_count": 161,
   "id": "0491c3ed",
   "metadata": {},
   "outputs": [
    {
     "data": {
      "text/plain": [
       "['Private-Pilot-Lessons',\n",
       " 'Tourism-Packages',\n",
       " 'Vineyard-Tours',\n",
       " 'Motorcycle-Excursions',\n",
       " 'Online-Tutoring',\n",
       " 'Food-and-Wine-Tours',\n",
       " 'Product Warranty Information',\n",
       " 'Budget-Travel-Packages',\n",
       " 'Wine-Tastings',\n",
       " 'Food-Bank-Donation',\n",
       " 'Home-Cleaning',\n",
       " 'Hotel Room Availability',\n",
       " 'Gratitude-Journals',\n",
       " 'Medical-Billing-and-Coding',\n",
       " 'Bank Account Balance',\n",
       " 'Sustainable-Living',\n",
       " 'Health-and-Safety-Tips',\n",
       " 'Housing-Loan-Counseling',\n",
       " 'Trip-Organization',\n",
       " 'Transportation-Services',\n",
       " 'Online-Translation-Services',\n",
       " 'Pet-Sitting-Services',\n",
       " 'Mindfulness-Exercises',\n",
       " 'Luxury-Car-Rentals',\n",
       " 'Airplane-Charter',\n",
       " 'Small-Business-Loans',\n",
       " 'Art-Tutoring',\n",
       " 'Cruise-Ship-Reservations',\n",
       " 'Dietary-Restrictions',\n",
       " 'Travel-Agent-Services',\n",
       " 'Ski-Resort-Bookings',\n",
       " 'Medical Appointment Scheduling',\n",
       " 'Shipping-Inquiry',\n",
       " 'Dietary-Supplement-Sales',\n",
       " 'Import-Export-Services',\n",
       " 'Health-and-Wellness',\n",
       " 'Pet-Care',\n",
       " 'Nutrition-Counseling',\n",
       " 'Job Application Status',\n",
       " 'Natural-Remedies',\n",
       " 'Personal-Financial-Planning',\n",
       " 'Fishing-Charters',\n",
       " 'All-Inclusive-Vacations',\n",
       " 'Airport-Taxis',\n",
       " 'Mental-Health-Support',\n",
       " 'Private-Island-Resorts',\n",
       " 'Private-Boat-Charters',\n",
       " 'Camping-Trips',\n",
       " 'Mental-Health-First-Aid',\n",
       " 'Covid-19-Support',\n",
       " 'Travel-Insurance',\n",
       " 'Insurance Info',\n",
       " 'Adventure-Parks',\n",
       " 'Healthy-Eating-Recipes',\n",
       " 'Emotional-Intelligence-Development',\n",
       " 'Skydiving-Excursions',\n",
       " 'Aromatherapy',\n",
       " 'Nature-Photography-Trips',\n",
       " 'Golf-Course-Reservations',\n",
       " 'Crisis-Communication',\n",
       " 'Community-Building',\n",
       " 'Hotel-Room-Cleaning',\n",
       " 'Yacht-Charter',\n",
       " 'Stress-Management',\n",
       " 'Restaurant Reservation',\n",
       " 'Self-Care-Routines',\n",
       " 'Personal-Finance-Planning',\n",
       " 'Personalized-Travel-Plans',\n",
       " 'Career-Coaching',\n",
       " 'Outdoor-Recreation',\n",
       " 'flight-cancellation',\n",
       " 'Educational Course Enrollment',\n",
       " 'Ziplining-Adventures',\n",
       " 'Child-Care-Services',\n",
       " 'Private-Jet-Reservations',\n",
       " 'book-a-ticket',\n",
       " 'Weather Forecast',\n",
       " 'Gardening',\n",
       " 'Mental-Health-Assessments',\n",
       " 'Home-Repair-Services',\n",
       " 'Car Rental Reservation',\n",
       " 'Organic-Gardening',\n",
       " 'Disaster-Relief',\n",
       " 'Mountain-Biking-Rentals',\n",
       " 'Dental-Care-Plans',\n",
       " 'Cultural-Tours',\n",
       " 'Helicopter-Rides',\n",
       " 'Technical Support',\n",
       " 'Household-Organization',\n",
       " 'Preparedness-Guides',\n",
       " 'Goal-Setting',\n",
       " 'Event-Planning-Services',\n",
       " 'check-reservation',\n",
       " 'Motorcycle-Rental',\n",
       " 'Sightseeing-Tours',\n",
       " 'Teacher-Employment',\n",
       " 'Meal-Planning',\n",
       " 'Furniture-Assembly',\n",
       " 'Private-Beach-Club-Rentals',\n",
       " 'Personal-Fitness-Training']"
      ]
     },
     "execution_count": 161,
     "metadata": {},
     "output_type": "execute_result"
    }
   ],
   "source": [
    "intents"
   ]
  },
  {
   "cell_type": "markdown",
   "id": "42437d7d",
   "metadata": {},
   "source": [
    "# Example Curation"
   ]
  },
  {
   "cell_type": "code",
   "execution_count": 2,
   "id": "02671d9d",
   "metadata": {},
   "outputs": [],
   "source": [
    "import json\n",
    "import ast"
   ]
  },
  {
   "cell_type": "code",
   "execution_count": 278,
   "id": "fd7dff81",
   "metadata": {},
   "outputs": [],
   "source": [
    "seed_data = [{\n",
    "  \"name\": \"book-a-ticket\",\n",
    "  \"examples\": [\n",
    "    \"I want to book a ticket from Hyderabad to Chennai\",\n",
    "    \"I'd like to book a plane ticket for a flight on August 25th\",\n",
    "    \"Can you help me reserve a seat on a flight from New York to Los Angeles?\",\n",
    "    \"I'm interested in flying to Paris from London on the 10th of September.\",\n",
    "    \"I want to travel to Tokyo and I need a ticket for a flight next week.\",\n",
    "    \"Could you assist me in booking a flight from Chicago to Miami on the 15th of October?\",\n",
    "    \"I'm looking for a round-trip ticket from San Francisco to Seattle for the weekend of November 5th.\",\n",
    "    \"I need to get to Dubai from Mumbai, preferably on a direct flight.\",\n",
    "    \"Can you check for available flights from Toronto to Vancouver for the 20th of December?\",\n",
    "    \"I'm planning a trip to Rome, and I'd like to book a business class ticket with extra legroom.\",\n",
    "    \"I want to fly to London, departing on the 8th of January and returning on the 20th.\"\n",
    "  ]\n",
    "},\n",
    "{\n",
    "  \"name\": \"check-reservation\",\n",
    "  \"examples\": [\n",
    "    \"What's the reservation status for booking ID ABC123?\",\n",
    "    \"Can you provide me with the current boarding status for my flight?\",\n",
    "    \"I'd like to know if my reservation for flight XYZ456 is confirmed.\",\n",
    "    \"What's the seat number allocated for my reservation with confirmation number DEF789?\",\n",
    "    \"Has there been any seat upgrade for my booking on flight LMN567?\",\n",
    "    \"Can you check the reservation status for the email address john.doe@email.com?\",\n",
    "    \"I want to inquire about the boarding status of my flight with booking reference GHI234.\",\n",
    "    \"Please tell me the current status of my reservation for flight JKL890.\",\n",
    "    \"Has there been any change in the seat assignment for my booking on flight MNO123?\",\n",
    "    \"What's the reservation status for my ticket on the flight with departure code PQR456?\"\n",
    "  ]\n",
    "}\n",
    "            ]\n"
   ]
  },
  {
   "cell_type": "code",
   "execution_count": null,
   "id": "c7fbac97",
   "metadata": {},
   "outputs": [],
   "source": [
    "counter = 0\n",
    "invalid = 0\n",
    "\n",
    "for intent in intents:\n",
    "    \n",
    "    if intent in ['book-a-ticket','check-reservation','flight-cancellation']:\n",
    "        continue\n",
    "\n",
    "    example = random.choice(seed_data)\n",
    "    \n",
    "    one_shot_prompt = f\"\"\"\n",
    "    See below dictiona data point which has two keys 'name' and 'examples'. 'name' key represents the intent.\n",
    "    'examples' key contains examples related to this intent.\n",
    "    Below is a sample data point for intent {example[\"name\"]} and corresponding examples.\n",
    "    \n",
    "    {example}\n",
    "    \n",
    "    Create a data point following the exact same format for intent {intent} and always use \"\" for strings.\n",
    "    Do not use placeholder for entities.\n",
    "    \"\"\"\n",
    "    full_prompt = main_prompter(input_prompt = one_shot_prompt)\n",
    "    response = generate_response(full_prompt, temp = 1.2)\n",
    "    new_data_point = '{' + response[response.find(\"{\")+1:response.find(\"}\")+1]\n",
    "    \n",
    "    try:\n",
    "        new_data_point = ast.literal_eval(new_data_point)\n",
    "        seed_data.append(new_data_point)\n",
    "        counter += 1\n",
    "        \n",
    "    except Exception as e:\n",
    "        invalid += 1\n",
    "        \n",
    "    if counter % 5 == 0: print(f'{counter} data points generated ')\n",
    "    "
   ]
  },
  {
   "cell_type": "code",
   "execution_count": 280,
   "id": "ac6c44f1",
   "metadata": {},
   "outputs": [
    {
     "data": {
      "text/plain": [
       "94"
      ]
     },
     "execution_count": 280,
     "metadata": {},
     "output_type": "execute_result"
    }
   ],
   "source": [
    "len(seed_data)"
   ]
  },
  {
   "cell_type": "code",
   "execution_count": 282,
   "id": "4b0b5f93",
   "metadata": {},
   "outputs": [],
   "source": [
    "with open(\"intents.json\", \"w\") as file:\n",
    "    json.dump(seed_data, file)\n"
   ]
  },
  {
   "cell_type": "code",
   "execution_count": 4,
   "id": "7091c2db",
   "metadata": {},
   "outputs": [],
   "source": [
    "\n",
    "with open('intents.json', 'r') as f:\n",
    "    intents_data = json.load(f)\n",
    "    \n",
    "formatted_intents = []\n",
    "\n",
    "for intent in intents_data:\n",
    "\n",
    "    intent['name'] = intent['name'].replace(' ','-')\n",
    "    formatted_intents.append(intent)\n",
    "\n",
    "\n",
    "with open(\"intents.json\", \"w\") as file:\n",
    "    json.dump(formatted_intents, file)"
   ]
  },
  {
   "cell_type": "code",
   "execution_count": null,
   "id": "b13e34ab",
   "metadata": {},
   "outputs": [],
   "source": []
  },
  {
   "cell_type": "markdown",
   "id": "438e968a",
   "metadata": {},
   "source": [
    "# Utterance Generation"
   ]
  },
  {
   "cell_type": "code",
   "execution_count": 19,
   "id": "c92b32f1",
   "metadata": {},
   "outputs": [],
   "source": [
    "with open('intents.json', 'r') as f:\n",
    "    intents = json.load(f)"
   ]
  },
  {
   "cell_type": "code",
   "execution_count": 20,
   "id": "bd1a5aca",
   "metadata": {},
   "outputs": [],
   "source": [
    "example = {\n",
    "  \"name\": \"check-reservation\",\n",
    "  \"examples\": [\n",
    "    \"What's the reservation status for booking ID ABC123?\",\n",
    "    \"Can you provide me with the current boarding status for my flight?\",\n",
    "    \"I'd like to know if my reservation for flight XYZ456 is confirmed.\",\n",
    "    \"What's the seat number allocated for my reservation with confirmation number DEF789?\",\n",
    "    \"Has there been any seat upgrade for my booking on flight LMN567?\",\n",
    "    \"Can you check the reservation status for the email address john.doe@email.com?\",\n",
    "    \"I want to inquire about the boarding status of my flight with booking reference GHI234.\",\n",
    "    \"Please tell me the current status of my reservation for flight JKL890.\",\n",
    "    \"Has there been any change in the seat assignment for my booking on flight MNO123?\",\n",
    "    \"What's the reservation status for my ticket on the flight with departure code PQR456?\"\n",
    "  ]\n",
    "}\n"
   ]
  },
  {
   "cell_type": "code",
   "execution_count": 23,
   "id": "07f3a1d4",
   "metadata": {},
   "outputs": [
    {
     "name": "stderr",
     "output_type": "stream",
     "text": [
      "The attention mask and the pad token id were not set. As a consequence, you may observe unexpected behavior. Please pass your input's `attention_mask` to obtain reliable results.\n",
      "Setting `pad_token_id` to `eos_token_id`:2 for open-end generation.\n"
     ]
    },
    {
     "name": "stdout",
     "output_type": "stream",
     "text": [
      "book-a-ticket\n"
     ]
    },
    {
     "name": "stderr",
     "output_type": "stream",
     "text": [
      "The attention mask and the pad token id were not set. As a consequence, you may observe unexpected behavior. Please pass your input's `attention_mask` to obtain reliable results.\n",
      "Setting `pad_token_id` to `eos_token_id`:2 for open-end generation.\n"
     ]
    },
    {
     "name": "stdout",
     "output_type": "stream",
     "text": [
      " \"I'd like to book a flight from Hyderabad to Chennai.\"\n",
      "check-reservation\n"
     ]
    },
    {
     "name": "stderr",
     "output_type": "stream",
     "text": [
      "The attention mask and the pad token id were not set. As a consequence, you may observe unexpected behavior. Please pass your input's `attention_mask` to obtain reliable results.\n",
      "Setting `pad_token_id` to `eos_token_id`:2 for open-end generation.\n"
     ]
    },
    {
     "name": "stdout",
     "output_type": "stream",
     "text": [
      " \"Please provide me with the current reservation status for my flight.\"\n",
      "Private-Pilot-Lessons\n"
     ]
    },
    {
     "name": "stderr",
     "output_type": "stream",
     "text": [
      "The attention mask and the pad token id were not set. As a consequence, you may observe unexpected behavior. Please pass your input's `attention_mask` to obtain reliable results.\n",
      "Setting `pad_token_id` to `eos_token_id`:2 for open-end generation.\n"
     ]
    },
    {
     "name": "stdout",
     "output_type": "stream",
     "text": [
      " \"I'm interested in taking private pilot lessons. Can you recommend a flight school?\"\n",
      "Tourism-Packages\n"
     ]
    },
    {
     "name": "stderr",
     "output_type": "stream",
     "text": [
      "The attention mask and the pad token id were not set. As a consequence, you may observe unexpected behavior. Please pass your input's `attention_mask` to obtain reliable results.\n",
      "Setting `pad_token_id` to `eos_token_id`:2 for open-end generation.\n"
     ]
    },
    {
     "name": "stdout",
     "output_type": "stream",
     "text": [
      " \"I'm looking for a package tour to Paris for a week in the summer.\"\n",
      "Online-Tutoring\n"
     ]
    },
    {
     "name": "stderr",
     "output_type": "stream",
     "text": [
      "The attention mask and the pad token id were not set. As a consequence, you may observe unexpected behavior. Please pass your input's `attention_mask` to obtain reliable results.\n",
      "Setting `pad_token_id` to `eos_token_id`:2 for open-end generation.\n"
     ]
    },
    {
     "name": "stdout",
     "output_type": "stream",
     "text": [
      " \"I need help with my algebra homework.\"\n",
      "Food-and-Wine-Tours\n"
     ]
    },
    {
     "name": "stderr",
     "output_type": "stream",
     "text": [
      "The attention mask and the pad token id were not set. As a consequence, you may observe unexpected behavior. Please pass your input's `attention_mask` to obtain reliable results.\n",
      "Setting `pad_token_id` to `eos_token_id`:2 for open-end generation.\n"
     ]
    },
    {
     "name": "stdout",
     "output_type": "stream",
     "text": [
      " \"I can recommend some options for you.\"\n",
      "Product-Warranty-Information\n"
     ]
    },
    {
     "name": "stderr",
     "output_type": "stream",
     "text": [
      "The attention mask and the pad token id were not set. As a consequence, you may observe unexpected behavior. Please pass your input's `attention_mask` to obtain reliable results.\n",
      "Setting `pad_token_id` to `eos_token_id`:2 for open-end generation.\n"
     ]
    },
    {
     "name": "stdout",
     "output_type": "stream",
     "text": [
      " \"I'm looking for information about the warranty on my product. Can you help me?\"\n",
      "Budget-Travel-Packages\n"
     ]
    },
    {
     "name": "stderr",
     "output_type": "stream",
     "text": [
      "The attention mask and the pad token id were not set. As a consequence, you may observe unexpected behavior. Please pass your input's `attention_mask` to obtain reliable results.\n",
      "Setting `pad_token_id` to `eos_token_id`:2 for open-end generation.\n"
     ]
    },
    {
     "name": "stdout",
     "output_type": "stream",
     "text": [
      " \"I'm looking for budget travel packages.\"\n",
      "Wine-Tastings\n"
     ]
    },
    {
     "name": "stderr",
     "output_type": "stream",
     "text": [
      "The attention mask and the pad token id were not set. As a consequence, you may observe unexpected behavior. Please pass your input's `attention_mask` to obtain reliable results.\n",
      "Setting `pad_token_id` to `eos_token_id`:2 for open-end generation.\n"
     ]
    },
    {
     "name": "stdout",
     "output_type": "stream",
     "text": [
      " \"I'm interested in attending a wine tasting in Napa Valley.\"\n",
      "Food-Bank-Donation\n"
     ]
    },
    {
     "name": "stderr",
     "output_type": "stream",
     "text": [
      "The attention mask and the pad token id were not set. As a consequence, you may observe unexpected behavior. Please pass your input's `attention_mask` to obtain reliable results.\n",
      "Setting `pad_token_id` to `eos_token_id`:2 for open-end generation.\n"
     ]
    },
    {
     "name": "stdout",
     "output_type": "stream",
     "text": [
      " \"I would like to donate food to a local food bank.\"\n",
      "Home-Cleaning\n"
     ]
    },
    {
     "name": "stderr",
     "output_type": "stream",
     "text": [
      "The attention mask and the pad token id were not set. As a consequence, you may observe unexpected behavior. Please pass your input's `attention_mask` to obtain reliable results.\n",
      "Setting `pad_token_id` to `eos_token_id`:2 for open-end generation.\n"
     ]
    },
    {
     "name": "stdout",
     "output_type": "stream",
     "text": [
      " \"I need help with cleaning my entire house.\"\n",
      "Hotel-Room-Availability\n"
     ]
    },
    {
     "name": "stderr",
     "output_type": "stream",
     "text": [
      "The attention mask and the pad token id were not set. As a consequence, you may observe unexpected behavior. Please pass your input's `attention_mask` to obtain reliable results.\n",
      "Setting `pad_token_id` to `eos_token_id`:2 for open-end generation.\n"
     ]
    },
    {
     "name": "stdout",
     "output_type": "stream",
     "text": [
      " \"Inquiring about hotel room availability in City.\"\n",
      "Gratitude-Journals\n"
     ]
    },
    {
     "name": "stderr",
     "output_type": "stream",
     "text": [
      "The attention mask and the pad token id were not set. As a consequence, you may observe unexpected behavior. Please pass your input's `attention_mask` to obtain reliable results.\n",
      "Setting `pad_token_id` to `eos_token_id`:2 for open-end generation.\n"
     ]
    },
    {
     "name": "stdout",
     "output_type": "stream",
     "text": [
      " \"Can you help me keep track of my daily gratitudes?\"\n",
      "Medical-Billing-and-Coding\n"
     ]
    },
    {
     "name": "stderr",
     "output_type": "stream",
     "text": [
      "The attention mask and the pad token id were not set. As a consequence, you may observe unexpected behavior. Please pass your input's `attention_mask` to obtain reliable results.\n",
      "Setting `pad_token_id` to `eos_token_id`:2 for open-end generation.\n"
     ]
    },
    {
     "name": "stdout",
     "output_type": "stream",
     "text": [
      " \"I can help you with medical billing and coding.\"\n",
      "Bank-Account-Balance\n"
     ]
    },
    {
     "name": "stderr",
     "output_type": "stream",
     "text": [
      "The attention mask and the pad token id were not set. As a consequence, you may observe unexpected behavior. Please pass your input's `attention_mask` to obtain reliable results.\n",
      "Setting `pad_token_id` to `eos_token_id`:2 for open-end generation.\n"
     ]
    },
    {
     "name": "stdout",
     "output_type": "stream",
     "text": [
      " \"Please provide me with the current status of my reservation.\"\n",
      "Sustainable-Living\n"
     ]
    },
    {
     "name": "stderr",
     "output_type": "stream",
     "text": [
      "The attention mask and the pad token id were not set. As a consequence, you may observe unexpected behavior. Please pass your input's `attention_mask` to obtain reliable results.\n",
      "Setting `pad_token_id` to `eos_token_id`:2 for open-end generation.\n"
     ]
    },
    {
     "name": "stdout",
     "output_type": "stream",
     "text": [
      " \"What are some sustainable living tips?\"\n",
      "Health-and-Safety-Tips\n"
     ]
    },
    {
     "name": "stderr",
     "output_type": "stream",
     "text": [
      "The attention mask and the pad token id were not set. As a consequence, you may observe unexpected behavior. Please pass your input's `attention_mask` to obtain reliable results.\n",
      "Setting `pad_token_id` to `eos_token_id`:2 for open-end generation.\n"
     ]
    },
    {
     "name": "stdout",
     "output_type": "stream",
     "text": [
      " \"I want some tips on staying safe while traveling.\"\n",
      "Housing-Loan-Counseling\n"
     ]
    },
    {
     "name": "stderr",
     "output_type": "stream",
     "text": [
      "The attention mask and the pad token id were not set. As a consequence, you may observe unexpected behavior. Please pass your input's `attention_mask` to obtain reliable results.\n",
      "Setting `pad_token_id` to `eos_token_id`:2 for open-end generation.\n"
     ]
    },
    {
     "name": "stdout",
     "output_type": "stream",
     "text": [
      " \"I can help you with your housing loan counseling questions. What would you like to know?\"\n",
      "Trip-Organization\n"
     ]
    },
    {
     "name": "stderr",
     "output_type": "stream",
     "text": [
      "The attention mask and the pad token id were not set. As a consequence, you may observe unexpected behavior. Please pass your input's `attention_mask` to obtain reliable results.\n",
      "Setting `pad_token_id` to `eos_token_id`:2 for open-end generation.\n"
     ]
    },
    {
     "name": "stdout",
     "output_type": "stream",
     "text": [
      " \"I need help planning a trip to Paris for a week in the summer.\"\n",
      "Transportation-Services\n"
     ]
    },
    {
     "name": "stderr",
     "output_type": "stream",
     "text": [
      "The attention mask and the pad token id were not set. As a consequence, you may observe unexpected behavior. Please pass your input's `attention_mask` to obtain reliable results.\n",
      "Setting `pad_token_id` to `eos_token_id`:2 for open-end generation.\n"
     ]
    },
    {
     "name": "stdout",
     "output_type": "stream",
     "text": [
      " \"I'm looking for transportation services to/from City/State/Country. Can you recommend any options?\"\n",
      "Online-Translation-Services\n"
     ]
    },
    {
     "name": "stderr",
     "output_type": "stream",
     "text": [
      "The attention mask and the pad token id were not set. As a consequence, you may observe unexpected behavior. Please pass your input's `attention_mask` to obtain reliable results.\n",
      "Setting `pad_token_id` to `eos_token_id`:2 for open-end generation.\n"
     ]
    },
    {
     "name": "stdout",
     "output_type": "stream",
     "text": [
      " \"I need help with translating this document.\"\n",
      "Pet-Sitting-Services\n"
     ]
    },
    {
     "name": "stderr",
     "output_type": "stream",
     "text": [
      "The attention mask and the pad token id were not set. As a consequence, you may observe unexpected behavior. Please pass your input's `attention_mask` to obtain reliable results.\n",
      "Setting `pad_token_id` to `eos_token_id`:2 for open-end generation.\n"
     ]
    },
    {
     "name": "stdout",
     "output_type": "stream",
     "text": [
      " \"I'm looking for a pet sitting service for my cat and dog.\"\n",
      "Mindfulness-Exercises\n"
     ]
    },
    {
     "name": "stderr",
     "output_type": "stream",
     "text": [
      "The attention mask and the pad token id were not set. As a consequence, you may observe unexpected behavior. Please pass your input's `attention_mask` to obtain reliable results.\n",
      "Setting `pad_token_id` to `eos_token_id`:2 for open-end generation.\n"
     ]
    },
    {
     "name": "stdout",
     "output_type": "stream",
     "text": [
      " \"I can guide you through a mindfulness meditation session.\"\n",
      "Luxury-Car-Rentals\n"
     ]
    },
    {
     "name": "stderr",
     "output_type": "stream",
     "text": [
      "The attention mask and the pad token id were not set. As a consequence, you may observe unexpected behavior. Please pass your input's `attention_mask` to obtain reliable results.\n",
      "Setting `pad_token_id` to `eos_token_id`:2 for open-end generation.\n"
     ]
    },
    {
     "name": "stdout",
     "output_type": "stream",
     "text": [
      " \"I'd like to book a luxury car rental for a week in Paris, can you help me?\"\n",
      "Airplane-Charter\n"
     ]
    },
    {
     "name": "stderr",
     "output_type": "stream",
     "text": [
      "The attention mask and the pad token id were not set. As a consequence, you may observe unexpected behavior. Please pass your input's `attention_mask` to obtain reliable results.\n",
      "Setting `pad_token_id` to `eos_token_id`:2 for open-end generation.\n"
     ]
    },
    {
     "name": "stdout",
     "output_type": "stream",
     "text": [
      " \"I'm looking for a private jet for a personal flight.\"\n",
      "Small-Business-Loans\n"
     ]
    },
    {
     "name": "stderr",
     "output_type": "stream",
     "text": [
      "The attention mask and the pad token id were not set. As a consequence, you may observe unexpected behavior. Please pass your input's `attention_mask` to obtain reliable results.\n",
      "Setting `pad_token_id` to `eos_token_id`:2 for open-end generation.\n"
     ]
    },
    {
     "name": "stdout",
     "output_type": "stream",
     "text": [
      " \"I'm interested in learning more about small business loans.\"\n",
      "art-tutoring\n"
     ]
    },
    {
     "name": "stderr",
     "output_type": "stream",
     "text": [
      "The attention mask and the pad token id were not set. As a consequence, you may observe unexpected behavior. Please pass your input's `attention_mask` to obtain reliable results.\n",
      "Setting `pad_token_id` to `eos_token_id`:2 for open-end generation.\n"
     ]
    },
    {
     "name": "stdout",
     "output_type": "stream",
     "text": [
      " \"I can help you with art tutoring classes, hours, practice tests, materials, cost, payment methods, refund policies, and more. Please let me know if you have any questions.\"\n",
      "Dietary-Restrictions\n"
     ]
    },
    {
     "name": "stderr",
     "output_type": "stream",
     "text": [
      "The attention mask and the pad token id were not set. As a consequence, you may observe unexpected behavior. Please pass your input's `attention_mask` to obtain reliable results.\n",
      "Setting `pad_token_id` to `eos_token_id`:2 for open-end generation.\n"
     ]
    },
    {
     "name": "stdout",
     "output_type": "stream",
     "text": [
      " \"I'm looking for healthy and delicious meal ideas that cater to my dietary restrictions. Can you suggest some options?\"\n",
      "Travel-Agent-Services\n"
     ]
    },
    {
     "name": "stderr",
     "output_type": "stream",
     "text": [
      "The attention mask and the pad token id were not set. As a consequence, you may observe unexpected behavior. Please pass your input's `attention_mask` to obtain reliable results.\n",
      "Setting `pad_token_id` to `eos_token_id`:2 for open-end generation.\n"
     ]
    },
    {
     "name": "stdout",
     "output_type": "stream",
     "text": [
      " \"I'm looking for travel recommendations.\"\n",
      "Ski-Resort-Bookings\n"
     ]
    },
    {
     "name": "stderr",
     "output_type": "stream",
     "text": [
      "The attention mask and the pad token id were not set. As a consequence, you may observe unexpected behavior. Please pass your input's `attention_mask` to obtain reliable results.\n",
      "Setting `pad_token_id` to `eos_token_id`:2 for open-end generation.\n"
     ]
    },
    {
     "name": "stdout",
     "output_type": "stream",
     "text": [
      " \"I'd like to book a ski resort for my family.\"\n",
      "Medical-Appointment-Scheduling\n"
     ]
    },
    {
     "name": "stderr",
     "output_type": "stream",
     "text": [
      "The attention mask and the pad token id were not set. As a consequence, you may observe unexpected behavior. Please pass your input's `attention_mask` to obtain reliable results.\n",
      "Setting `pad_token_id` to `eos_token_id`:2 for open-end generation.\n"
     ]
    },
    {
     "name": "stdout",
     "output_type": "stream",
     "text": [
      " \"What is my next medical appointment time?\"\n",
      "Shipping-Inquiry\n"
     ]
    },
    {
     "name": "stderr",
     "output_type": "stream",
     "text": [
      "The attention mask and the pad token id were not set. As a consequence, you may observe unexpected behavior. Please pass your input's `attention_mask` to obtain reliable results.\n",
      "Setting `pad_token_id` to `eos_token_id`:2 for open-end generation.\n"
     ]
    },
    {
     "name": "stdout",
     "output_type": "stream",
     "text": [
      " \"I'm having trouble tracking my package. Can you help me with the estimated delivery time and tracking information?\"\n",
      "Dietary-Supplement-Sales\n"
     ]
    },
    {
     "name": "stderr",
     "output_type": "stream",
     "text": [
      "The attention mask and the pad token id were not set. As a consequence, you may observe unexpected behavior. Please pass your input's `attention_mask` to obtain reliable results.\n",
      "Setting `pad_token_id` to `eos_token_id`:2 for open-end generation.\n"
     ]
    },
    {
     "name": "stdout",
     "output_type": "stream",
     "text": [
      " \"I'm interested in purchasing a dietary supplement, what are your best sellers?\"\n",
      "Import-Export-Services\n"
     ]
    },
    {
     "name": "stderr",
     "output_type": "stream",
     "text": [
      "The attention mask and the pad token id were not set. As a consequence, you may observe unexpected behavior. Please pass your input's `attention_mask` to obtain reliable results.\n",
      "Setting `pad_token_id` to `eos_token_id`:2 for open-end generation.\n"
     ]
    },
    {
     "name": "stdout",
     "output_type": "stream",
     "text": [
      " \"I'm looking for a shipping company to ship my item to Canada.\"\n",
      "Health-and-Wellness\n"
     ]
    },
    {
     "name": "stderr",
     "output_type": "stream",
     "text": [
      "The attention mask and the pad token id were not set. As a consequence, you may observe unexpected behavior. Please pass your input's `attention_mask` to obtain reliable results.\n",
      "Setting `pad_token_id` to `eos_token_id`:2 for open-end generation.\n"
     ]
    },
    {
     "name": "stdout",
     "output_type": "stream",
     "text": [
      " \"What health and wellness services are available in City?\"\n",
      "Pet-Care\n"
     ]
    },
    {
     "name": "stderr",
     "output_type": "stream",
     "text": [
      "The attention mask and the pad token id were not set. As a consequence, you may observe unexpected behavior. Please pass your input's `attention_mask` to obtain reliable results.\n",
      "Setting `pad_token_id` to `eos_token_id`:2 for open-end generation.\n"
     ]
    },
    {
     "name": "stdout",
     "output_type": "stream",
     "text": [
      " \"The average cost of grooming a dog can vary depending on the breed, size, and level of care required. It's best to consult with a professional groomer or veterinarian for a more accurate estimate.\"\n",
      "Nutrition-Counseling\n"
     ]
    },
    {
     "name": "stderr",
     "output_type": "stream",
     "text": [
      "The attention mask and the pad token id were not set. As a consequence, you may observe unexpected behavior. Please pass your input's `attention_mask` to obtain reliable results.\n",
      "Setting `pad_token_id` to `eos_token_id`:2 for open-end generation.\n"
     ]
    },
    {
     "name": "stdout",
     "output_type": "stream",
     "text": [
      " \"I can assist you in developing a meal plan for a patient with diabetes and a low carbohydrate diet.\"\n",
      "Job-Application-Status\n"
     ]
    },
    {
     "name": "stderr",
     "output_type": "stream",
     "text": [
      "The attention mask and the pad token id were not set. As a consequence, you may observe unexpected behavior. Please pass your input's `attention_mask` to obtain reliable results.\n",
      "Setting `pad_token_id` to `eos_token_id`:2 for open-end generation.\n"
     ]
    },
    {
     "name": "stdout",
     "output_type": "stream",
     "text": [
      " \"I'm having trouble with my job application status. Can you help me?\"\n",
      "Natural-Remedies\n"
     ]
    },
    {
     "name": "stderr",
     "output_type": "stream",
     "text": [
      "The attention mask and the pad token id were not set. As a consequence, you may observe unexpected behavior. Please pass your input's `attention_mask` to obtain reliable results.\n",
      "Setting `pad_token_id` to `eos_token_id`:2 for open-end generation.\n"
     ]
    },
    {
     "name": "stdout",
     "output_type": "stream",
     "text": [
      " \"I'm looking for natural remedies for my joint pain. Can you recommend some products or techniques?\"\n",
      "Personal-Financial-Planning\n"
     ]
    },
    {
     "name": "stderr",
     "output_type": "stream",
     "text": [
      "The attention mask and the pad token id were not set. As a consequence, you may observe unexpected behavior. Please pass your input's `attention_mask` to obtain reliable results.\n",
      "Setting `pad_token_id` to `eos_token_id`:2 for open-end generation.\n"
     ]
    },
    {
     "name": "stdout",
     "output_type": "stream",
     "text": [
      " \"I'd like to know about personal financial planning.\"\n",
      "Fishing-Charters\n"
     ]
    },
    {
     "name": "stderr",
     "output_type": "stream",
     "text": [
      "The attention mask and the pad token id were not set. As a consequence, you may observe unexpected behavior. Please pass your input's `attention_mask` to obtain reliable results.\n",
      "Setting `pad_token_id` to `eos_token_id`:2 for open-end generation.\n"
     ]
    },
    {
     "name": "stdout",
     "output_type": "stream",
     "text": [
      " \"What are the different types of fishing charters available?\"\n",
      "All-Inclusive-Vacations\n"
     ]
    },
    {
     "name": "stderr",
     "output_type": "stream",
     "text": [
      "The attention mask and the pad token id were not set. As a consequence, you may observe unexpected behavior. Please pass your input's `attention_mask` to obtain reliable results.\n",
      "Setting `pad_token_id` to `eos_token_id`:2 for open-end generation.\n"
     ]
    },
    {
     "name": "stdout",
     "output_type": "stream",
     "text": [
      " \"Can I use points or miles for my all-inclusive vacation?\"\n",
      "Airport-Taxis\n"
     ]
    },
    {
     "name": "stderr",
     "output_type": "stream",
     "text": [
      "The attention mask and the pad token id were not set. As a consequence, you may observe unexpected behavior. Please pass your input's `attention_mask` to obtain reliable results.\n",
      "Setting `pad_token_id` to `eos_token_id`:2 for open-end generation.\n"
     ]
    },
    {
     "name": "stdout",
     "output_type": "stream",
     "text": [
      " \"Can you provide a taxi service at the airport?\"\n",
      "Mental-Health-Support\n"
     ]
    },
    {
     "name": "stderr",
     "output_type": "stream",
     "text": [
      "The attention mask and the pad token id were not set. As a consequence, you may observe unexpected behavior. Please pass your input's `attention_mask` to obtain reliable results.\n",
      "Setting `pad_token_id` to `eos_token_id`:2 for open-end generation.\n"
     ]
    },
    {
     "name": "stdout",
     "output_type": "stream",
     "text": [
      " \"I'm feeling overwhelmed and need someone to talk to. Can you help me find mental health support?\"\n",
      "Private-Island-Resorts\n"
     ]
    },
    {
     "name": "stderr",
     "output_type": "stream",
     "text": [
      "The attention mask and the pad token id were not set. As a consequence, you may observe unexpected behavior. Please pass your input's `attention_mask` to obtain reliable results.\n",
      "Setting `pad_token_id` to `eos_token_id`:2 for open-end generation.\n"
     ]
    },
    {
     "name": "stdout",
     "output_type": "stream",
     "text": [
      " \"I'm looking for a private island resort with a private beach and luxurious amenities. Can you recommend one?\"\n",
      "Private-Boat-Charters\n"
     ]
    },
    {
     "name": "stderr",
     "output_type": "stream",
     "text": [
      "The attention mask and the pad token id were not set. As a consequence, you may observe unexpected behavior. Please pass your input's `attention_mask` to obtain reliable results.\n",
      "Setting `pad_token_id` to `eos_token_id`:2 for open-end generation.\n"
     ]
    },
    {
     "name": "stdout",
     "output_type": "stream",
     "text": [
      " \"I'd like to book a private boat charter for a group of 10 for a 3-day sailing trip in the Caribbean.\"\n",
      "Camping-Trips\n"
     ]
    },
    {
     "name": "stderr",
     "output_type": "stream",
     "text": [
      "The attention mask and the pad token id were not set. As a consequence, you may observe unexpected behavior. Please pass your input's `attention_mask` to obtain reliable results.\n",
      "Setting `pad_token_id` to `eos_token_id`:2 for open-end generation.\n"
     ]
    },
    {
     "name": "stdout",
     "output_type": "stream",
     "text": [
      " \"I'm looking for a campsite with a water source. Can you help me find one with a campground or lake nearby?\"\n",
      "Mental-Health-First-Aid\n"
     ]
    },
    {
     "name": "stderr",
     "output_type": "stream",
     "text": [
      "The attention mask and the pad token id were not set. As a consequence, you may observe unexpected behavior. Please pass your input's `attention_mask` to obtain reliable results.\n",
      "Setting `pad_token_id` to `eos_token_id`:2 for open-end generation.\n"
     ]
    },
    {
     "name": "stdout",
     "output_type": "stream",
     "text": [
      " \"I'm feeling really down and can't seem to shake this feeling. Can you recommend some natural remedies that might help with anxiety?\"\n",
      "Covid-19-Support\n"
     ]
    },
    {
     "name": "stderr",
     "output_type": "stream",
     "text": [
      "The attention mask and the pad token id were not set. As a consequence, you may observe unexpected behavior. Please pass your input's `attention_mask` to obtain reliable results.\n",
      "Setting `pad_token_id` to `eos_token_id`:2 for open-end generation.\n"
     ]
    },
    {
     "name": "stdout",
     "output_type": "stream",
     "text": [
      " \"I would like to know more about COVID-19 and how it affects the community.\"\n",
      "Travel-Insurance\n"
     ]
    },
    {
     "name": "stderr",
     "output_type": "stream",
     "text": [
      "The attention mask and the pad token id were not set. As a consequence, you may observe unexpected behavior. Please pass your input's `attention_mask` to obtain reliable results.\n",
      "Setting `pad_token_id` to `eos_token_id`:2 for open-end generation.\n"
     ]
    },
    {
     "name": "stdout",
     "output_type": "stream",
     "text": [
      " \"I need travel insurance for a trip to France.\"\n",
      "Adventure-Parks\n"
     ]
    },
    {
     "name": "stderr",
     "output_type": "stream",
     "text": [
      "The attention mask and the pad token id were not set. As a consequence, you may observe unexpected behavior. Please pass your input's `attention_mask` to obtain reliable results.\n",
      "Setting `pad_token_id` to `eos_token_id`:2 for open-end generation.\n"
     ]
    },
    {
     "name": "stdout",
     "output_type": "stream",
     "text": [
      " \"Can you recommend an adventure park near my hotel?\"\n",
      "Healthy-Eating-Recipes\n"
     ]
    },
    {
     "name": "stderr",
     "output_type": "stream",
     "text": [
      "The attention mask and the pad token id were not set. As a consequence, you may observe unexpected behavior. Please pass your input's `attention_mask` to obtain reliable results.\n",
      "Setting `pad_token_id` to `eos_token_id`:2 for open-end generation.\n"
     ]
    },
    {
     "name": "stdout",
     "output_type": "stream",
     "text": [
      " \"Can you recommend some healthy meal ideas for vegetarians?\"\n",
      "Emotional-Intelligence-Development\n"
     ]
    },
    {
     "name": "stderr",
     "output_type": "stream",
     "text": [
      "The attention mask and the pad token id were not set. As a consequence, you may observe unexpected behavior. Please pass your input's `attention_mask` to obtain reliable results.\n",
      "Setting `pad_token_id` to `eos_token_id`:2 for open-end generation.\n"
     ]
    },
    {
     "name": "stdout",
     "output_type": "stream",
     "text": [
      " \"I'm looking for advice on how to improve my emotional intelligence. Can you help me?\"\n",
      "Skydiving-Excursions\n"
     ]
    },
    {
     "name": "stderr",
     "output_type": "stream",
     "text": [
      "The attention mask and the pad token id were not set. As a consequence, you may observe unexpected behavior. Please pass your input's `attention_mask` to obtain reliable results.\n",
      "Setting `pad_token_id` to `eos_token_id`:2 for open-end generation.\n"
     ]
    },
    {
     "name": "stdout",
     "output_type": "stream",
     "text": [
      " \"I'd like to book a skydiving excursion for my upcoming vacation. Can you help me plan it?\"\n",
      "Aromatherapy\n"
     ]
    },
    {
     "name": "stderr",
     "output_type": "stream",
     "text": [
      "The attention mask and the pad token id were not set. As a consequence, you may observe unexpected behavior. Please pass your input's `attention_mask` to obtain reliable results.\n",
      "Setting `pad_token_id` to `eos_token_id`:2 for open-end generation.\n"
     ]
    },
    {
     "name": "stdout",
     "output_type": "stream",
     "text": [
      " \"Can you please prepare a soothing aromatherapy session for me?\"\n",
      "Nature-Photography-Trips\n"
     ]
    },
    {
     "name": "stderr",
     "output_type": "stream",
     "text": [
      "The attention mask and the pad token id were not set. As a consequence, you may observe unexpected behavior. Please pass your input's `attention_mask` to obtain reliable results.\n",
      "Setting `pad_token_id` to `eos_token_id`:2 for open-end generation.\n"
     ]
    },
    {
     "name": "stdout",
     "output_type": "stream",
     "text": [
      " \"Can you suggest some photography trips in nature?\"\n",
      "Golf-Course-Reservations\n"
     ]
    },
    {
     "name": "stderr",
     "output_type": "stream",
     "text": [
      "The attention mask and the pad token id were not set. As a consequence, you may observe unexpected behavior. Please pass your input's `attention_mask` to obtain reliable results.\n",
      "Setting `pad_token_id` to `eos_token_id`:2 for open-end generation.\n"
     ]
    },
    {
     "name": "stdout",
     "output_type": "stream",
     "text": [
      " \"I would like to make a reservation for a group of people for a specific date and time. Can you help me with that?\"\n",
      "Crisis-Communication\n"
     ]
    },
    {
     "name": "stderr",
     "output_type": "stream",
     "text": [
      "The attention mask and the pad token id were not set. As a consequence, you may observe unexpected behavior. Please pass your input's `attention_mask` to obtain reliable results.\n",
      "Setting `pad_token_id` to `eos_token_id`:2 for open-end generation.\n"
     ]
    },
    {
     "name": "stdout",
     "output_type": "stream",
     "text": [
      " \"I can help you with a crisis communication plan. Please provide me with more details about the crisis and what you need help with.\"\n",
      "Community-Building\n"
     ]
    },
    {
     "name": "stderr",
     "output_type": "stream",
     "text": [
      "The attention mask and the pad token id were not set. As a consequence, you may observe unexpected behavior. Please pass your input's `attention_mask` to obtain reliable results.\n",
      "Setting `pad_token_id` to `eos_token_id`:2 for open-end generation.\n"
     ]
    },
    {
     "name": "stdout",
     "output_type": "stream",
     "text": [
      " \"I'm looking for ways to build a sense of community in our office. Can you help me find resources or strategies for doing so?\".\n",
      "Hotel-Room-Cleaning\n"
     ]
    },
    {
     "name": "stderr",
     "output_type": "stream",
     "text": [
      "The attention mask and the pad token id were not set. As a consequence, you may observe unexpected behavior. Please pass your input's `attention_mask` to obtain reliable results.\n",
      "Setting `pad_token_id` to `eos_token_id`:2 for open-end generation.\n"
     ]
    },
    {
     "name": "stdout",
     "output_type": "stream",
     "text": [
      "Sure, I can help you with that! Here's a generic utterance for the data point you provided:\n",
      "\n",
      "\"Inquiring about the cleaning schedule and fees for my hotel room.\"\n",
      "Yacht-Charter\n"
     ]
    },
    {
     "name": "stderr",
     "output_type": "stream",
     "text": [
      "The attention mask and the pad token id were not set. As a consequence, you may observe unexpected behavior. Please pass your input's `attention_mask` to obtain reliable results.\n",
      "Setting `pad_token_id` to `eos_token_id`:2 for open-end generation.\n"
     ]
    },
    {
     "name": "stdout",
     "output_type": "stream",
     "text": [
      " \"I'm interested in chartering a yacht for a weekend getaway. Can you help me with that?\"\n",
      "Stress-Management\n"
     ]
    },
    {
     "name": "stderr",
     "output_type": "stream",
     "text": [
      "The attention mask and the pad token id were not set. As a consequence, you may observe unexpected behavior. Please pass your input's `attention_mask` to obtain reliable results.\n",
      "Setting `pad_token_id` to `eos_token_id`:2 for open-end generation.\n"
     ]
    },
    {
     "name": "stdout",
     "output_type": "stream",
     "text": [
      " \"I am feeling very stressed and overwhelmed. Can you help me find a stress management technique that works for me?\"\n",
      "Restaurant-Reservation\n"
     ]
    },
    {
     "name": "stderr",
     "output_type": "stream",
     "text": [
      "The attention mask and the pad token id were not set. As a consequence, you may observe unexpected behavior. Please pass your input's `attention_mask` to obtain reliable results.\n",
      "Setting `pad_token_id` to `eos_token_id`:2 for open-end generation.\n"
     ]
    },
    {
     "name": "stdout",
     "output_type": "stream",
     "text": [
      " \"I would like to make a reservation for dinner at a restaurant tonight.\"\n",
      "Self-Care-Routines\n"
     ]
    },
    {
     "name": "stderr",
     "output_type": "stream",
     "text": [
      "The attention mask and the pad token id were not set. As a consequence, you may observe unexpected behavior. Please pass your input's `attention_mask` to obtain reliable results.\n",
      "Setting `pad_token_id` to `eos_token_id`:2 for open-end generation.\n"
     ]
    },
    {
     "name": "stdout",
     "output_type": "stream",
     "text": [
      " \"What are some self-care routines that I can follow?\"\n",
      "Personal-Finance-Planning\n"
     ]
    },
    {
     "name": "stderr",
     "output_type": "stream",
     "text": [
      "The attention mask and the pad token id were not set. As a consequence, you may observe unexpected behavior. Please pass your input's `attention_mask` to obtain reliable results.\n",
      "Setting `pad_token_id` to `eos_token_id`:2 for open-end generation.\n"
     ]
    },
    {
     "name": "stdout",
     "output_type": "stream",
     "text": [
      " \"I can help you with personal finance planning by providing you with information on how much you need to save for retirement, the best ways to invest your money, and strategies for managing credit card debt.\"\n",
      "Personalized-Travel-Plans\n"
     ]
    },
    {
     "name": "stderr",
     "output_type": "stream",
     "text": [
      "The attention mask and the pad token id were not set. As a consequence, you may observe unexpected behavior. Please pass your input's `attention_mask` to obtain reliable results.\n",
      "Setting `pad_token_id` to `eos_token_id`:2 for open-end generation.\n"
     ]
    },
    {
     "name": "stdout",
     "output_type": "stream",
     "text": [
      " \"I'm interested in traveling to destination next month. Can you help me plan a trip?\"\n",
      "Career-Coaching\n"
     ]
    },
    {
     "name": "stderr",
     "output_type": "stream",
     "text": [
      "The attention mask and the pad token id were not set. As a consequence, you may observe unexpected behavior. Please pass your input's `attention_mask` to obtain reliable results.\n",
      "Setting `pad_token_id` to `eos_token_id`:2 for open-end generation.\n"
     ]
    },
    {
     "name": "stdout",
     "output_type": "stream",
     "text": [
      " \"I'm looking for career coaching to help me with my job search.\"\n",
      "Outdoor-Recreation\n"
     ]
    },
    {
     "name": "stderr",
     "output_type": "stream",
     "text": [
      "The attention mask and the pad token id were not set. As a consequence, you may observe unexpected behavior. Please pass your input's `attention_mask` to obtain reliable results.\n",
      "Setting `pad_token_id` to `eos_token_id`:2 for open-end generation.\n"
     ]
    },
    {
     "name": "stdout",
     "output_type": "stream",
     "text": [
      " \"I'd like to know about outdoor activities in the park.\"\n",
      "Educational-Course-Enrollment\n"
     ]
    },
    {
     "name": "stderr",
     "output_type": "stream",
     "text": [
      "The attention mask and the pad token id were not set. As a consequence, you may observe unexpected behavior. Please pass your input's `attention_mask` to obtain reliable results.\n",
      "Setting `pad_token_id` to `eos_token_id`:2 for open-end generation.\n"
     ]
    },
    {
     "name": "stdout",
     "output_type": "stream",
     "text": [
      " \"I would like to enroll in the course 'Introduction to Psychology'.\"\n",
      "Ziplining-Adventures\n"
     ]
    },
    {
     "name": "stderr",
     "output_type": "stream",
     "text": [
      "The attention mask and the pad token id were not set. As a consequence, you may observe unexpected behavior. Please pass your input's `attention_mask` to obtain reliable results.\n",
      "Setting `pad_token_id` to `eos_token_id`:2 for open-end generation.\n"
     ]
    },
    {
     "name": "stdout",
     "output_type": "stream",
     "text": [
      " \"I can help you plan a ziplining adventure. What is your preferred location and date?\"\n",
      "Child-Care-Services\n"
     ]
    },
    {
     "name": "stderr",
     "output_type": "stream",
     "text": [
      "The attention mask and the pad token id were not set. As a consequence, you may observe unexpected behavior. Please pass your input's `attention_mask` to obtain reliable results.\n",
      "Setting `pad_token_id` to `eos_token_id`:2 for open-end generation.\n"
     ]
    },
    {
     "name": "stdout",
     "output_type": "stream",
     "text": [
      " \"I need a babysitter for my kiddo tonight.\"\n",
      "Private-Jet-Reservations\n"
     ]
    },
    {
     "name": "stderr",
     "output_type": "stream",
     "text": [
      "The attention mask and the pad token id were not set. As a consequence, you may observe unexpected behavior. Please pass your input's `attention_mask` to obtain reliable results.\n",
      "Setting `pad_token_id` to `eos_token_id`:2 for open-end generation.\n"
     ]
    },
    {
     "name": "stdout",
     "output_type": "stream",
     "text": [
      " \"I'm looking for a private jet reservation for a special occasion.\"\n",
      "Weather-Forecast\n"
     ]
    },
    {
     "name": "stderr",
     "output_type": "stream",
     "text": [
      "The attention mask and the pad token id were not set. As a consequence, you may observe unexpected behavior. Please pass your input's `attention_mask` to obtain reliable results.\n",
      "Setting `pad_token_id` to `eos_token_id`:2 for open-end generation.\n"
     ]
    },
    {
     "name": "stdout",
     "output_type": "stream",
     "text": [
      " \"What is the weather forecast for the next week?\"\n",
      "Gardening\n"
     ]
    },
    {
     "name": "stderr",
     "output_type": "stream",
     "text": [
      "The attention mask and the pad token id were not set. As a consequence, you may observe unexpected behavior. Please pass your input's `attention_mask` to obtain reliable results.\n",
      "Setting `pad_token_id` to `eos_token_id`:2 for open-end generation.\n"
     ]
    },
    {
     "name": "stdout",
     "output_type": "stream",
     "text": [
      " \"I'm looking for gardening advice.\"\n",
      "Mental-Health-Assessments\n"
     ]
    },
    {
     "name": "stderr",
     "output_type": "stream",
     "text": [
      "The attention mask and the pad token id were not set. As a consequence, you may observe unexpected behavior. Please pass your input's `attention_mask` to obtain reliable results.\n",
      "Setting `pad_token_id` to `eos_token_id`:2 for open-end generation.\n"
     ]
    },
    {
     "name": "stdout",
     "output_type": "stream",
     "text": [
      " \"I'm feeling anxious and overwhelmed, can you help me with mental health assessment?\"\n",
      "Home-Repair-Services\n"
     ]
    },
    {
     "name": "stderr",
     "output_type": "stream",
     "text": [
      "The attention mask and the pad token id were not set. As a consequence, you may observe unexpected behavior. Please pass your input's `attention_mask` to obtain reliable results.\n",
      "Setting `pad_token_id` to `eos_token_id`:2 for open-end generation.\n"
     ]
    },
    {
     "name": "stdout",
     "output_type": "stream",
     "text": [
      " \"What kind of home repair services do you offer?\"\n",
      "Car-Rental-Reservation\n"
     ]
    },
    {
     "name": "stderr",
     "output_type": "stream",
     "text": [
      "The attention mask and the pad token id were not set. As a consequence, you may observe unexpected behavior. Please pass your input's `attention_mask` to obtain reliable results.\n",
      "Setting `pad_token_id` to `eos_token_id`:2 for open-end generation.\n"
     ]
    },
    {
     "name": "stdout",
     "output_type": "stream",
     "text": [
      " \"I would like to know the current status of my reservation.\"\n",
      "Organic-Gardening\n"
     ]
    },
    {
     "name": "stderr",
     "output_type": "stream",
     "text": [
      "The attention mask and the pad token id were not set. As a consequence, you may observe unexpected behavior. Please pass your input's `attention_mask` to obtain reliable results.\n",
      "Setting `pad_token_id` to `eos_token_id`:2 for open-end generation.\n"
     ]
    },
    {
     "name": "stdout",
     "output_type": "stream",
     "text": [
      " \"I'm interested in starting an organic garden. Can you provide me with some advice?\"\n",
      "Disaster-Relief\n"
     ]
    },
    {
     "name": "stderr",
     "output_type": "stream",
     "text": [
      "The attention mask and the pad token id were not set. As a consequence, you may observe unexpected behavior. Please pass your input's `attention_mask` to obtain reliable results.\n",
      "Setting `pad_token_id` to `eos_token_id`:2 for open-end generation.\n"
     ]
    },
    {
     "name": "stdout",
     "output_type": "stream",
     "text": [
      " \"I am interested in donating money or time for disaster relief efforts.\"\n",
      "Mountain-Biking-Rentals\n"
     ]
    },
    {
     "name": "stderr",
     "output_type": "stream",
     "text": [
      "The attention mask and the pad token id were not set. As a consequence, you may observe unexpected behavior. Please pass your input's `attention_mask` to obtain reliable results.\n",
      "Setting `pad_token_id` to `eos_token_id`:2 for open-end generation.\n"
     ]
    },
    {
     "name": "stdout",
     "output_type": "stream",
     "text": [
      " \"I'm looking for mountain bikes for a day trip in the mountains. Can you help me find durable and heavy-terrain bikes?\"\n",
      "Dental-Care-Plans\n"
     ]
    },
    {
     "name": "stderr",
     "output_type": "stream",
     "text": [
      "The attention mask and the pad token id were not set. As a consequence, you may observe unexpected behavior. Please pass your input's `attention_mask` to obtain reliable results.\n",
      "Setting `pad_token_id` to `eos_token_id`:2 for open-end generation.\n"
     ]
    },
    {
     "name": "stdout",
     "output_type": "stream",
     "text": [
      " \"I can help you find a dentist who offers a dental care plan.\"\n",
      "Cultural-Tours\n"
     ]
    },
    {
     "name": "stderr",
     "output_type": "stream",
     "text": [
      "The attention mask and the pad token id were not set. As a consequence, you may observe unexpected behavior. Please pass your input's `attention_mask` to obtain reliable results.\n",
      "Setting `pad_token_id` to `eos_token_id`:2 for open-end generation.\n"
     ]
    },
    {
     "name": "stdout",
     "output_type": "stream",
     "text": [
      " \"I'm interested in learning more about cultural tours and would like to know more about the options available.\"\n",
      "Helicopter-Rides\n"
     ]
    },
    {
     "name": "stderr",
     "output_type": "stream",
     "text": [
      "The attention mask and the pad token id were not set. As a consequence, you may observe unexpected behavior. Please pass your input's `attention_mask` to obtain reliable results.\n",
      "Setting `pad_token_id` to `eos_token_id`:2 for open-end generation.\n"
     ]
    },
    {
     "name": "stdout",
     "output_type": "stream",
     "text": [
      " \"What's the current status of my reservation?\"\n",
      "Technical-Support\n"
     ]
    },
    {
     "name": "stderr",
     "output_type": "stream",
     "text": [
      "The attention mask and the pad token id were not set. As a consequence, you may observe unexpected behavior. Please pass your input's `attention_mask` to obtain reliable results.\n",
      "Setting `pad_token_id` to `eos_token_id`:2 for open-end generation.\n"
     ]
    },
    {
     "name": "stdout",
     "output_type": "stream",
     "text": [
      " \"I need help with my computer setup.\"\n",
      "Household-Organization\n"
     ]
    },
    {
     "name": "stderr",
     "output_type": "stream",
     "text": [
      "The attention mask and the pad token id were not set. As a consequence, you may observe unexpected behavior. Please pass your input's `attention_mask` to obtain reliable results.\n",
      "Setting `pad_token_id` to `eos_token_id`:2 for open-end generation.\n"
     ]
    },
    {
     "name": "stdout",
     "output_type": "stream",
     "text": [
      " \"I can help you with household organization.\"\n",
      "Preparedness-Guides\n"
     ]
    },
    {
     "name": "stderr",
     "output_type": "stream",
     "text": [
      "The attention mask and the pad token id were not set. As a consequence, you may observe unexpected behavior. Please pass your input's `attention_mask` to obtain reliable results.\n",
      "Setting `pad_token_id` to `eos_token_id`:2 for open-end generation.\n"
     ]
    },
    {
     "name": "stdout",
     "output_type": "stream",
     "text": [
      " \"I'm looking for preparedness guides for my community. Can you provide me with some information on how to create and use these guides?\"\n",
      "Event-Planning-Services\n"
     ]
    },
    {
     "name": "stderr",
     "output_type": "stream",
     "text": [
      "The attention mask and the pad token id were not set. As a consequence, you may observe unexpected behavior. Please pass your input's `attention_mask` to obtain reliable results.\n",
      "Setting `pad_token_id` to `eos_token_id`:2 for open-end generation.\n"
     ]
    },
    {
     "name": "stdout",
     "output_type": "stream",
     "text": [
      " \"I need help planning a wedding or a funeral.\"\n",
      "Motorcycle-Rental\n"
     ]
    },
    {
     "name": "stderr",
     "output_type": "stream",
     "text": [
      "The attention mask and the pad token id were not set. As a consequence, you may observe unexpected behavior. Please pass your input's `attention_mask` to obtain reliable results.\n",
      "Setting `pad_token_id` to `eos_token_id`:2 for open-end generation.\n"
     ]
    },
    {
     "name": "stdout",
     "output_type": "stream",
     "text": [
      " \"Can you help me find a motorcycle rental company in the area?\"\n",
      "Sightseeing-Tours\n"
     ]
    },
    {
     "name": "stderr",
     "output_type": "stream",
     "text": [
      "The attention mask and the pad token id were not set. As a consequence, you may observe unexpected behavior. Please pass your input's `attention_mask` to obtain reliable results.\n",
      "Setting `pad_token_id` to `eos_token_id`:2 for open-end generation.\n"
     ]
    },
    {
     "name": "stdout",
     "output_type": "stream",
     "text": [
      " \"What are the tours available in the city?\"\n",
      "Teacher-Employment\n"
     ]
    },
    {
     "name": "stderr",
     "output_type": "stream",
     "text": [
      "The attention mask and the pad token id were not set. As a consequence, you may observe unexpected behavior. Please pass your input's `attention_mask` to obtain reliable results.\n",
      "Setting `pad_token_id` to `eos_token_id`:2 for open-end generation.\n"
     ]
    },
    {
     "name": "stdout",
     "output_type": "stream",
     "text": [
      " \"Can you tell me about job openings in your school for teachers?\"\n",
      "Meal-Planning\n"
     ]
    },
    {
     "name": "stderr",
     "output_type": "stream",
     "text": [
      "The attention mask and the pad token id were not set. As a consequence, you may observe unexpected behavior. Please pass your input's `attention_mask` to obtain reliable results.\n",
      "Setting `pad_token_id` to `eos_token_id`:2 for open-end generation.\n"
     ]
    },
    {
     "name": "stdout",
     "output_type": "stream",
     "text": [
      " \"I need help planning a meal for the weekend.\"\n",
      "Furniture-Assembly\n"
     ]
    },
    {
     "name": "stderr",
     "output_type": "stream",
     "text": [
      "The attention mask and the pad token id were not set. As a consequence, you may observe unexpected behavior. Please pass your input's `attention_mask` to obtain reliable results.\n",
      "Setting `pad_token_id` to `eos_token_id`:2 for open-end generation.\n"
     ]
    },
    {
     "name": "stdout",
     "output_type": "stream",
     "text": [
      " \"I'm having trouble assembling my furniture. Can you help me?\"\n",
      "Private-Beach-Club-Rentals\n"
     ]
    },
    {
     "name": "stderr",
     "output_type": "stream",
     "text": [
      "The attention mask and the pad token id were not set. As a consequence, you may observe unexpected behavior. Please pass your input's `attention_mask` to obtain reliable results.\n",
      "Setting `pad_token_id` to `eos_token_id`:2 for open-end generation.\n"
     ]
    },
    {
     "name": "stdout",
     "output_type": "stream",
     "text": [
      " \"I'm looking for a private beach club to rent for my next vacation. Do you have any recommendations?\"\n",
      "Personal-Fitness-Training\n",
      " \"I can provide you with a personal fitness training session, types of personal fitness training available, and a personal fitness training schedule.\"\n"
     ]
    }
   ],
   "source": [
    "utterances = []\n",
    "counter = 0\n",
    "\n",
    "for intent in intents:\n",
    "\n",
    "    print(intent['name'])\n",
    "    \n",
    "    one_shot_prompt = f\"\"\"\n",
    "\n",
    "    For below example data point \n",
    "\n",
    "    {example}\n",
    "\n",
    "    corresponding utterance is  = \"Inquiring about my reservation status.\".\n",
    "    \n",
    "    Provide only 1 generic utterance for the below data point.\n",
    "    \n",
    "    {intent}\n",
    "    \n",
    "    Do not use any placeholder for entities. Always assign proper nouns.\n",
    "    \n",
    "    Utterance should contain maximum 8 words not more than that.\n",
    "    \n",
    "    Always Provide answer in a single line in this format only [\"utterance\" = \"your_answer\"]\n",
    "                                             \n",
    "    \"\"\"\n",
    "    full_prompt = main_prompter(input_prompt = one_shot_prompt)\n",
    "    response = generate_response(full_prompt, temp = 0.08)\n",
    "        \n",
    "    response = response.replace('</s>','').split(\"=\")[-1].replace(\"]\",\"\")\n",
    "    response = response.replace(\"[\",\"\")\n",
    "\n",
    "    utterances.append((intent['name'],response))\n",
    "    print(response)"
   ]
  },
  {
   "cell_type": "code",
   "execution_count": 24,
   "id": "7f8239ec",
   "metadata": {},
   "outputs": [
    {
     "data": {
      "text/plain": [
       "94"
      ]
     },
     "execution_count": 24,
     "metadata": {},
     "output_type": "execute_result"
    }
   ],
   "source": [
    "len(utterances)"
   ]
  },
  {
   "cell_type": "code",
   "execution_count": 26,
   "id": "d1d61936",
   "metadata": {},
   "outputs": [
    {
     "name": "stdout",
     "output_type": "stream",
     "text": [
      "[('book-a-ticket', ' \"I\\'d like to book a flight from Hyderabad to Chennai.\"'), ('check-reservation', ' \"Please provide me with the current reservation status for my flight.\"'), ('Private-Pilot-Lessons', ' \"I\\'m interested in taking private pilot lessons. Can you recommend a flight school?\"'), ('Tourism-Packages', ' \"I\\'m looking for a package tour to Paris for a week in the summer.\"'), ('Online-Tutoring', ' \"I need help with my algebra homework.\"'), ('Food-and-Wine-Tours', ' \"I can recommend some options for you.\"'), ('Product-Warranty-Information', ' \"I\\'m looking for information about the warranty on my product. Can you help me?\"'), ('Budget-Travel-Packages', ' \"I\\'m looking for budget travel packages.\"'), ('Wine-Tastings', ' \"I\\'m interested in attending a wine tasting in Napa Valley.\"'), ('Food-Bank-Donation', ' \"I would like to donate food to a local food bank.\"'), ('Home-Cleaning', ' \"I need help with cleaning my entire house.\"'), ('Hotel-Room-Availability', ' \"Inquiring about hotel room availability in City.\"'), ('Gratitude-Journals', ' \"Can you help me keep track of my daily gratitudes?\"'), ('Medical-Billing-and-Coding', ' \"I can help you with medical billing and coding.\"'), ('Bank-Account-Balance', ' \"Please provide me with the current status of my reservation.\"'), ('Sustainable-Living', ' \"What are some sustainable living tips?\"'), ('Health-and-Safety-Tips', ' \"I want some tips on staying safe while traveling.\"'), ('Housing-Loan-Counseling', ' \"I can help you with your housing loan counseling questions. What would you like to know?\"'), ('Trip-Organization', ' \"I need help planning a trip to Paris for a week in the summer.\"'), ('Transportation-Services', ' \"I\\'m looking for transportation services to/from City/State/Country. Can you recommend any options?\"'), ('Online-Translation-Services', ' \"I need help with translating this document.\"'), ('Pet-Sitting-Services', ' \"I\\'m looking for a pet sitting service for my cat and dog.\"'), ('Mindfulness-Exercises', ' \"I can guide you through a mindfulness meditation session.\"'), ('Luxury-Car-Rentals', ' \"I\\'d like to book a luxury car rental for a week in Paris, can you help me?\"'), ('Airplane-Charter', ' \"I\\'m looking for a private jet for a personal flight.\"'), ('Small-Business-Loans', ' \"I\\'m interested in learning more about small business loans.\"'), ('art-tutoring', ' \"I can help you with art tutoring classes, hours, practice tests, materials, cost, payment methods, refund policies, and more. Please let me know if you have any questions.\"'), ('Dietary-Restrictions', ' \"I\\'m looking for healthy and delicious meal ideas that cater to my dietary restrictions. Can you suggest some options?\"'), ('Travel-Agent-Services', ' \"I\\'m looking for travel recommendations.\"'), ('Ski-Resort-Bookings', ' \"I\\'d like to book a ski resort for my family.\"'), ('Medical-Appointment-Scheduling', ' \"What is my next medical appointment time?\"'), ('Shipping-Inquiry', ' \"I\\'m having trouble tracking my package. Can you help me with the estimated delivery time and tracking information?\"'), ('Dietary-Supplement-Sales', ' \"I\\'m interested in purchasing a dietary supplement, what are your best sellers?\"'), ('Import-Export-Services', ' \"I\\'m looking for a shipping company to ship my item to Canada.\"'), ('Health-and-Wellness', ' \"What health and wellness services are available in City?\"'), ('Pet-Care', ' \"The average cost of grooming a dog can vary depending on the breed, size, and level of care required. It\\'s best to consult with a professional groomer or veterinarian for a more accurate estimate.\"'), ('Nutrition-Counseling', ' \"I can assist you in developing a meal plan for a patient with diabetes and a low carbohydrate diet.\"'), ('Job-Application-Status', ' \"I\\'m having trouble with my job application status. Can you help me?\"'), ('Natural-Remedies', ' \"I\\'m looking for natural remedies for my joint pain. Can you recommend some products or techniques?\"'), ('Personal-Financial-Planning', ' \"I\\'d like to know about personal financial planning.\"'), ('Fishing-Charters', ' \"What are the different types of fishing charters available?\"'), ('All-Inclusive-Vacations', ' \"Can I use points or miles for my all-inclusive vacation?\"'), ('Airport-Taxis', ' \"Can you provide a taxi service at the airport?\"'), ('Mental-Health-Support', ' \"I\\'m feeling overwhelmed and need someone to talk to. Can you help me find mental health support?\"'), ('Private-Island-Resorts', ' \"I\\'m looking for a private island resort with a private beach and luxurious amenities. Can you recommend one?\"'), ('Private-Boat-Charters', ' \"I\\'d like to book a private boat charter for a group of 10 for a 3-day sailing trip in the Caribbean.\"'), ('Camping-Trips', ' \"I\\'m looking for a campsite with a water source. Can you help me find one with a campground or lake nearby?\"'), ('Mental-Health-First-Aid', ' \"I\\'m feeling really down and can\\'t seem to shake this feeling. Can you recommend some natural remedies that might help with anxiety?\"'), ('Covid-19-Support', ' \"I would like to know more about COVID-19 and how it affects the community.\"'), ('Travel-Insurance', ' \"I need travel insurance for a trip to France.\"'), ('Adventure-Parks', ' \"Can you recommend an adventure park near my hotel?\"'), ('Healthy-Eating-Recipes', ' \"Can you recommend some healthy meal ideas for vegetarians?\"'), ('Emotional-Intelligence-Development', ' \"I\\'m looking for advice on how to improve my emotional intelligence. Can you help me?\"'), ('Skydiving-Excursions', ' \"I\\'d like to book a skydiving excursion for my upcoming vacation. Can you help me plan it?\"'), ('Aromatherapy', ' \"Can you please prepare a soothing aromatherapy session for me?\"'), ('Nature-Photography-Trips', ' \"Can you suggest some photography trips in nature?\"'), ('Golf-Course-Reservations', ' \"I would like to make a reservation for a group of people for a specific date and time. Can you help me with that?\"'), ('Crisis-Communication', ' \"I can help you with a crisis communication plan. Please provide me with more details about the crisis and what you need help with.\"'), ('Community-Building', ' \"I\\'m looking for ways to build a sense of community in our office. Can you help me find resources or strategies for doing so?\".'), ('Hotel-Room-Cleaning', 'Sure, I can help you with that! Here\\'s a generic utterance for the data point you provided:\\n\\n\"Inquiring about the cleaning schedule and fees for my hotel room.\"'), ('Yacht-Charter', ' \"I\\'m interested in chartering a yacht for a weekend getaway. Can you help me with that?\"'), ('Stress-Management', ' \"I am feeling very stressed and overwhelmed. Can you help me find a stress management technique that works for me?\"'), ('Restaurant-Reservation', ' \"I would like to make a reservation for dinner at a restaurant tonight.\"'), ('Self-Care-Routines', ' \"What are some self-care routines that I can follow?\"'), ('Personal-Finance-Planning', ' \"I can help you with personal finance planning by providing you with information on how much you need to save for retirement, the best ways to invest your money, and strategies for managing credit card debt.\"'), ('Personalized-Travel-Plans', ' \"I\\'m interested in traveling to destination next month. Can you help me plan a trip?\"'), ('Career-Coaching', ' \"I\\'m looking for career coaching to help me with my job search.\"'), ('Outdoor-Recreation', ' \"I\\'d like to know about outdoor activities in the park.\"'), ('Educational-Course-Enrollment', ' \"I would like to enroll in the course \\'Introduction to Psychology\\'.\"'), ('Ziplining-Adventures', ' \"I can help you plan a ziplining adventure. What is your preferred location and date?\"'), ('Child-Care-Services', ' \"I need a babysitter for my kiddo tonight.\"'), ('Private-Jet-Reservations', ' \"I\\'m looking for a private jet reservation for a special occasion.\"'), ('Weather-Forecast', ' \"What is the weather forecast for the next week?\"'), ('Gardening', ' \"I\\'m looking for gardening advice.\"'), ('Mental-Health-Assessments', ' \"I\\'m feeling anxious and overwhelmed, can you help me with mental health assessment?\"'), ('Home-Repair-Services', ' \"What kind of home repair services do you offer?\"'), ('Car-Rental-Reservation', ' \"I would like to know the current status of my reservation.\"'), ('Organic-Gardening', ' \"I\\'m interested in starting an organic garden. Can you provide me with some advice?\"'), ('Disaster-Relief', ' \"I am interested in donating money or time for disaster relief efforts.\"'), ('Mountain-Biking-Rentals', ' \"I\\'m looking for mountain bikes for a day trip in the mountains. Can you help me find durable and heavy-terrain bikes?\"'), ('Dental-Care-Plans', ' \"I can help you find a dentist who offers a dental care plan.\"'), ('Cultural-Tours', ' \"I\\'m interested in learning more about cultural tours and would like to know more about the options available.\"'), ('Helicopter-Rides', ' \"What\\'s the current status of my reservation?\"'), ('Technical-Support', ' \"I need help with my computer setup.\"'), ('Household-Organization', ' \"I can help you with household organization.\"'), ('Preparedness-Guides', ' \"I\\'m looking for preparedness guides for my community. Can you provide me with some information on how to create and use these guides?\"'), ('Event-Planning-Services', ' \"I need help planning a wedding or a funeral.\"'), ('Motorcycle-Rental', ' \"Can you help me find a motorcycle rental company in the area?\"'), ('Sightseeing-Tours', ' \"What are the tours available in the city?\"'), ('Teacher-Employment', ' \"Can you tell me about job openings in your school for teachers?\"'), ('Meal-Planning', ' \"I need help planning a meal for the weekend.\"'), ('Furniture-Assembly', ' \"I\\'m having trouble assembling my furniture. Can you help me?\"'), ('Private-Beach-Club-Rentals', ' \"I\\'m looking for a private beach club to rent for my next vacation. Do you have any recommendations?\"'), ('Personal-Fitness-Training', ' \"I can provide you with a personal fitness training session, types of personal fitness training available, and a personal fitness training schedule.\"')]\n"
     ]
    }
   ],
   "source": [
    "print(utterances)"
   ]
  },
  {
   "cell_type": "code",
   "execution_count": 25,
   "id": "f2e046f0",
   "metadata": {},
   "outputs": [
    {
     "name": "stdout",
     "output_type": "stream",
     "text": [
      "0  \"I'd like to book a flight from Hyderabad to Chennai.\"\n",
      "--------\n",
      "1  \"Please provide me with the current reservation status for my flight.\"\n",
      "--------\n",
      "2  \"I'm interested in taking private pilot lessons. Can you recommend a flight school?\"\n",
      "--------\n",
      "3  \"I'm looking for a package tour to Paris for a week in the summer.\"\n",
      "--------\n",
      "4  \"I need help with my algebra homework.\"\n",
      "--------\n",
      "5  \"I can recommend some options for you.\"\n",
      "--------\n",
      "6  \"I'm looking for information about the warranty on my product. Can you help me?\"\n",
      "--------\n",
      "7  \"I'm looking for budget travel packages.\"\n",
      "--------\n",
      "8  \"I'm interested in attending a wine tasting in Napa Valley.\"\n",
      "--------\n",
      "9  \"I would like to donate food to a local food bank.\"\n",
      "--------\n",
      "10  \"I need help with cleaning my entire house.\"\n",
      "--------\n",
      "11  \"Inquiring about hotel room availability in City.\"\n",
      "--------\n",
      "12  \"Can you help me keep track of my daily gratitudes?\"\n",
      "--------\n",
      "13  \"I can help you with medical billing and coding.\"\n",
      "--------\n",
      "14  \"Please provide me with the current status of my reservation.\"\n",
      "--------\n",
      "15  \"What are some sustainable living tips?\"\n",
      "--------\n",
      "16  \"I want some tips on staying safe while traveling.\"\n",
      "--------\n",
      "17  \"I can help you with your housing loan counseling questions. What would you like to know?\"\n",
      "--------\n",
      "18  \"I need help planning a trip to Paris for a week in the summer.\"\n",
      "--------\n",
      "19  \"I'm looking for transportation services to/from City/State/Country. Can you recommend any options?\"\n",
      "--------\n",
      "20  \"I need help with translating this document.\"\n",
      "--------\n",
      "21  \"I'm looking for a pet sitting service for my cat and dog.\"\n",
      "--------\n",
      "22  \"I can guide you through a mindfulness meditation session.\"\n",
      "--------\n",
      "23  \"I'd like to book a luxury car rental for a week in Paris, can you help me?\"\n",
      "--------\n",
      "24  \"I'm looking for a private jet for a personal flight.\"\n",
      "--------\n",
      "25  \"I'm interested in learning more about small business loans.\"\n",
      "--------\n",
      "26  \"I can help you with art tutoring classes, hours, practice tests, materials, cost, payment methods, refund policies, and more. Please let me know if you have any questions.\"\n",
      "--------\n",
      "27  \"I'm looking for healthy and delicious meal ideas that cater to my dietary restrictions. Can you suggest some options?\"\n",
      "--------\n",
      "28  \"I'm looking for travel recommendations.\"\n",
      "--------\n",
      "29  \"I'd like to book a ski resort for my family.\"\n",
      "--------\n",
      "30  \"What is my next medical appointment time?\"\n",
      "--------\n",
      "31  \"I'm having trouble tracking my package. Can you help me with the estimated delivery time and tracking information?\"\n",
      "--------\n",
      "32  \"I'm interested in purchasing a dietary supplement, what are your best sellers?\"\n",
      "--------\n",
      "33  \"I'm looking for a shipping company to ship my item to Canada.\"\n",
      "--------\n",
      "34  \"What health and wellness services are available in City?\"\n",
      "--------\n",
      "35  \"The average cost of grooming a dog can vary depending on the breed, size, and level of care required. It's best to consult with a professional groomer or veterinarian for a more accurate estimate.\"\n",
      "--------\n",
      "36  \"I can assist you in developing a meal plan for a patient with diabetes and a low carbohydrate diet.\"\n",
      "--------\n",
      "37  \"I'm having trouble with my job application status. Can you help me?\"\n",
      "--------\n",
      "38  \"I'm looking for natural remedies for my joint pain. Can you recommend some products or techniques?\"\n",
      "--------\n",
      "39  \"I'd like to know about personal financial planning.\"\n",
      "--------\n",
      "40  \"What are the different types of fishing charters available?\"\n",
      "--------\n",
      "41  \"Can I use points or miles for my all-inclusive vacation?\"\n",
      "--------\n",
      "42  \"Can you provide a taxi service at the airport?\"\n",
      "--------\n",
      "43  \"I'm feeling overwhelmed and need someone to talk to. Can you help me find mental health support?\"\n",
      "--------\n",
      "44  \"I'm looking for a private island resort with a private beach and luxurious amenities. Can you recommend one?\"\n",
      "--------\n",
      "45  \"I'd like to book a private boat charter for a group of 10 for a 3-day sailing trip in the Caribbean.\"\n",
      "--------\n",
      "46  \"I'm looking for a campsite with a water source. Can you help me find one with a campground or lake nearby?\"\n",
      "--------\n",
      "47  \"I'm feeling really down and can't seem to shake this feeling. Can you recommend some natural remedies that might help with anxiety?\"\n",
      "--------\n",
      "48  \"I would like to know more about COVID-19 and how it affects the community.\"\n",
      "--------\n",
      "49  \"I need travel insurance for a trip to France.\"\n",
      "--------\n",
      "50  \"Can you recommend an adventure park near my hotel?\"\n",
      "--------\n",
      "51  \"Can you recommend some healthy meal ideas for vegetarians?\"\n",
      "--------\n",
      "52  \"I'm looking for advice on how to improve my emotional intelligence. Can you help me?\"\n",
      "--------\n",
      "53  \"I'd like to book a skydiving excursion for my upcoming vacation. Can you help me plan it?\"\n",
      "--------\n",
      "54  \"Can you please prepare a soothing aromatherapy session for me?\"\n",
      "--------\n",
      "55  \"Can you suggest some photography trips in nature?\"\n",
      "--------\n",
      "56  \"I would like to make a reservation for a group of people for a specific date and time. Can you help me with that?\"\n",
      "--------\n",
      "57  \"I can help you with a crisis communication plan. Please provide me with more details about the crisis and what you need help with.\"\n",
      "--------\n",
      "58  \"I'm looking for ways to build a sense of community in our office. Can you help me find resources or strategies for doing so?\".\n",
      "--------\n",
      "59 Sure, I can help you with that! Here's a generic utterance for the data point you provided:\n",
      "\n",
      "\"Inquiring about the cleaning schedule and fees for my hotel room.\"\n",
      "--------\n",
      "60  \"I'm interested in chartering a yacht for a weekend getaway. Can you help me with that?\"\n",
      "--------\n",
      "61  \"I am feeling very stressed and overwhelmed. Can you help me find a stress management technique that works for me?\"\n",
      "--------\n",
      "62  \"I would like to make a reservation for dinner at a restaurant tonight.\"\n",
      "--------\n",
      "63  \"What are some self-care routines that I can follow?\"\n",
      "--------\n",
      "64  \"I can help you with personal finance planning by providing you with information on how much you need to save for retirement, the best ways to invest your money, and strategies for managing credit card debt.\"\n",
      "--------\n",
      "65  \"I'm interested in traveling to destination next month. Can you help me plan a trip?\"\n",
      "--------\n",
      "66  \"I'm looking for career coaching to help me with my job search.\"\n",
      "--------\n",
      "67  \"I'd like to know about outdoor activities in the park.\"\n",
      "--------\n",
      "68  \"I would like to enroll in the course 'Introduction to Psychology'.\"\n",
      "--------\n",
      "69  \"I can help you plan a ziplining adventure. What is your preferred location and date?\"\n",
      "--------\n",
      "70  \"I need a babysitter for my kiddo tonight.\"\n",
      "--------\n",
      "71  \"I'm looking for a private jet reservation for a special occasion.\"\n",
      "--------\n",
      "72  \"What is the weather forecast for the next week?\"\n",
      "--------\n",
      "73  \"I'm looking for gardening advice.\"\n",
      "--------\n",
      "74  \"I'm feeling anxious and overwhelmed, can you help me with mental health assessment?\"\n",
      "--------\n",
      "75  \"What kind of home repair services do you offer?\"\n",
      "--------\n",
      "76  \"I would like to know the current status of my reservation.\"\n",
      "--------\n",
      "77  \"I'm interested in starting an organic garden. Can you provide me with some advice?\"\n",
      "--------\n",
      "78  \"I am interested in donating money or time for disaster relief efforts.\"\n",
      "--------\n",
      "79  \"I'm looking for mountain bikes for a day trip in the mountains. Can you help me find durable and heavy-terrain bikes?\"\n",
      "--------\n",
      "80  \"I can help you find a dentist who offers a dental care plan.\"\n",
      "--------\n",
      "81  \"I'm interested in learning more about cultural tours and would like to know more about the options available.\"\n",
      "--------\n",
      "82  \"What's the current status of my reservation?\"\n",
      "--------\n",
      "83  \"I need help with my computer setup.\"\n",
      "--------\n",
      "84  \"I can help you with household organization.\"\n",
      "--------\n",
      "85  \"I'm looking for preparedness guides for my community. Can you provide me with some information on how to create and use these guides?\"\n",
      "--------\n",
      "86  \"I need help planning a wedding or a funeral.\"\n",
      "--------\n",
      "87  \"Can you help me find a motorcycle rental company in the area?\"\n",
      "--------\n",
      "88  \"What are the tours available in the city?\"\n",
      "--------\n",
      "89  \"Can you tell me about job openings in your school for teachers?\"\n",
      "--------\n",
      "90  \"I need help planning a meal for the weekend.\"\n",
      "--------\n",
      "91  \"I'm having trouble assembling my furniture. Can you help me?\"\n",
      "--------\n",
      "92  \"I'm looking for a private beach club to rent for my next vacation. Do you have any recommendations?\"\n",
      "--------\n",
      "93  \"I can provide you with a personal fitness training session, types of personal fitness training available, and a personal fitness training schedule.\"\n",
      "--------\n"
     ]
    }
   ],
   "source": [
    "for i,item in enumerate(utterances):\n",
    "    print(i,item[-1])\n",
    "    print(\"--------\")"
   ]
  },
  {
   "cell_type": "code",
   "execution_count": 383,
   "id": "39d136f0",
   "metadata": {},
   "outputs": [],
   "source": [
    "utterances[31] = ('Shipping-Inquiry','Inquiring about my package delivery status.')"
   ]
  },
  {
   "cell_type": "code",
   "execution_count": 388,
   "id": "42857cd4",
   "metadata": {},
   "outputs": [],
   "source": [
    "utterances[59] = ('Hotel-Room-Cleaning',\"Inquiring about the cleaning status of my hotel room.\")"
   ]
  },
  {
   "cell_type": "code",
   "execution_count": null,
   "id": "b718f455",
   "metadata": {},
   "outputs": [],
   "source": [
    "dict_list = [{'name': tup[0], 'utterance': tup[1]} for tup in utterances]\n",
    "dict_list"
   ]
  },
  {
   "cell_type": "code",
   "execution_count": 399,
   "id": "3855fd65",
   "metadata": {},
   "outputs": [],
   "source": [
    "with open(\"utterances.json\", \"w\") as file:\n",
    "    json.dump(dict_list, file)\n"
   ]
  },
  {
   "cell_type": "code",
   "execution_count": 5,
   "id": "f1a5f377",
   "metadata": {},
   "outputs": [],
   "source": [
    "# Making \"name\" field in intent.json and utterances consistent\n",
    "with open('intents.json', 'r') as f:\n",
    "    intents_data = json.load(f)\n",
    "\n",
    "with open('utterances.json', 'r') as f:\n",
    "    eval_data = json.load(f)\n",
    "\n",
    "for intent,eval in zip(intents_data,eval_data):\n",
    "    eval['name'] = intent['name']\n",
    "\n",
    "with open(\"utterances.json\", \"w\") as file:\n",
    "    json.dump(eval_data, file)"
   ]
  },
  {
   "cell_type": "code",
   "execution_count": null,
   "id": "66d7d59e",
   "metadata": {},
   "outputs": [],
   "source": []
  },
  {
   "cell_type": "code",
   "execution_count": null,
   "id": "88e860c6",
   "metadata": {},
   "outputs": [],
   "source": []
  }
 ],
 "metadata": {
  "kernelspec": {
   "display_name": "Python 3",
   "language": "python",
   "name": "python3"
  },
  "language_info": {
   "codemirror_mode": {
    "name": "ipython",
    "version": 3
   },
   "file_extension": ".py",
   "mimetype": "text/x-python",
   "name": "python",
   "nbconvert_exporter": "python",
   "pygments_lexer": "ipython3",
   "version": "3.8.10"
  }
 },
 "nbformat": 4,
 "nbformat_minor": 5
}

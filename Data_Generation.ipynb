{
 "cells": [
  {
   "cell_type": "markdown",
   "id": "0b2e4a04-a090-4b57-a04e-dc573a891a0c",
   "metadata": {
    "jp-MarkdownHeadingCollapsed": true
   },
   "source": [
    "# Intent Curation"
   ]
  },
  {
   "cell_type": "code",
   "execution_count": 283,
   "id": "cb4c1467-5b0e-4d04-a098-144e39faa4c2",
   "metadata": {},
   "outputs": [],
   "source": [
    "import warnings\n",
    "warnings.filterwarnings(\"ignore\")"
   ]
  },
  {
   "cell_type": "code",
   "execution_count": 284,
   "id": "f21c2bc6-68c8-4215-ab05-89a683dd2a18",
   "metadata": {
    "scrolled": true
   },
   "outputs": [
    {
     "name": "stdout",
     "output_type": "stream",
     "text": [
      "Defaulting to user installation because normal site-packages is not writeable\n",
      "Collecting git+https://github.com/huggingface/transformers.git@main\n",
      "  Cloning https://github.com/huggingface/transformers.git (to revision main) to /tmp/pip-req-build-lhclfyqy\n",
      "  Running command git clone --filter=blob:none --quiet https://github.com/huggingface/transformers.git /tmp/pip-req-build-lhclfyqy\n",
      "  Resolved https://github.com/huggingface/transformers.git to commit 093848d3ccf3884caf048718b6bae833da0edb94\n",
      "  Installing build dependencies ... \u001b[?25ldone\n",
      "\u001b[?25h  Getting requirements to build wheel ... \u001b[?25ldone\n",
      "\u001b[?25h  Preparing metadata (pyproject.toml) ... \u001b[?25ldone\n",
      "\u001b[?25hRequirement already satisfied: accelerate in /home/ubuntu/.local/lib/python3.8/site-packages (0.21.0)\n",
      "Requirement already satisfied: filelock in /usr/lib/python3/dist-packages (from transformers==4.35.0.dev0) (3.0.12)\n",
      "Requirement already satisfied: huggingface-hub<1.0,>=0.16.4 in /home/ubuntu/.local/lib/python3.8/site-packages (from transformers==4.35.0.dev0) (0.16.4)\n",
      "Requirement already satisfied: numpy>=1.17 in /home/ubuntu/.local/lib/python3.8/site-packages (from transformers==4.35.0.dev0) (1.23.5)\n",
      "Requirement already satisfied: packaging>=20.0 in /home/ubuntu/.local/lib/python3.8/site-packages (from transformers==4.35.0.dev0) (23.1)\n",
      "Requirement already satisfied: pyyaml>=5.1 in /usr/lib/python3/dist-packages (from transformers==4.35.0.dev0) (5.3.1)\n",
      "Requirement already satisfied: regex!=2019.12.17 in /home/ubuntu/.local/lib/python3.8/site-packages (from transformers==4.35.0.dev0) (2023.8.8)\n",
      "Requirement already satisfied: requests in /home/ubuntu/.local/lib/python3.8/site-packages (from transformers==4.35.0.dev0) (2.31.0)\n",
      "Requirement already satisfied: tokenizers<0.15,>=0.14 in /home/ubuntu/.local/lib/python3.8/site-packages (from transformers==4.35.0.dev0) (0.14.0)\n",
      "Requirement already satisfied: safetensors>=0.3.1 in /home/ubuntu/.local/lib/python3.8/site-packages (from transformers==4.35.0.dev0) (0.3.3)\n",
      "Requirement already satisfied: tqdm>=4.27 in /home/ubuntu/.local/lib/python3.8/site-packages (from transformers==4.35.0.dev0) (4.65.0)\n",
      "Requirement already satisfied: psutil in /usr/lib/python3/dist-packages (from accelerate) (5.5.1)\n",
      "Requirement already satisfied: torch>=1.10.0 in /usr/lib/python3/dist-packages (from accelerate) (2.0.1)\n",
      "Requirement already satisfied: fsspec in /home/ubuntu/.local/lib/python3.8/site-packages (from huggingface-hub<1.0,>=0.16.4->transformers==4.35.0.dev0) (2023.6.0)\n",
      "Requirement already satisfied: typing-extensions>=3.7.4.3 in /home/ubuntu/.local/lib/python3.8/site-packages (from huggingface-hub<1.0,>=0.16.4->transformers==4.35.0.dev0) (4.8.0)\n",
      "Requirement already satisfied: charset-normalizer<4,>=2 in /home/ubuntu/.local/lib/python3.8/site-packages (from requests->transformers==4.35.0.dev0) (3.1.0)\n",
      "Requirement already satisfied: idna<4,>=2.5 in /usr/lib/python3/dist-packages (from requests->transformers==4.35.0.dev0) (2.8)\n",
      "Requirement already satisfied: urllib3<3,>=1.21.1 in /usr/lib/python3/dist-packages (from requests->transformers==4.35.0.dev0) (1.25.8)\n",
      "Requirement already satisfied: certifi>=2017.4.17 in /usr/lib/python3/dist-packages (from requests->transformers==4.35.0.dev0) (2019.11.28)\n",
      "\u001b[33mDEPRECATION: tensorflow-gpu 2.11.0 has a non-standard dependency specifier platform_system!=\"Darwin\". pip 23.3 will enforce this behaviour change. A possible replacement is to upgrade to a newer version of tensorflow-gpu or contact the author to suggest that they release a version with a conforming dependency specifiers. Discussion can be found at https://github.com/pypa/pip/issues/12063\u001b[0m\u001b[33m\n",
      "\u001b[0m\n",
      "\u001b[1m[\u001b[0m\u001b[34;49mnotice\u001b[0m\u001b[1;39;49m]\u001b[0m\u001b[39;49m A new release of pip is available: \u001b[0m\u001b[31;49m23.2.1\u001b[0m\u001b[39;49m -> \u001b[0m\u001b[32;49m23.3\u001b[0m\n",
      "\u001b[1m[\u001b[0m\u001b[34;49mnotice\u001b[0m\u001b[1;39;49m]\u001b[0m\u001b[39;49m To update, run: \u001b[0m\u001b[32;49mpython3 -m pip install --upgrade pip\u001b[0m\n"
     ]
    }
   ],
   "source": [
    "!pip install git+https://github.com/huggingface/transformers.git@main accelerate"
   ]
  },
  {
   "cell_type": "code",
   "execution_count": 285,
   "id": "ee1c185d-59e8-491a-9c2f-8b3601d85ea3",
   "metadata": {},
   "outputs": [],
   "source": [
    "from transformers import AutoTokenizer, AutoModelForCausalLM\n",
    "import transformers\n",
    "import torch\n",
    "import random"
   ]
  },
  {
   "cell_type": "code",
   "execution_count": 286,
   "id": "df35e268-6328-45b2-9c74-c9c248283d4c",
   "metadata": {},
   "outputs": [],
   "source": [
    "### Select the language model\n",
    "model_name = \"codellama/CodeLlama-13b-Instruct-hf\""
   ]
  },
  {
   "cell_type": "code",
   "execution_count": 287,
   "id": "991a8edb-6c85-4b3d-b524-20673e45972a",
   "metadata": {},
   "outputs": [
    {
     "data": {
      "application/vnd.jupyter.widget-view+json": {
       "model_id": "1891d53564d64809a2234032d3cf43a8",
       "version_major": 2,
       "version_minor": 0
      },
      "text/plain": [
       "Loading checkpoint shards:   0%|          | 0/3 [00:00<?, ?it/s]"
      ]
     },
     "metadata": {},
     "output_type": "display_data"
    }
   ],
   "source": [
    "device = \"cuda\"\n",
    "tokenizer = AutoTokenizer.from_pretrained(model_name)\n",
    "model = AutoModelForCausalLM.from_pretrained(model_name,\n",
    "                                device_map='auto',\n",
    "                                torch_dtype=torch.float16,\n",
    "                                )"
   ]
  },
  {
   "cell_type": "code",
   "execution_count": 288,
   "id": "d531911b-4ee2-41c0-8b02-c432473d0447",
   "metadata": {},
   "outputs": [
    {
     "name": "stdout",
     "output_type": "stream",
     "text": [
      "16384\n"
     ]
    }
   ],
   "source": [
    "print(model.config.max_position_embeddings)"
   ]
  },
  {
   "cell_type": "code",
   "execution_count": 290,
   "id": "de8af680-16db-42be-8c0b-b0117c83f6df",
   "metadata": {},
   "outputs": [
    {
     "name": "stdout",
     "output_type": "stream",
     "text": [
      "LlamaConfig {\n",
      "  \"_name_or_path\": \"codellama/CodeLlama-13b-Instruct-hf\",\n",
      "  \"architectures\": [\n",
      "    \"LlamaForCausalLM\"\n",
      "  ],\n",
      "  \"attention_bias\": false,\n",
      "  \"bos_token_id\": 1,\n",
      "  \"eos_token_id\": 2,\n",
      "  \"hidden_act\": \"silu\",\n",
      "  \"hidden_size\": 5120,\n",
      "  \"initializer_range\": 0.02,\n",
      "  \"intermediate_size\": 13824,\n",
      "  \"max_position_embeddings\": 16384,\n",
      "  \"model_type\": \"llama\",\n",
      "  \"num_attention_heads\": 40,\n",
      "  \"num_hidden_layers\": 40,\n",
      "  \"num_key_value_heads\": 40,\n",
      "  \"pretraining_tp\": 1,\n",
      "  \"rms_norm_eps\": 1e-05,\n",
      "  \"rope_scaling\": null,\n",
      "  \"rope_theta\": 1000000,\n",
      "  \"tie_word_embeddings\": false,\n",
      "  \"torch_dtype\": \"float16\",\n",
      "  \"transformers_version\": \"4.35.0.dev0\",\n",
      "  \"use_cache\": true,\n",
      "  \"vocab_size\": 32016\n",
      "}\n",
      "\n"
     ]
    }
   ],
   "source": [
    "print(model.config)"
   ]
  },
  {
   "cell_type": "code",
   "execution_count": 342,
   "id": "77b74817-2616-4287-87a5-232eb8292be7",
   "metadata": {},
   "outputs": [],
   "source": [
    "def generate_response(full_prompt, temp):\n",
    "   \n",
    "    torch.cuda.empty_cache()\n",
    "\n",
    "    tokens = tokenizer.encode(full_prompt, add_special_tokens=False)\n",
    "\n",
    "    prompt_tokens = []\n",
    "\n",
    "    dialog_tokens = [tokenizer(\n",
    "        full_prompt,\n",
    "        return_tensors=\"pt\",\n",
    "        add_special_tokens=True\n",
    "    ).input_ids.to(\"cuda\")]\n",
    "        \n",
    "    prompt_tokens.append(torch.cat(dialog_tokens, dim=-1))\n",
    "\n",
    "    input_ids = prompt_tokens[0]\n",
    "\n",
    "    generation_output = model.generate(\n",
    "        input_ids=input_ids,\n",
    "        do_sample=True,\n",
    "        max_new_tokens= 1000,\n",
    "        temperature=temp,\n",
    "        eos_token_id=tokenizer.eos_token_id,\n",
    "        top_p=0.9\n",
    "    );\n",
    "\n",
    "    new_tokens = generation_output[0][input_ids.shape[-1]:]\n",
    "    new_assistant_response =  tokenizer.decode(new_tokens).strip();\n",
    "\n",
    "    return new_assistant_response"
   ]
  },
  {
   "cell_type": "code",
   "execution_count": 343,
   "id": "6575b11b-a097-4546-b60d-abe15679b897",
   "metadata": {},
   "outputs": [],
   "source": [
    "def main_prompter(input_prompt):\n",
    "\n",
    "    B_INST, E_INST = \"[INST]\", \"[/INST]\"\n",
    "    B_SYS, E_SYS = \"<<SYS>>\\n\", \"\\n<</SYS>>\\n\\n\"\n",
    "\n",
    "    DEFAULT_SYSTEM_PROMPT = 'You are a helpful assistant. Provide help in data points creation. Provide output in same format as provided in the input example'\n",
    "    SYSTEM_PROMPT = DEFAULT_SYSTEM_PROMPT\n",
    "\n",
    "    dialogs = [{\"role\": \"system\", \"content\": SYSTEM_PROMPT}]\n",
    "\n",
    "    dialogs.append({\"role\": \"user\", \"content\": input_prompt})\n",
    "    \n",
    "    if dialogs[0][\"role\"] != \"system\":\n",
    "        dialogs = [\n",
    "            {\n",
    "                \"role\": \"system\",\n",
    "                \"content\": SYSTEM_PROMPT,\n",
    "            }\n",
    "        ] + dialogs\n",
    "\n",
    "    full_prompt = f\"{B_INST} {B_SYS}{(dialogs[0]['content']).strip()}{E_SYS}{(dialogs[1]['content']).strip()} {E_INST}\"\n",
    "    \n",
    "    return full_prompt"
   ]
  },
  {
   "cell_type": "code",
   "execution_count": 121,
   "id": "7987800f-d114-49b2-a61a-cda3c8717310",
   "metadata": {},
   "outputs": [],
   "source": [
    "intents = ['flight-cancellation', 'check-reservation', 'book-a-ticket','Shipping-Inquiry','Insurance Info','Medical Appointment Scheduling', 'Restaurant Reservation', 'Job Application Status', 'Product Warranty Information', 'Bank Account Balance', 'Hotel Room Availability', 'Weather Forecast', 'Car Rental Reservation', 'Educational Course Enrollment', 'Technical Support']"
   ]
  },
  {
   "cell_type": "code",
   "execution_count": 122,
   "id": "5c212eb4-1077-4d24-bfad-8ff933a8c247",
   "metadata": {},
   "outputs": [
    {
     "name": "stdout",
     "output_type": "stream",
     "text": [
      "15\n"
     ]
    }
   ],
   "source": [
    "print(len(intents))"
   ]
  },
  {
   "cell_type": "code",
   "execution_count": 134,
   "id": "6abdc9c3-3dbd-482b-b490-b8b2a94945a2",
   "metadata": {},
   "outputs": [
    {
     "name": "stderr",
     "output_type": "stream",
     "text": [
      "The attention mask and the pad token id were not set. As a consequence, you may observe unexpected behavior. Please pass your input's `attention_mask` to obtain reliable results.\n",
      "Setting `pad_token_id` to `eos_token_id`:2 for open-end generation.\n"
     ]
    },
    {
     "name": "stdout",
     "output_type": "stream",
     "text": [
      "Generate 35 new, different and diverse intents. Examples of various intents are given in the below list\n",
      " ['flight-cancellation', 'check-reservation', 'book-a-ticket', 'Shipping-Inquiry', 'Insurance Info', 'Medical Appointment Scheduling', 'Restaurant Reservation', 'Job Application Status', 'Product Warranty Information', 'Bank Account Balance', 'Hotel Room Availability', 'Weather Forecast', 'Car Rental Reservation', 'Educational Course Enrollment', 'Technical Support']\n",
      " All intents must be unique.\n",
      " Each intent should consists of minimum 2 and maximum 3 words only.\n",
      "Dont generate same topics which are mentioned in the examples.\n",
      "Provide list of new intents in pyhton list format \n",
      "Entered main_prompter ...\n",
      "Entered the generator function\n"
     ]
    },
    {
     "data": {
      "text/plain": [
       "\"Sure, here are 35 new, different and diverse intents:\\n\\n['Travel Agent Services', 'Tourism Packages', 'Motorcycle Rental', 'Golf Course Reservations', 'Ski Resort Bookings', 'Luxury Car Rentals', 'Yacht Charter', 'Private Pilot Lessons', 'Airplane Charter', 'Budget Travel Packages', 'All-Inclusive Vacations', 'Mountain Biking Rentals', 'Skydiving Excursions', 'Helicopter Rides', 'Cruise Ship Reservations', 'Food and Wine Tours', 'Vineyard Tours', 'Private Beach Club Rentals', 'Fishing Charters', 'Private Island Resorts', 'Wine Tastings', 'Cultural Tours', 'Adventure Parks', 'Camping Trips', 'Nature Photography Trips', 'Ziplining Adventures', 'Motorcycle Excursions', 'Private Boat Charters', 'Private Jet Reservations', 'Airport Taxis', 'Sightseeing Tours', 'Personalized Travel Plans']</s>\""
      ]
     },
     "execution_count": 134,
     "metadata": {},
     "output_type": "execute_result"
    }
   ],
   "source": [
    "instruction = \"Generate 35 new, different and diverse intents. Examples of various intents are given in the below list\\n \" + str(intents) + \"\\n All intents must be unique.\\n Each intent should consists of minimum 2 and maximum 3 words only.\\nDont generate same topics which are mentioned in the examples.\\nProvide list of new intents in pyhton list format \"\n",
    "print(instruction)\n",
    "full_prompt = main_prompter(input_prompt = instruction)\n",
    "response = generate_response(full_prompt, temp = 1.2)\n",
    "response"
   ]
  },
  {
   "cell_type": "code",
   "execution_count": 139,
   "id": "c1a21237-7f5b-4ca8-81bb-cf33c09b0b2a",
   "metadata": {},
   "outputs": [
    {
     "data": {
      "text/plain": [
       "['Travel-Agent-Services',\n",
       " 'Tourism-Packages',\n",
       " 'Motorcycle-Rental',\n",
       " 'Golf-Course-Reservations',\n",
       " 'Ski-Resort-Bookings',\n",
       " 'Luxury-Car-Rentals',\n",
       " 'Yacht-Charter',\n",
       " 'Private-Pilot-Lessons',\n",
       " 'Airplane-Charter',\n",
       " 'Budget-Travel-Packages',\n",
       " 'All-Inclusive-Vacations',\n",
       " 'Mountain-Biking-Rentals',\n",
       " 'Skydiving-Excursions',\n",
       " 'Helicopter-Rides',\n",
       " 'Cruise-Ship-Reservations',\n",
       " 'Food-and-Wine-Tours',\n",
       " 'Vineyard-Tours',\n",
       " 'Private-Beach-Club-Rentals',\n",
       " 'Fishing-Charters',\n",
       " 'Private-Island-Resorts',\n",
       " 'Wine-Tastings',\n",
       " 'Cultural-Tours',\n",
       " 'Adventure-Parks',\n",
       " 'Camping-Trips',\n",
       " 'Nature-Photography-Trips',\n",
       " 'Ziplining-Adventures',\n",
       " 'Motorcycle-Excursions',\n",
       " 'Private-Boat-Charters',\n",
       " 'Private-Jet-Reservations',\n",
       " 'Airport-Taxis',\n",
       " 'Sightseeing-Tours',\n",
       " 'Personalized-Travel-Plans']"
      ]
     },
     "execution_count": 139,
     "metadata": {},
     "output_type": "execute_result"
    }
   ],
   "source": [
    "new_intents = response.replace(']</s>',\"\").split('[')[-1].split(',')\n",
    "new_intents = [intent.strip().replace(' ','-').replace('\\n]','')[1:-1] for intent in new_intents]\n",
    "new_intents"
   ]
  },
  {
   "cell_type": "code",
   "execution_count": 140,
   "id": "6d2792da-2b4d-4ca6-b126-80e391e04d43",
   "metadata": {},
   "outputs": [
    {
     "data": {
      "text/plain": [
       "32"
      ]
     },
     "execution_count": 140,
     "metadata": {},
     "output_type": "execute_result"
    }
   ],
   "source": [
    "len(new_intents)"
   ]
  },
  {
   "cell_type": "code",
   "execution_count": 141,
   "id": "7ce205fc-f8d5-47f8-a589-df60fae8d0d7",
   "metadata": {},
   "outputs": [
    {
     "data": {
      "text/plain": [
       "47"
      ]
     },
     "execution_count": 141,
     "metadata": {},
     "output_type": "execute_result"
    }
   ],
   "source": [
    "intents.extend(new_intents)\n",
    "len(intents)"
   ]
  },
  {
   "cell_type": "code",
   "execution_count": 142,
   "id": "15123158-20ee-40c8-ac68-b892b3b81567",
   "metadata": {},
   "outputs": [
    {
     "data": {
      "text/plain": [
       "['flight-cancellation',\n",
       " 'check-reservation',\n",
       " 'book-a-ticket',\n",
       " 'Shipping-Inquiry',\n",
       " 'Insurance Info',\n",
       " 'Medical Appointment Scheduling',\n",
       " 'Restaurant Reservation',\n",
       " 'Job Application Status',\n",
       " 'Product Warranty Information',\n",
       " 'Bank Account Balance',\n",
       " 'Hotel Room Availability',\n",
       " 'Weather Forecast',\n",
       " 'Car Rental Reservation',\n",
       " 'Educational Course Enrollment',\n",
       " 'Technical Support',\n",
       " 'Travel-Agent-Services',\n",
       " 'Tourism-Packages',\n",
       " 'Motorcycle-Rental',\n",
       " 'Golf-Course-Reservations',\n",
       " 'Ski-Resort-Bookings',\n",
       " 'Luxury-Car-Rentals',\n",
       " 'Yacht-Charter',\n",
       " 'Private-Pilot-Lessons',\n",
       " 'Airplane-Charter',\n",
       " 'Budget-Travel-Packages',\n",
       " 'All-Inclusive-Vacations',\n",
       " 'Mountain-Biking-Rentals',\n",
       " 'Skydiving-Excursions',\n",
       " 'Helicopter-Rides',\n",
       " 'Cruise-Ship-Reservations',\n",
       " 'Food-and-Wine-Tours',\n",
       " 'Vineyard-Tours',\n",
       " 'Private-Beach-Club-Rentals',\n",
       " 'Fishing-Charters',\n",
       " 'Private-Island-Resorts',\n",
       " 'Wine-Tastings',\n",
       " 'Cultural-Tours',\n",
       " 'Adventure-Parks',\n",
       " 'Camping-Trips',\n",
       " 'Nature-Photography-Trips',\n",
       " 'Ziplining-Adventures',\n",
       " 'Motorcycle-Excursions',\n",
       " 'Private-Boat-Charters',\n",
       " 'Private-Jet-Reservations',\n",
       " 'Airport-Taxis',\n",
       " 'Sightseeing-Tours',\n",
       " 'Personalized-Travel-Plans']"
      ]
     },
     "execution_count": 142,
     "metadata": {},
     "output_type": "execute_result"
    }
   ],
   "source": [
    "intents"
   ]
  },
  {
   "cell_type": "code",
   "execution_count": 146,
   "id": "932c43bf-d695-473a-b420-cec5bd4be723",
   "metadata": {},
   "outputs": [
    {
     "name": "stderr",
     "output_type": "stream",
     "text": [
      "The attention mask and the pad token id were not set. As a consequence, you may observe unexpected behavior. Please pass your input's `attention_mask` to obtain reliable results.\n",
      "Setting `pad_token_id` to `eos_token_id`:2 for open-end generation.\n"
     ]
    },
    {
     "name": "stdout",
     "output_type": "stream",
     "text": [
      "Generate 25 new, different and diverse intents. Examples of various intents are given in the below list\n",
      " ['Vineyard-Tours', 'Product Warranty Information', 'Airplane-Charter', 'Budget-Travel-Packages', 'Bank Account Balance', 'book-a-ticket', 'Medical Appointment Scheduling', 'Mountain-Biking-Rentals', 'Yacht-Charter', 'Ski-Resort-Bookings']\n",
      " All intents must be unique.\n",
      " Each intent should consists of minimum 2 and maximum 3 words only.\n",
      "Dont generate same topics which are mentioned in the examples.\n",
      "Provide list of new intents in pyhton list format \n",
      "Entered main_prompter ...\n",
      "Entered the generator function\n"
     ]
    },
    {
     "data": {
      "text/plain": [
       "\"Here are 25 new intents that are different and diverse from the ones provided as examples:\\n\\n['Trip-Organization', 'Pet-Sitting-Services', 'Hotel-Room-Cleaning', 'Online-Tutoring', 'Teacher-Employment', 'Dental-Care-Plans', 'Household-Organization', 'Event-Planning-Services', 'Housing-Loan-Counseling', 'Food-Bank-Donation', 'Small-Business-Loans', 'Personal-Fitness-Training', 'Mental-Health-Support', 'Art-Tutoring', 'Transportation-Services', 'Home-Repair-Services', 'Medical-Billing-and-Coding', 'Child-Care-Services', 'Online-Translation-Services', 'Career-Coaching', 'Dietary-Supplement-Sales', 'Import-Export-Services', 'Personal-Financial-Planning', 'Travel-Insurance']</s>\""
      ]
     },
     "execution_count": 146,
     "metadata": {},
     "output_type": "execute_result"
    }
   ],
   "source": [
    "instruction = \"Generate 25 new, different and diverse intents. Examples of various intents are given in the below list\\n \" + str(random.sample(intents, 10)) + \"\\n All intents must be unique.\\n Each intent should consists of minimum 2 and maximum 3 words only.\\nDont generate same topics which are mentioned in the examples.\\nProvide list of new intents in pyhton list format \"\n",
    "print(instruction)\n",
    "full_prompt = main_prompter(input_prompt = instruction)\n",
    "response = generate_response(full_prompt, temp = 1.2)\n",
    "response"
   ]
  },
  {
   "cell_type": "code",
   "execution_count": 147,
   "id": "63d95be4-abd7-4766-bb8c-8052d594f1f1",
   "metadata": {},
   "outputs": [
    {
     "data": {
      "text/plain": [
       "['Trip-Organization',\n",
       " 'Pet-Sitting-Services',\n",
       " 'Hotel-Room-Cleaning',\n",
       " 'Online-Tutoring',\n",
       " 'Teacher-Employment',\n",
       " 'Dental-Care-Plans',\n",
       " 'Household-Organization',\n",
       " 'Event-Planning-Services',\n",
       " 'Housing-Loan-Counseling',\n",
       " 'Food-Bank-Donation',\n",
       " 'Small-Business-Loans',\n",
       " 'Personal-Fitness-Training',\n",
       " 'Mental-Health-Support',\n",
       " 'Art-Tutoring',\n",
       " 'Transportation-Services',\n",
       " 'Home-Repair-Services',\n",
       " 'Medical-Billing-and-Coding',\n",
       " 'Child-Care-Services',\n",
       " 'Online-Translation-Services',\n",
       " 'Career-Coaching',\n",
       " 'Dietary-Supplement-Sales',\n",
       " 'Import-Export-Services',\n",
       " 'Personal-Financial-Planning',\n",
       " 'Travel-Insurance']"
      ]
     },
     "execution_count": 147,
     "metadata": {},
     "output_type": "execute_result"
    }
   ],
   "source": [
    "new_intents = response.replace(']</s>',\"\").split('[')[-1].split(',')\n",
    "new_intents = [intent.strip().replace(' ','-').replace('\\n]','')[1:-1] for intent in new_intents]\n",
    "new_intents"
   ]
  },
  {
   "cell_type": "code",
   "execution_count": 148,
   "id": "d73e6258-a352-43f9-889b-420bcc5cb2e9",
   "metadata": {},
   "outputs": [
    {
     "data": {
      "text/plain": [
       "71"
      ]
     },
     "execution_count": 148,
     "metadata": {},
     "output_type": "execute_result"
    }
   ],
   "source": [
    "intents.extend(new_intents)\n",
    "len(intents)"
   ]
  },
  {
   "cell_type": "code",
   "execution_count": 153,
   "id": "68d77276-912f-4ad2-9fd4-056cb3922591",
   "metadata": {},
   "outputs": [
    {
     "name": "stderr",
     "output_type": "stream",
     "text": [
      "The attention mask and the pad token id were not set. As a consequence, you may observe unexpected behavior. Please pass your input's `attention_mask` to obtain reliable results.\n",
      "Setting `pad_token_id` to `eos_token_id`:2 for open-end generation.\n"
     ]
    },
    {
     "name": "stdout",
     "output_type": "stream",
     "text": [
      "Generate 30 new, different and diverse intents. Examples of various intents are given in the below list\n",
      " ['Cultural-Tours', 'Sightseeing-Tours', 'Household-Organization', 'Food-Bank-Donation', 'Trip-Organization', 'Dietary-Supplement-Sales', 'Dental-Care-Plans', 'Medical-Billing-and-Coding', 'Mental-Health-Support', 'All-Inclusive-Vacations']\n",
      " All intents must be unique.\n",
      " Each intent should consists of minimum 2 and maximum 3 words only.\n",
      "Dont generate same topics which are mentioned in the examples.\n",
      "Provide list of new intents in pyhton list format \n",
      "Entered main_prompter ...\n",
      "Entered the generator function\n"
     ]
    },
    {
     "data": {
      "text/plain": [
       "\"Here is a list of 30 new intents that are not included in the previous examples:\\n\\n1. 'Furniture-Assembly'\\n2. 'Meal-Planning'\\n3. 'Outdoor-Recreation'\\n4. 'Dietary-Restrictions'\\n5. 'Pet-Care'\\n6. 'Health-and-Wellness'\\n7. 'Covid-19-Support'\\n8. 'Home-Cleaning'\\n9. 'Gardening'\\n10. 'Aromatherapy'\\n11. 'Organic-Gardening'\\n12. 'Sustainable-Living'\\n13. 'Self-Care-Routines'\\n14. 'Mental-Health-Assessments'\\n15. 'Nutrition-Counseling'\\n16. 'Travel-Insurance'\\n17. 'Health-and-Safety-Tips'\\n18. 'Preparedness-Guides'\\n19. 'Crisis-Communication'\\n20. 'Mental-Health-First-Aid'\\n21. 'Disaster-Relief'\\n22. 'Community-Building'\\n23. 'Gratitude-Journals'\\n24. 'Goal-Setting'\\n25. 'Mindfulness-Exercises'\\n26. 'Natural-Remedies'\\n27. 'Personal-Finance-Planning'\\n28. 'Healthy-Eating-Recipes'\\n29. 'Stress-Management'\\n30. 'Emotional-Intelligence-Development'</s>\""
      ]
     },
     "execution_count": 153,
     "metadata": {},
     "output_type": "execute_result"
    }
   ],
   "source": [
    "instruction = \"Generate 30 new, different and diverse intents. Examples of various intents are given in the below list\\n \" + str(random.sample(intents, 10)) + \"\\n All intents must be unique.\\n Each intent should consists of minimum 2 and maximum 3 words only.\\nDont generate same topics which are mentioned in the examples.\\nProvide list of new intents in pyhton list format \"\n",
    "print(instruction)\n",
    "full_prompt = main_prompter(input_prompt = instruction)\n",
    "response = generate_response(full_prompt, temp = 1.2)\n",
    "response"
   ]
  },
  {
   "cell_type": "code",
   "execution_count": 158,
   "id": "64c6ed3c-3dc7-411a-9cd4-13b4f5fc4d00",
   "metadata": {},
   "outputs": [
    {
     "data": {
      "text/plain": [
       "['Furniture-Assembly',\n",
       " 'Meal-Planning',\n",
       " 'Outdoor-Recreation',\n",
       " 'Dietary-Restrictions',\n",
       " 'Pet-Care',\n",
       " 'Health-and-Wellness',\n",
       " 'Covid-19-Support',\n",
       " 'Home-Cleaning',\n",
       " 'Gardening',\n",
       " 'Aromatherapy',\n",
       " 'Organic-Gardening',\n",
       " 'Sustainable-Living',\n",
       " 'Self-Care-Routines',\n",
       " 'Mental-Health-Assessments',\n",
       " 'Nutrition-Counseling',\n",
       " 'Travel-Insurance',\n",
       " 'Health-and-Safety-Tips',\n",
       " 'Preparedness-Guides',\n",
       " 'Crisis-Communication',\n",
       " 'Mental-Health-First-Aid',\n",
       " 'Disaster-Relief',\n",
       " 'Community-Building',\n",
       " 'Gratitude-Journals',\n",
       " 'Goal-Setting',\n",
       " 'Mindfulness-Exercises',\n",
       " 'Natural-Remedies',\n",
       " 'Personal-Finance-Planning',\n",
       " 'Healthy-Eating-Recipes',\n",
       " 'Stress-Management',\n",
       " 'Emotional-Intelligence-Development']"
      ]
     },
     "execution_count": 158,
     "metadata": {},
     "output_type": "execute_result"
    }
   ],
   "source": [
    "new_intents = response.replace('</s>',\"\").split('\\n')[2:]\n",
    "new_intents = [intent.split(' ')[-1][1:-1] for intent in new_intents]\n",
    "new_intents"
   ]
  },
  {
   "cell_type": "code",
   "execution_count": 159,
   "id": "7ebed469-a08d-492a-989c-5a4340d10851",
   "metadata": {},
   "outputs": [
    {
     "data": {
      "text/plain": [
       "101"
      ]
     },
     "execution_count": 159,
     "metadata": {},
     "output_type": "execute_result"
    }
   ],
   "source": [
    "intents.extend(new_intents)\n",
    "len(intents)"
   ]
  },
  {
   "cell_type": "code",
   "execution_count": 160,
   "id": "cc5c0677-8516-4499-aa86-5d1c485cec9d",
   "metadata": {},
   "outputs": [
    {
     "data": {
      "text/plain": [
       "100"
      ]
     },
     "execution_count": 160,
     "metadata": {},
     "output_type": "execute_result"
    }
   ],
   "source": [
    "intents = list(set(intents))\n",
    "len(intents)"
   ]
  },
  {
   "cell_type": "code",
   "execution_count": 161,
   "id": "fd08301c-b3fc-43fc-870c-7386a346d96d",
   "metadata": {},
   "outputs": [
    {
     "data": {
      "text/plain": [
       "['Private-Pilot-Lessons',\n",
       " 'Tourism-Packages',\n",
       " 'Vineyard-Tours',\n",
       " 'Motorcycle-Excursions',\n",
       " 'Online-Tutoring',\n",
       " 'Food-and-Wine-Tours',\n",
       " 'Product Warranty Information',\n",
       " 'Budget-Travel-Packages',\n",
       " 'Wine-Tastings',\n",
       " 'Food-Bank-Donation',\n",
       " 'Home-Cleaning',\n",
       " 'Hotel Room Availability',\n",
       " 'Gratitude-Journals',\n",
       " 'Medical-Billing-and-Coding',\n",
       " 'Bank Account Balance',\n",
       " 'Sustainable-Living',\n",
       " 'Health-and-Safety-Tips',\n",
       " 'Housing-Loan-Counseling',\n",
       " 'Trip-Organization',\n",
       " 'Transportation-Services',\n",
       " 'Online-Translation-Services',\n",
       " 'Pet-Sitting-Services',\n",
       " 'Mindfulness-Exercises',\n",
       " 'Luxury-Car-Rentals',\n",
       " 'Airplane-Charter',\n",
       " 'Small-Business-Loans',\n",
       " 'Art-Tutoring',\n",
       " 'Cruise-Ship-Reservations',\n",
       " 'Dietary-Restrictions',\n",
       " 'Travel-Agent-Services',\n",
       " 'Ski-Resort-Bookings',\n",
       " 'Medical Appointment Scheduling',\n",
       " 'Shipping-Inquiry',\n",
       " 'Dietary-Supplement-Sales',\n",
       " 'Import-Export-Services',\n",
       " 'Health-and-Wellness',\n",
       " 'Pet-Care',\n",
       " 'Nutrition-Counseling',\n",
       " 'Job Application Status',\n",
       " 'Natural-Remedies',\n",
       " 'Personal-Financial-Planning',\n",
       " 'Fishing-Charters',\n",
       " 'All-Inclusive-Vacations',\n",
       " 'Airport-Taxis',\n",
       " 'Mental-Health-Support',\n",
       " 'Private-Island-Resorts',\n",
       " 'Private-Boat-Charters',\n",
       " 'Camping-Trips',\n",
       " 'Mental-Health-First-Aid',\n",
       " 'Covid-19-Support',\n",
       " 'Travel-Insurance',\n",
       " 'Insurance Info',\n",
       " 'Adventure-Parks',\n",
       " 'Healthy-Eating-Recipes',\n",
       " 'Emotional-Intelligence-Development',\n",
       " 'Skydiving-Excursions',\n",
       " 'Aromatherapy',\n",
       " 'Nature-Photography-Trips',\n",
       " 'Golf-Course-Reservations',\n",
       " 'Crisis-Communication',\n",
       " 'Community-Building',\n",
       " 'Hotel-Room-Cleaning',\n",
       " 'Yacht-Charter',\n",
       " 'Stress-Management',\n",
       " 'Restaurant Reservation',\n",
       " 'Self-Care-Routines',\n",
       " 'Personal-Finance-Planning',\n",
       " 'Personalized-Travel-Plans',\n",
       " 'Career-Coaching',\n",
       " 'Outdoor-Recreation',\n",
       " 'flight-cancellation',\n",
       " 'Educational Course Enrollment',\n",
       " 'Ziplining-Adventures',\n",
       " 'Child-Care-Services',\n",
       " 'Private-Jet-Reservations',\n",
       " 'book-a-ticket',\n",
       " 'Weather Forecast',\n",
       " 'Gardening',\n",
       " 'Mental-Health-Assessments',\n",
       " 'Home-Repair-Services',\n",
       " 'Car Rental Reservation',\n",
       " 'Organic-Gardening',\n",
       " 'Disaster-Relief',\n",
       " 'Mountain-Biking-Rentals',\n",
       " 'Dental-Care-Plans',\n",
       " 'Cultural-Tours',\n",
       " 'Helicopter-Rides',\n",
       " 'Technical Support',\n",
       " 'Household-Organization',\n",
       " 'Preparedness-Guides',\n",
       " 'Goal-Setting',\n",
       " 'Event-Planning-Services',\n",
       " 'check-reservation',\n",
       " 'Motorcycle-Rental',\n",
       " 'Sightseeing-Tours',\n",
       " 'Teacher-Employment',\n",
       " 'Meal-Planning',\n",
       " 'Furniture-Assembly',\n",
       " 'Private-Beach-Club-Rentals',\n",
       " 'Personal-Fitness-Training']"
      ]
     },
     "execution_count": 161,
     "metadata": {},
     "output_type": "execute_result"
    }
   ],
   "source": [
    "intents"
   ]
  },
  {
   "cell_type": "markdown",
   "id": "15188e2a-5556-4dd4-9099-66b332c57c16",
   "metadata": {
    "jp-MarkdownHeadingCollapsed": true
   },
   "source": [
    "# Example Curation"
   ]
  },
  {
   "cell_type": "code",
   "execution_count": 266,
   "id": "3139b6b2-a1fb-42d1-8871-97564b27dce1",
   "metadata": {},
   "outputs": [],
   "source": [
    "import json\n",
    "import ast"
   ]
  },
  {
   "cell_type": "code",
   "execution_count": 278,
   "id": "72261ef9-77d9-4dc2-b2f4-c93ee6d8cf5e",
   "metadata": {},
   "outputs": [],
   "source": [
    "seed_data = [{\n",
    "  \"name\": \"book-a-ticket\",\n",
    "  \"examples\": [\n",
    "    \"I want to book a ticket from Hyderabad to Chennai\",\n",
    "    \"I'd like to book a plane ticket for a flight on August 25th\",\n",
    "    \"Can you help me reserve a seat on a flight from New York to Los Angeles?\",\n",
    "    \"I'm interested in flying to Paris from London on the 10th of September.\",\n",
    "    \"I want to travel to Tokyo and I need a ticket for a flight next week.\",\n",
    "    \"Could you assist me in booking a flight from Chicago to Miami on the 15th of October?\",\n",
    "    \"I'm looking for a round-trip ticket from San Francisco to Seattle for the weekend of November 5th.\",\n",
    "    \"I need to get to Dubai from Mumbai, preferably on a direct flight.\",\n",
    "    \"Can you check for available flights from Toronto to Vancouver for the 20th of December?\",\n",
    "    \"I'm planning a trip to Rome, and I'd like to book a business class ticket with extra legroom.\",\n",
    "    \"I want to fly to London, departing on the 8th of January and returning on the 20th.\"\n",
    "  ]\n",
    "},\n",
    "{\n",
    "  \"name\": \"check-reservation\",\n",
    "  \"examples\": [\n",
    "    \"What's the reservation status for booking ID ABC123?\",\n",
    "    \"Can you provide me with the current boarding status for my flight?\",\n",
    "    \"I'd like to know if my reservation for flight XYZ456 is confirmed.\",\n",
    "    \"What's the seat number allocated for my reservation with confirmation number DEF789?\",\n",
    "    \"Has there been any seat upgrade for my booking on flight LMN567?\",\n",
    "    \"Can you check the reservation status for the email address john.doe@email.com?\",\n",
    "    \"I want to inquire about the boarding status of my flight with booking reference GHI234.\",\n",
    "    \"Please tell me the current status of my reservation for flight JKL890.\",\n",
    "    \"Has there been any change in the seat assignment for my booking on flight MNO123?\",\n",
    "    \"What's the reservation status for my ticket on the flight with departure code PQR456?\"\n",
    "  ]\n",
    "}\n",
    "            ]\n"
   ]
  },
  {
   "cell_type": "code",
   "execution_count": null,
   "id": "018541ab-763c-4d51-8354-0c6f89b679a4",
   "metadata": {},
   "outputs": [],
   "source": [
    "counter = 0\n",
    "invalid = 0\n",
    "\n",
    "for intent in intents:\n",
    "    \n",
    "    if intent in ['book-a-ticket','check-reservation','flight-cancellation']:\n",
    "        continue\n",
    "\n",
    "    example = random.choice(seed_data)\n",
    "    \n",
    "    one_shot_prompt = f\"\"\"\n",
    "    See below dictiona data point which has two keys 'name' and 'examples'. 'name' key represents the intent.\n",
    "    'examples' key contains examples related to this intent.\n",
    "    Below is a sample data point for intent {example[\"name\"]} and corresponding examples.\n",
    "    \n",
    "    {example}\n",
    "    \n",
    "    Create a data point following the exact same format for intent {intent} and always use \"\" for strings.\n",
    "    Do not use placeholder for entities.\n",
    "    \"\"\"\n",
    "    full_prompt = main_prompter(input_prompt = one_shot_prompt)\n",
    "    response = generate_response(full_prompt, temp = 1.2)\n",
    "    new_data_point = '{' + response[response.find(\"{\")+1:response.find(\"}\")+1]\n",
    "    \n",
    "    try:\n",
    "        new_data_point = ast.literal_eval(new_data_point)\n",
    "        seed_data.append(new_data_point)\n",
    "        counter += 1\n",
    "        \n",
    "    except Exception as e:\n",
    "        invalid += 1\n",
    "        \n",
    "    if counter % 5 == 0: print(f'{counter} data points generated ')\n",
    "    "
   ]
  },
  {
   "cell_type": "code",
   "execution_count": 280,
   "id": "d6a81c5e-be53-413f-8edf-352b9995f1ab",
   "metadata": {},
   "outputs": [
    {
     "data": {
      "text/plain": [
       "94"
      ]
     },
     "execution_count": 280,
     "metadata": {},
     "output_type": "execute_result"
    }
   ],
   "source": [
    "len(seed_data)"
   ]
  },
  {
   "cell_type": "code",
   "execution_count": null,
   "id": "6d1d71b6-1903-4c4d-b415-3adec68f0132",
   "metadata": {},
   "outputs": [],
   "source": []
  },
  {
   "cell_type": "code",
   "execution_count": 282,
   "id": "a26c3a1e-cd05-41c9-a217-5d5029cd6a15",
   "metadata": {},
   "outputs": [],
   "source": [
    "with open(\"intents.json\", \"w\") as file:\n",
    "    json.dump(seed_data, file)\n"
   ]
  },
  {
   "cell_type": "markdown",
   "id": "a7f3b73b-81c9-423c-88cb-359d39b5a7ef",
   "metadata": {},
   "source": [
    "# Utterance Generation"
   ]
  },
  {
   "cell_type": "code",
   "execution_count": 345,
   "id": "996a13bc-299b-46d4-a673-e610c9a1a364",
   "metadata": {},
   "outputs": [],
   "source": [
    "with open('intents.json', 'r') as f:\n",
    "    intents = json.load(f)"
   ]
  },
  {
   "cell_type": "code",
   "execution_count": 346,
   "id": "07254d72-fafc-42f5-a5a8-422396081f0a",
   "metadata": {},
   "outputs": [],
   "source": [
    "example = {\n",
    "  \"name\": \"check-reservation\",\n",
    "  \"examples\": [\n",
    "    \"What's the reservation status for booking ID ABC123?\",\n",
    "    \"Can you provide me with the current boarding status for my flight?\",\n",
    "    \"I'd like to know if my reservation for flight XYZ456 is confirmed.\",\n",
    "    \"What's the seat number allocated for my reservation with confirmation number DEF789?\",\n",
    "    \"Has there been any seat upgrade for my booking on flight LMN567?\",\n",
    "    \"Can you check the reservation status for the email address john.doe@email.com?\",\n",
    "    \"I want to inquire about the boarding status of my flight with booking reference GHI234.\",\n",
    "    \"Please tell me the current status of my reservation for flight JKL890.\",\n",
    "    \"Has there been any change in the seat assignment for my booking on flight MNO123?\",\n",
    "    \"What's the reservation status for my ticket on the flight with departure code PQR456?\"\n",
    "  ]\n",
    "}\n"
   ]
  },
  {
   "cell_type": "code",
   "execution_count": null,
   "id": "027a2a9d-a516-42c9-9857-f6fcd4c81e0d",
   "metadata": {},
   "outputs": [],
   "source": [
    "utterances = []\n",
    "counter = 0\n",
    "\n",
    "for intent in intents:\n",
    "\n",
    "    print(intent['name'])\n",
    "    \n",
    "    one_shot_prompt = f\"\"\"\n",
    "\n",
    "    For below example data point \n",
    "\n",
    "    {example}\n",
    "\n",
    "    corresponding utterance is  = \"Inquiring about my reservation status.\".\n",
    "    \n",
    "    Provide only 1 generic utterance for the below data point.\n",
    "    \n",
    "    {intent}\n",
    "    \n",
    "    Do not use any placeholder for entities. Always assign proper nouns.\n",
    "    \n",
    "    Utterance should contain maximum 8 words not more than that.\n",
    "    \n",
    "    Always Provide answer in a single line in this format only [\"utterance\" = \"your_answer\"]\n",
    "                                             \n",
    "    \"\"\"\n",
    "    full_prompt = main_prompter(input_prompt = one_shot_prompt)\n",
    "    response = generate_response(full_prompt, temp = 0.1)\n",
    "        \n",
    "    response = response.replace('</s>','').split(\"=\")[-1].replace(\"]\",\"\")\n",
    "    response = response.replace(\"[\",\"\")\n",
    "\n",
    "    utterances.append((intent['name'],response))\n",
    "    print(response)"
   ]
  },
  {
   "cell_type": "code",
   "execution_count": 373,
   "id": "8dbc7b90-3a1d-4431-9b18-609d07d3d50a",
   "metadata": {},
   "outputs": [
    {
     "data": {
      "text/plain": [
       "94"
      ]
     },
     "execution_count": 373,
     "metadata": {},
     "output_type": "execute_result"
    }
   ],
   "source": [
    "len(utterances)"
   ]
  },
  {
   "cell_type": "code",
   "execution_count": null,
   "id": "c977a9d4-aea0-47aa-bace-d263955671c5",
   "metadata": {},
   "outputs": [],
   "source": [
    "for i,item in enumerate(utterances):\n",
    "    print(i,item[-1])\n",
    "    print(\"--------\")"
   ]
  },
  {
   "cell_type": "code",
   "execution_count": 383,
   "id": "ec12e912-3fe5-4b48-82d6-ef1c7cf451e6",
   "metadata": {},
   "outputs": [],
   "source": [
    "utterances[31] = ('Shipping-Inquiry','Inquiring about my package delivery status.')"
   ]
  },
  {
   "cell_type": "code",
   "execution_count": 388,
   "id": "52f28b83-5273-44b4-924f-0c7ae06d61c2",
   "metadata": {},
   "outputs": [],
   "source": [
    "utterances[59] = ('Hotel-Room-Cleaning',\"Inquiring about the cleaning status of my hotel room.\")"
   ]
  },
  {
   "cell_type": "code",
   "execution_count": 392,
   "id": "de63f668-c1f2-4bfe-8229-99146bdf92ef",
   "metadata": {},
   "outputs": [],
   "source": [
    "import pickle\n",
    "\n",
    "with open('utterances.pkl', 'wb') as f:\n",
    "    pickle.dump(utterances, f)"
   ]
  },
  {
   "cell_type": "code",
   "execution_count": 393,
   "id": "15592ba9-57a3-4eca-83ae-dd3b88c464c2",
   "metadata": {},
   "outputs": [],
   "source": [
    "with open('utterances.pkl', 'rb') as f:\n",
    "    loaded_utterances = pickle.load(f)"
   ]
  },
  {
   "cell_type": "code",
   "execution_count": null,
   "id": "bcdb8ea2-0a90-4154-9333-74902073fa8f",
   "metadata": {},
   "outputs": [],
   "source": [
    "loaded_utterances"
   ]
  },
  {
   "cell_type": "code",
   "execution_count": null,
   "id": "de9a3dd4-69ed-4a26-9c55-77185600348a",
   "metadata": {},
   "outputs": [],
   "source": []
  }
 ],
 "metadata": {
  "kernelspec": {
   "display_name": "Python 3",
   "language": "python",
   "name": "python3"
  },
  "language_info": {
   "codemirror_mode": {
    "name": "ipython",
    "version": 3
   },
   "file_extension": ".py",
   "mimetype": "text/x-python",
   "name": "python",
   "nbconvert_exporter": "python",
   "pygments_lexer": "ipython3",
   "version": "3.8.10"
  }
 },
 "nbformat": 4,
 "nbformat_minor": 5
}
